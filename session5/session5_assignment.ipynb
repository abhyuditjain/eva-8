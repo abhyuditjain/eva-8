{
  "nbformat": 4,
  "nbformat_minor": 0,
  "metadata": {
    "colab": {
      "provenance": []
    },
    "kernelspec": {
      "name": "python3",
      "display_name": "Python 3"
    },
    "language_info": {
      "name": "python"
    },
    "accelerator": "GPU",
    "gpuClass": "standard"
  },
  "cells": [
    {
      "cell_type": "markdown",
      "source": [
        "# Assignment 5\n",
        "\n",
        "1. You are making 3 versions of your 4th assignment's best model (or pick one from best assignments):\n",
        "  1. Network with Group Normalization\n",
        "  2. Network with Layer Normalization\n",
        "  3. Network with L1 + Batch Normalization\n",
        "\n",
        "2. You MUST:\n",
        "  1. Write a single model.py file that includes GN/LN/BN and takes an argument to decide which normalization to include\n",
        "  2. Write a single notebook file to run all the 3 models above for 20 epochs each\n",
        "  3. Create these graphs:\n",
        "    1. Graph 1: Test/Validation Loss for all 3 models together\n",
        "    2. Graph 2: Test/Validation Accuracy for 3 models together\n",
        "    3. Graphs must have proper annotation\n",
        "3. Find 10 misclassified images for each of the 3 models, and show them as a 5x2 image matrix in 3 separately annotated images. \n",
        "4. Write an explanatory README file that explains:\n",
        "  1. What is your code all about?\n",
        "  2. How to perform the 3 normalizations techniques that we covered(cannot use values from the excel sheet shared)\n",
        "  3. Your findings for normalization techniques\n",
        "  4. Add all your graphs\n",
        "  5. Your 3 collection of misclassified images \n",
        "\n",
        "Upload your complete assignment on GitHub and share the link on LMS"
      ],
      "metadata": {
        "id": "-UhXDhGYG8mD"
      }
    },
    {
      "cell_type": "markdown",
      "source": [
        "# Install packages"
      ],
      "metadata": {
        "id": "CJDZjcv2IkAG"
      }
    },
    {
      "cell_type": "code",
      "source": [
        "!pip install torchinfo"
      ],
      "metadata": {
        "colab": {
          "base_uri": "https://localhost:8080/"
        },
        "id": "kJxB948LImQD",
        "outputId": "d6a7e92f-0dba-4fb7-98b6-4905226fba52"
      },
      "execution_count": 83,
      "outputs": [
        {
          "output_type": "stream",
          "name": "stdout",
          "text": [
            "Looking in indexes: https://pypi.org/simple, https://us-python.pkg.dev/colab-wheels/public/simple/\n",
            "Requirement already satisfied: torchinfo in /usr/local/lib/python3.8/dist-packages (1.7.1)\n"
          ]
        }
      ]
    },
    {
      "cell_type": "markdown",
      "source": [
        "# Clone the repo with model.py"
      ],
      "metadata": {
        "id": "bUSls5FeGRaY"
      }
    },
    {
      "cell_type": "code",
      "execution_count": 84,
      "metadata": {
        "colab": {
          "base_uri": "https://localhost:8080/"
        },
        "id": "X1pD2KWzGBOJ",
        "outputId": "446c667f-7f50-474a-8d88-f278872764f4"
      },
      "outputs": [
        {
          "output_type": "stream",
          "name": "stdout",
          "text": [
            "Cloning into 'eva-8'...\n",
            "remote: Enumerating objects: 73, done.\u001b[K\n",
            "remote: Counting objects: 100% (73/73), done.\u001b[K\n",
            "remote: Compressing objects: 100% (54/54), done.\u001b[K\n",
            "remote: Total 73 (delta 23), reused 67 (delta 17), pack-reused 0\u001b[K\n",
            "Unpacking objects: 100% (73/73), 1.60 MiB | 1.78 MiB/s, done.\n",
            "import torch.nn as nn\n",
            "import torch.nn.functional as F\n",
            "\n",
            "\n",
            "def normalizer(method, out_channels):\n",
            "    if method not in [\"BN\", \"GN\", \"LN\"]:\n",
            "        raise ValueError(\"Invalid method of normalization\")\n",
            "\n",
            "    if method == \"BN\":\n",
            "        return nn.BatchNorm2d(out_channels)\n",
            "    elif method == \"LN\":\n",
            "        return nn.GroupNorm(1, out_channels)\n",
            "    else:\n",
            "        return nn.GroupNorm(5, out_channels)\n",
            "\n",
            "\n",
            "class Net(nn.Module):\n",
            "    def __init__(self, normalization_method=\"BN\"):\n",
            "        \"\"\"\n",
            "        Default normalization = batch normalization\n",
            "        \"\"\"\n",
            "        super(Net, self).__init__()\n",
            "        # Input Block\n",
            "        self.conv0 = nn.Sequential(\n",
            "            nn.Conv2d(\n",
            "                in_channels=1,\n",
            "                out_channels=10,\n",
            "                kernel_size=(3, 3),\n",
            "                padding=0,\n",
            "                bias=False,\n",
            "            ),  # output_size = 26\n",
            "            nn.ReLU(),\n",
            "            normalizer(normalization_method, 10),\n",
            "            nn.Dropout(0.05),\n",
            "        )\n",
            "\n",
            "        # Convolution 1\n",
            "        self.conv1 = nn.Sequential(\n",
            "            nn.Conv2d(\n",
            "                in_channels=10,\n",
            "                out_channels=20,\n",
            "                kernel_size=(3, 3),\n",
            "                padding=0,\n",
            "                bias=False,\n",
            "            ),  # output_size = 24\n",
            "            nn.ReLU(),\n",
            "            normalizer(normalization_method, 20),\n",
            "            nn.Dropout(0.05),\n",
            "        )\n",
            "\n",
            "        # Transition 1\n",
            "        self.trans1 = nn.Sequential(\n",
            "            nn.Conv2d(\n",
            "                in_channels=20,\n",
            "                out_channels=10,\n",
            "                kernel_size=(1, 1),\n",
            "                padding=0,\n",
            "                bias=False,\n",
            "            ),  # output_size = 24\n",
            "            nn.MaxPool2d(2, 2),  # output_size = 12\n",
            "        )\n",
            "\n",
            "        # Convolution 2\n",
            "        self.conv2 = nn.Sequential(\n",
            "            nn.Conv2d(\n",
            "                in_channels=10,\n",
            "                out_channels=20,\n",
            "                kernel_size=(3, 3),\n",
            "                padding=0,\n",
            "                bias=False,\n",
            "            ),  # output_size = 10\n",
            "            nn.ReLU(),\n",
            "            normalizer(normalization_method, 20),\n",
            "            nn.Dropout(0.05),\n",
            "        )\n",
            "\n",
            "        self.conv3 = nn.Sequential(\n",
            "            nn.Conv2d(\n",
            "                in_channels=20,\n",
            "                out_channels=10,\n",
            "                kernel_size=(3, 3),\n",
            "                padding=0,\n",
            "                bias=False,\n",
            "            ),  # output_size = 8\n",
            "            nn.ReLU(),\n",
            "            normalizer(normalization_method, 10),\n",
            "            nn.Dropout(0.05),\n",
            "        )\n",
            "\n",
            "        self.conv4 = nn.Sequential(\n",
            "            nn.Conv2d(\n",
            "                in_channels=10,\n",
            "                out_channels=10,\n",
            "                kernel_size=(3, 3),\n",
            "                padding=0,\n",
            "                bias=False,\n",
            "            ),  # output_size = 6\n",
            "            nn.ReLU(),\n",
            "            normalizer(normalization_method, 10),\n",
            "            nn.Dropout(0.05),\n",
            "        )\n",
            "\n",
            "        self.conv5 = nn.Sequential(\n",
            "            nn.Conv2d(\n",
            "                in_channels=10,\n",
            "                out_channels=10,\n",
            "                kernel_size=(3, 3),\n",
            "                padding=1,\n",
            "                bias=False,\n",
            "            ),  # output_size = 6\n",
            "            nn.ReLU(),\n",
            "            normalizer(normalization_method, 10),\n",
            "            nn.Dropout(0.05),\n",
            "        )\n",
            "\n",
            "        self.gap = nn.Sequential(nn.AvgPool2d(kernel_size=6))  # output_size = 1\n",
            "\n",
            "        self.conv6 = nn.Sequential(\n",
            "            nn.Conv2d(\n",
            "                in_channels=10,\n",
            "                out_channels=10,\n",
            "                kernel_size=(1, 1),\n",
            "                padding=0,\n",
            "                bias=False,\n",
            "            ),\n",
            "        )\n",
            "\n",
            "    def forward(self, x):\n",
            "        x = self.conv0(x)\n",
            "        x = self.conv1(x)\n",
            "        x = self.trans1(x)\n",
            "        x = self.conv2(x)\n",
            "        x = self.conv3(x)\n",
            "        x = self.conv4(x)\n",
            "        x = self.conv5(x)\n",
            "        x = self.gap(x)\n",
            "        x = self.conv6(x)\n",
            "        x = x.view(-1, 10)\n",
            "\n",
            "        return F.log_softmax(x, dim=-1)\n"
          ]
        }
      ],
      "source": [
        "!rm -rf *.py\n",
        "!git clone https://github.com/abhyuditjain/eva-8\n",
        "!mv eva-8/session5/model.py .\n",
        "!rm -rf eva-8\n",
        "\n",
        "!cat model.py"
      ]
    },
    {
      "cell_type": "code",
      "source": [
        "import torch\n",
        "import torch.nn as nn\n",
        "import torch.nn.functional as F\n",
        "import torch.optim as optim\n",
        "from torchvision import datasets, transforms\n",
        "from torchinfo import summary\n",
        "import numpy as np\n",
        "from model import *"
      ],
      "metadata": {
        "id": "Tlvr6nfnH8iy"
      },
      "execution_count": 85,
      "outputs": []
    },
    {
      "cell_type": "markdown",
      "source": [
        "# Set up transforms"
      ],
      "metadata": {
        "id": "HHPxg49kQll3"
      }
    },
    {
      "cell_type": "code",
      "source": [
        "# Train Phase transformations\n",
        "train_transforms = transforms.Compose([\n",
        "                                       transforms.RandomRotation((-7.0, 7.0), fill=(1,)),\n",
        "                                       transforms.ToTensor(),\n",
        "                                       transforms.Normalize((0.1307,), (0.3081,))\n",
        "                                       ])\n",
        "\n",
        "# Test Phase transformations\n",
        "test_transforms = transforms.Compose([\n",
        "                                       transforms.ToTensor(),\n",
        "                                       transforms.Normalize((0.1307,), (0.3081,))\n",
        "                                       ])"
      ],
      "metadata": {
        "id": "XBv_4qsNIUT0"
      },
      "execution_count": 86,
      "outputs": []
    },
    {
      "cell_type": "markdown",
      "source": [
        "# Download dataset and apply transforms"
      ],
      "metadata": {
        "id": "3NjJPc8VQowe"
      }
    },
    {
      "cell_type": "code",
      "source": [
        "train = datasets.MNIST('./data', train=True, download=True, transform=train_transforms)\n",
        "test = datasets.MNIST('./data', train=False, download=True, transform=test_transforms)"
      ],
      "metadata": {
        "id": "5QR9ZrrkI5Xb"
      },
      "execution_count": 87,
      "outputs": []
    },
    {
      "cell_type": "code",
      "source": [
        "SEED = 1\n",
        "\n",
        "# CUDA?\n",
        "cuda = torch.cuda.is_available()\n",
        "print(\"CUDA Available?\", cuda)\n",
        "\n",
        "# For reproducibility\n",
        "torch.manual_seed(SEED)\n",
        "\n",
        "if cuda:\n",
        "    torch.cuda.manual_seed(SEED)\n",
        "\n",
        "# dataloader arguments - something you'll fetch these from cmdprmt\n",
        "dataloader_args = dict(shuffle=True, batch_size=128, num_workers=2, pin_memory=True) if cuda else dict(shuffle=True, batch_size=64)\n",
        "\n",
        "# train dataloader\n",
        "train_loader = torch.utils.data.DataLoader(train, **dataloader_args)\n",
        "\n",
        "# test dataloader\n",
        "test_loader = torch.utils.data.DataLoader(test, **dataloader_args)"
      ],
      "metadata": {
        "colab": {
          "base_uri": "https://localhost:8080/"
        },
        "id": "o1shkW69I6Qa",
        "outputId": "e306ece0-955d-40d7-861d-7cec416722a0"
      },
      "execution_count": 88,
      "outputs": [
        {
          "output_type": "stream",
          "name": "stdout",
          "text": [
            "CUDA Available? True\n"
          ]
        }
      ]
    },
    {
      "cell_type": "code",
      "source": [
        "%matplotlib inline\n",
        "import matplotlib.pyplot as plt"
      ],
      "metadata": {
        "id": "kv5L3sbvJCHs"
      },
      "execution_count": 89,
      "outputs": []
    },
    {
      "cell_type": "markdown",
      "source": [
        "# Model summary"
      ],
      "metadata": {
        "id": "VicvXnraQgby"
      }
    },
    {
      "cell_type": "code",
      "source": [
        "use_cuda = torch.cuda.is_available()\n",
        "device = torch.device(\"cuda\" if use_cuda else \"cpu\")\n",
        "print('Device:', device)\n",
        "\n",
        "batch_size = 20\n",
        "\n",
        "model = Net(normalization_method='BN').to(device)\n",
        "print('\\nSummary for BN model')\n",
        "s = summary(\n",
        "    model,\n",
        "    input_size=(batch_size, 1, 28, 28),\n",
        "    verbose=1,\n",
        "    col_names=[\"kernel_size\", \"input_size\", \"output_size\", \"num_params\", \"mult_adds\", \"trainable\"],\n",
        "    row_settings=[\"var_names\"]\n",
        ")\n",
        "\n",
        "model = Net(normalization_method='LN').to(device)\n",
        "print('\\nSummary for LN model')\n",
        "s = summary(\n",
        "    model,\n",
        "    input_size=(batch_size, 1, 28, 28),\n",
        "    verbose=1,\n",
        "    col_names=[\"kernel_size\", \"input_size\", \"output_size\", \"num_params\", \"mult_adds\", \"trainable\"],\n",
        "    row_settings=[\"var_names\"]\n",
        ")\n",
        "\n",
        "model = Net(normalization_method='GN').to(device)\n",
        "print('\\nSummary for GN model')\n",
        "s = summary(\n",
        "    model,\n",
        "    input_size=(batch_size, 1, 28, 28),\n",
        "    verbose=1,\n",
        "    col_names=[\"kernel_size\", \"input_size\", \"output_size\", \"num_params\", \"mult_adds\", \"trainable\"],\n",
        "    row_settings=[\"var_names\"]\n",
        ")"
      ],
      "metadata": {
        "colab": {
          "base_uri": "https://localhost:8080/"
        },
        "id": "watuP_p9MAJq",
        "outputId": "76afd043-f307-4d87-d2fb-ab800e5d6db1"
      },
      "execution_count": 90,
      "outputs": [
        {
          "output_type": "stream",
          "name": "stdout",
          "text": [
            "Device: cuda\n",
            "\n",
            "Summary for BN model\n",
            "==============================================================================================================================================================================================\n",
            "Layer (type (var_name))                  Kernel Shape              Input Shape               Output Shape              Param #                   Mult-Adds                 Trainable\n",
            "==============================================================================================================================================================================================\n",
            "Net (Net)                                --                        [20, 1, 28, 28]           [20, 10]                  --                        --                        True\n",
            "├─Sequential (conv0)                     --                        [20, 1, 28, 28]           [20, 10, 26, 26]          --                        --                        True\n",
            "│    └─Conv2d (0)                        [3, 3]                    [20, 1, 28, 28]           [20, 10, 26, 26]          90                        1,216,800                 True\n",
            "│    └─ReLU (1)                          --                        [20, 10, 26, 26]          [20, 10, 26, 26]          --                        --                        --\n",
            "│    └─BatchNorm2d (2)                   --                        [20, 10, 26, 26]          [20, 10, 26, 26]          20                        400                       True\n",
            "│    └─Dropout (3)                       --                        [20, 10, 26, 26]          [20, 10, 26, 26]          --                        --                        --\n",
            "├─Sequential (conv1)                     --                        [20, 10, 26, 26]          [20, 20, 24, 24]          --                        --                        True\n",
            "│    └─Conv2d (0)                        [3, 3]                    [20, 10, 26, 26]          [20, 20, 24, 24]          1,800                     20,736,000                True\n",
            "│    └─ReLU (1)                          --                        [20, 20, 24, 24]          [20, 20, 24, 24]          --                        --                        --\n",
            "│    └─BatchNorm2d (2)                   --                        [20, 20, 24, 24]          [20, 20, 24, 24]          40                        800                       True\n",
            "│    └─Dropout (3)                       --                        [20, 20, 24, 24]          [20, 20, 24, 24]          --                        --                        --\n",
            "├─Sequential (trans1)                    --                        [20, 20, 24, 24]          [20, 10, 12, 12]          --                        --                        True\n",
            "│    └─Conv2d (0)                        [1, 1]                    [20, 20, 24, 24]          [20, 10, 24, 24]          200                       2,304,000                 True\n",
            "│    └─MaxPool2d (1)                     2                         [20, 10, 24, 24]          [20, 10, 12, 12]          --                        --                        --\n",
            "├─Sequential (conv2)                     --                        [20, 10, 12, 12]          [20, 20, 10, 10]          --                        --                        True\n",
            "│    └─Conv2d (0)                        [3, 3]                    [20, 10, 12, 12]          [20, 20, 10, 10]          1,800                     3,600,000                 True\n",
            "│    └─ReLU (1)                          --                        [20, 20, 10, 10]          [20, 20, 10, 10]          --                        --                        --\n",
            "│    └─BatchNorm2d (2)                   --                        [20, 20, 10, 10]          [20, 20, 10, 10]          40                        800                       True\n",
            "│    └─Dropout (3)                       --                        [20, 20, 10, 10]          [20, 20, 10, 10]          --                        --                        --\n",
            "├─Sequential (conv3)                     --                        [20, 20, 10, 10]          [20, 10, 8, 8]            --                        --                        True\n",
            "│    └─Conv2d (0)                        [3, 3]                    [20, 20, 10, 10]          [20, 10, 8, 8]            1,800                     2,304,000                 True\n",
            "│    └─ReLU (1)                          --                        [20, 10, 8, 8]            [20, 10, 8, 8]            --                        --                        --\n",
            "│    └─BatchNorm2d (2)                   --                        [20, 10, 8, 8]            [20, 10, 8, 8]            20                        400                       True\n",
            "│    └─Dropout (3)                       --                        [20, 10, 8, 8]            [20, 10, 8, 8]            --                        --                        --\n",
            "├─Sequential (conv4)                     --                        [20, 10, 8, 8]            [20, 10, 6, 6]            --                        --                        True\n",
            "│    └─Conv2d (0)                        [3, 3]                    [20, 10, 8, 8]            [20, 10, 6, 6]            900                       648,000                   True\n",
            "│    └─ReLU (1)                          --                        [20, 10, 6, 6]            [20, 10, 6, 6]            --                        --                        --\n",
            "│    └─BatchNorm2d (2)                   --                        [20, 10, 6, 6]            [20, 10, 6, 6]            20                        400                       True\n",
            "│    └─Dropout (3)                       --                        [20, 10, 6, 6]            [20, 10, 6, 6]            --                        --                        --\n",
            "├─Sequential (conv5)                     --                        [20, 10, 6, 6]            [20, 10, 6, 6]            --                        --                        True\n",
            "│    └─Conv2d (0)                        [3, 3]                    [20, 10, 6, 6]            [20, 10, 6, 6]            900                       648,000                   True\n",
            "│    └─ReLU (1)                          --                        [20, 10, 6, 6]            [20, 10, 6, 6]            --                        --                        --\n",
            "│    └─BatchNorm2d (2)                   --                        [20, 10, 6, 6]            [20, 10, 6, 6]            20                        400                       True\n",
            "│    └─Dropout (3)                       --                        [20, 10, 6, 6]            [20, 10, 6, 6]            --                        --                        --\n",
            "├─Sequential (gap)                       --                        [20, 10, 6, 6]            [20, 10, 1, 1]            --                        --                        --\n",
            "│    └─AvgPool2d (0)                     6                         [20, 10, 6, 6]            [20, 10, 1, 1]            --                        --                        --\n",
            "├─Sequential (conv6)                     --                        [20, 10, 1, 1]            [20, 10, 1, 1]            --                        --                        True\n",
            "│    └─Conv2d (0)                        [1, 1]                    [20, 10, 1, 1]            [20, 10, 1, 1]            100                       2,000                     True\n",
            "==============================================================================================================================================================================================\n",
            "Total params: 7,750\n",
            "Trainable params: 7,750\n",
            "Non-trainable params: 0\n",
            "Total mult-adds (M): 31.46\n",
            "==============================================================================================================================================================================================\n",
            "Input size (MB): 0.06\n",
            "Forward/backward pass size (MB): 7.85\n",
            "Params size (MB): 0.03\n",
            "Estimated Total Size (MB): 7.94\n",
            "==============================================================================================================================================================================================\n",
            "\n",
            "Summary for LN model\n",
            "==============================================================================================================================================================================================\n",
            "Layer (type (var_name))                  Kernel Shape              Input Shape               Output Shape              Param #                   Mult-Adds                 Trainable\n",
            "==============================================================================================================================================================================================\n",
            "Net (Net)                                --                        [20, 1, 28, 28]           [20, 10]                  --                        --                        True\n",
            "├─Sequential (conv0)                     --                        [20, 1, 28, 28]           [20, 10, 26, 26]          --                        --                        True\n",
            "│    └─Conv2d (0)                        [3, 3]                    [20, 1, 28, 28]           [20, 10, 26, 26]          90                        1,216,800                 True\n",
            "│    └─ReLU (1)                          --                        [20, 10, 26, 26]          [20, 10, 26, 26]          --                        --                        --\n",
            "│    └─GroupNorm (2)                     --                        [20, 10, 26, 26]          [20, 10, 26, 26]          20                        400                       True\n",
            "│    └─Dropout (3)                       --                        [20, 10, 26, 26]          [20, 10, 26, 26]          --                        --                        --\n",
            "├─Sequential (conv1)                     --                        [20, 10, 26, 26]          [20, 20, 24, 24]          --                        --                        True\n",
            "│    └─Conv2d (0)                        [3, 3]                    [20, 10, 26, 26]          [20, 20, 24, 24]          1,800                     20,736,000                True\n",
            "│    └─ReLU (1)                          --                        [20, 20, 24, 24]          [20, 20, 24, 24]          --                        --                        --\n",
            "│    └─GroupNorm (2)                     --                        [20, 20, 24, 24]          [20, 20, 24, 24]          40                        800                       True\n",
            "│    └─Dropout (3)                       --                        [20, 20, 24, 24]          [20, 20, 24, 24]          --                        --                        --\n",
            "├─Sequential (trans1)                    --                        [20, 20, 24, 24]          [20, 10, 12, 12]          --                        --                        True\n",
            "│    └─Conv2d (0)                        [1, 1]                    [20, 20, 24, 24]          [20, 10, 24, 24]          200                       2,304,000                 True\n",
            "│    └─MaxPool2d (1)                     2                         [20, 10, 24, 24]          [20, 10, 12, 12]          --                        --                        --\n",
            "├─Sequential (conv2)                     --                        [20, 10, 12, 12]          [20, 20, 10, 10]          --                        --                        True\n",
            "│    └─Conv2d (0)                        [3, 3]                    [20, 10, 12, 12]          [20, 20, 10, 10]          1,800                     3,600,000                 True\n",
            "│    └─ReLU (1)                          --                        [20, 20, 10, 10]          [20, 20, 10, 10]          --                        --                        --\n",
            "│    └─GroupNorm (2)                     --                        [20, 20, 10, 10]          [20, 20, 10, 10]          40                        800                       True\n",
            "│    └─Dropout (3)                       --                        [20, 20, 10, 10]          [20, 20, 10, 10]          --                        --                        --\n",
            "├─Sequential (conv3)                     --                        [20, 20, 10, 10]          [20, 10, 8, 8]            --                        --                        True\n",
            "│    └─Conv2d (0)                        [3, 3]                    [20, 20, 10, 10]          [20, 10, 8, 8]            1,800                     2,304,000                 True\n",
            "│    └─ReLU (1)                          --                        [20, 10, 8, 8]            [20, 10, 8, 8]            --                        --                        --\n",
            "│    └─GroupNorm (2)                     --                        [20, 10, 8, 8]            [20, 10, 8, 8]            20                        400                       True\n",
            "│    └─Dropout (3)                       --                        [20, 10, 8, 8]            [20, 10, 8, 8]            --                        --                        --\n",
            "├─Sequential (conv4)                     --                        [20, 10, 8, 8]            [20, 10, 6, 6]            --                        --                        True\n",
            "│    └─Conv2d (0)                        [3, 3]                    [20, 10, 8, 8]            [20, 10, 6, 6]            900                       648,000                   True\n",
            "│    └─ReLU (1)                          --                        [20, 10, 6, 6]            [20, 10, 6, 6]            --                        --                        --\n",
            "│    └─GroupNorm (2)                     --                        [20, 10, 6, 6]            [20, 10, 6, 6]            20                        400                       True\n",
            "│    └─Dropout (3)                       --                        [20, 10, 6, 6]            [20, 10, 6, 6]            --                        --                        --\n",
            "├─Sequential (conv5)                     --                        [20, 10, 6, 6]            [20, 10, 6, 6]            --                        --                        True\n",
            "│    └─Conv2d (0)                        [3, 3]                    [20, 10, 6, 6]            [20, 10, 6, 6]            900                       648,000                   True\n",
            "│    └─ReLU (1)                          --                        [20, 10, 6, 6]            [20, 10, 6, 6]            --                        --                        --\n",
            "│    └─GroupNorm (2)                     --                        [20, 10, 6, 6]            [20, 10, 6, 6]            20                        400                       True\n",
            "│    └─Dropout (3)                       --                        [20, 10, 6, 6]            [20, 10, 6, 6]            --                        --                        --\n",
            "├─Sequential (gap)                       --                        [20, 10, 6, 6]            [20, 10, 1, 1]            --                        --                        --\n",
            "│    └─AvgPool2d (0)                     6                         [20, 10, 6, 6]            [20, 10, 1, 1]            --                        --                        --\n",
            "├─Sequential (conv6)                     --                        [20, 10, 1, 1]            [20, 10, 1, 1]            --                        --                        True\n",
            "│    └─Conv2d (0)                        [1, 1]                    [20, 10, 1, 1]            [20, 10, 1, 1]            100                       2,000                     True\n",
            "==============================================================================================================================================================================================\n",
            "Total params: 7,750\n",
            "Trainable params: 7,750\n",
            "Non-trainable params: 0\n",
            "Total mult-adds (M): 31.46\n",
            "==============================================================================================================================================================================================\n",
            "Input size (MB): 0.06\n",
            "Forward/backward pass size (MB): 7.85\n",
            "Params size (MB): 0.03\n",
            "Estimated Total Size (MB): 7.94\n",
            "==============================================================================================================================================================================================\n",
            "\n",
            "Summary for GN model\n",
            "==============================================================================================================================================================================================\n",
            "Layer (type (var_name))                  Kernel Shape              Input Shape               Output Shape              Param #                   Mult-Adds                 Trainable\n",
            "==============================================================================================================================================================================================\n",
            "Net (Net)                                --                        [20, 1, 28, 28]           [20, 10]                  --                        --                        True\n",
            "├─Sequential (conv0)                     --                        [20, 1, 28, 28]           [20, 10, 26, 26]          --                        --                        True\n",
            "│    └─Conv2d (0)                        [3, 3]                    [20, 1, 28, 28]           [20, 10, 26, 26]          90                        1,216,800                 True\n",
            "│    └─ReLU (1)                          --                        [20, 10, 26, 26]          [20, 10, 26, 26]          --                        --                        --\n",
            "│    └─GroupNorm (2)                     --                        [20, 10, 26, 26]          [20, 10, 26, 26]          20                        400                       True\n",
            "│    └─Dropout (3)                       --                        [20, 10, 26, 26]          [20, 10, 26, 26]          --                        --                        --\n",
            "├─Sequential (conv1)                     --                        [20, 10, 26, 26]          [20, 20, 24, 24]          --                        --                        True\n",
            "│    └─Conv2d (0)                        [3, 3]                    [20, 10, 26, 26]          [20, 20, 24, 24]          1,800                     20,736,000                True\n",
            "│    └─ReLU (1)                          --                        [20, 20, 24, 24]          [20, 20, 24, 24]          --                        --                        --\n",
            "│    └─GroupNorm (2)                     --                        [20, 20, 24, 24]          [20, 20, 24, 24]          40                        800                       True\n",
            "│    └─Dropout (3)                       --                        [20, 20, 24, 24]          [20, 20, 24, 24]          --                        --                        --\n",
            "├─Sequential (trans1)                    --                        [20, 20, 24, 24]          [20, 10, 12, 12]          --                        --                        True\n",
            "│    └─Conv2d (0)                        [1, 1]                    [20, 20, 24, 24]          [20, 10, 24, 24]          200                       2,304,000                 True\n",
            "│    └─MaxPool2d (1)                     2                         [20, 10, 24, 24]          [20, 10, 12, 12]          --                        --                        --\n",
            "├─Sequential (conv2)                     --                        [20, 10, 12, 12]          [20, 20, 10, 10]          --                        --                        True\n",
            "│    └─Conv2d (0)                        [3, 3]                    [20, 10, 12, 12]          [20, 20, 10, 10]          1,800                     3,600,000                 True\n",
            "│    └─ReLU (1)                          --                        [20, 20, 10, 10]          [20, 20, 10, 10]          --                        --                        --\n",
            "│    └─GroupNorm (2)                     --                        [20, 20, 10, 10]          [20, 20, 10, 10]          40                        800                       True\n",
            "│    └─Dropout (3)                       --                        [20, 20, 10, 10]          [20, 20, 10, 10]          --                        --                        --\n",
            "├─Sequential (conv3)                     --                        [20, 20, 10, 10]          [20, 10, 8, 8]            --                        --                        True\n",
            "│    └─Conv2d (0)                        [3, 3]                    [20, 20, 10, 10]          [20, 10, 8, 8]            1,800                     2,304,000                 True\n",
            "│    └─ReLU (1)                          --                        [20, 10, 8, 8]            [20, 10, 8, 8]            --                        --                        --\n",
            "│    └─GroupNorm (2)                     --                        [20, 10, 8, 8]            [20, 10, 8, 8]            20                        400                       True\n",
            "│    └─Dropout (3)                       --                        [20, 10, 8, 8]            [20, 10, 8, 8]            --                        --                        --\n",
            "├─Sequential (conv4)                     --                        [20, 10, 8, 8]            [20, 10, 6, 6]            --                        --                        True\n",
            "│    └─Conv2d (0)                        [3, 3]                    [20, 10, 8, 8]            [20, 10, 6, 6]            900                       648,000                   True\n",
            "│    └─ReLU (1)                          --                        [20, 10, 6, 6]            [20, 10, 6, 6]            --                        --                        --\n",
            "│    └─GroupNorm (2)                     --                        [20, 10, 6, 6]            [20, 10, 6, 6]            20                        400                       True\n",
            "│    └─Dropout (3)                       --                        [20, 10, 6, 6]            [20, 10, 6, 6]            --                        --                        --\n",
            "├─Sequential (conv5)                     --                        [20, 10, 6, 6]            [20, 10, 6, 6]            --                        --                        True\n",
            "│    └─Conv2d (0)                        [3, 3]                    [20, 10, 6, 6]            [20, 10, 6, 6]            900                       648,000                   True\n",
            "│    └─ReLU (1)                          --                        [20, 10, 6, 6]            [20, 10, 6, 6]            --                        --                        --\n",
            "│    └─GroupNorm (2)                     --                        [20, 10, 6, 6]            [20, 10, 6, 6]            20                        400                       True\n",
            "│    └─Dropout (3)                       --                        [20, 10, 6, 6]            [20, 10, 6, 6]            --                        --                        --\n",
            "├─Sequential (gap)                       --                        [20, 10, 6, 6]            [20, 10, 1, 1]            --                        --                        --\n",
            "│    └─AvgPool2d (0)                     6                         [20, 10, 6, 6]            [20, 10, 1, 1]            --                        --                        --\n",
            "├─Sequential (conv6)                     --                        [20, 10, 1, 1]            [20, 10, 1, 1]            --                        --                        True\n",
            "│    └─Conv2d (0)                        [1, 1]                    [20, 10, 1, 1]            [20, 10, 1, 1]            100                       2,000                     True\n",
            "==============================================================================================================================================================================================\n",
            "Total params: 7,750\n",
            "Trainable params: 7,750\n",
            "Non-trainable params: 0\n",
            "Total mult-adds (M): 31.46\n",
            "==============================================================================================================================================================================================\n",
            "Input size (MB): 0.06\n",
            "Forward/backward pass size (MB): 7.85\n",
            "Params size (MB): 0.03\n",
            "Estimated Total Size (MB): 7.94\n",
            "==============================================================================================================================================================================================\n"
          ]
        }
      ]
    },
    {
      "cell_type": "markdown",
      "source": [
        "# Set up training and testing helper functions"
      ],
      "metadata": {
        "id": "SOncRsxzQ0i6"
      }
    },
    {
      "cell_type": "code",
      "source": [
        "from tqdm import tqdm\n",
        "\n",
        "train_losses = {\"BN\":[],\"GN\":[],\"LN\":[]}\n",
        "test_losses = {\"BN\":[],\"GN\":[],\"LN\":[]}\n",
        "train_acc = {\"BN\":[],\"GN\":[],\"LN\":[]}\n",
        "test_acc = {\"BN\":[],\"GN\":[],\"LN\":[]}\n",
        "epoch_train_acc = {\"BN\":[],\"GN\":[],\"LN\":[]}\n",
        "\n",
        "def train(model, device, train_loader, optimizer, epoch, normalization_method, regularize_l1=False):\n",
        "  model.train()\n",
        "  pbar = tqdm(train_loader)\n",
        "  correct = 0\n",
        "  processed = 0\n",
        "  for batch_idx, (data, target) in enumerate(pbar):\n",
        "    # get samples\n",
        "    data, target = data.to(device), target.to(device)\n",
        "\n",
        "    # Init\n",
        "    optimizer.zero_grad()\n",
        "    # In PyTorch, we need to set the gradients to zero before starting to do backpropragation because PyTorch accumulates the gradients on subsequent backward passes. \n",
        "    # Because of this, when you start your training loop, ideally you should zero out the gradients so that you do the parameter update correctly.\n",
        "\n",
        "    # Predict\n",
        "    y_pred = model(data)\n",
        "\n",
        "    # Calculate loss\n",
        "    loss = F.nll_loss(y_pred, target)\n",
        "\n",
        "\n",
        "    # L1 Regularization\n",
        "    if regularize_l1:\n",
        "        l1_lambda = 1.0e-5\n",
        "        l1_loss = torch.tensor(0., requires_grad=True)\n",
        "        l1_loss=l1_loss.to(device)\n",
        "        for name, param in model.named_parameters():\n",
        "            l1_loss = l1_loss + l1_lambda*(torch.norm(param, 1))\n",
        "        loss=loss+l1_loss\n",
        "\n",
        "    train_losses[normalization_method].append(loss.item())\n",
        "    # Backpropagation\n",
        "    loss.backward()\n",
        "    optimizer.step()\n",
        "\n",
        "    # Update pbar-tqdm\n",
        "    \n",
        "    pred = y_pred.argmax(dim=1, keepdim=True)  # get the index of the max log-probability\n",
        "    correct += pred.eq(target.view_as(pred)).sum().item()\n",
        "    processed += len(data)\n",
        "\n",
        "    pbar.set_description(desc= f'LR={optimizer.param_groups[0][\"lr\"]} Loss={loss.item()} Batch_id={batch_idx} Accuracy={100*correct/processed:0.2f}')\n",
        "    train_acc[normalization_method].append(100*correct/processed)\n",
        "\n",
        "    # epoch accuracy = accuracy for the whole batch\n",
        "  epoch_train_acc[normalization_method].append(100*correct/processed)\n",
        "  return 100*correct/processed\n",
        "\n",
        "def test(model, device, test_loader, normalization_method):\n",
        "    model.eval()\n",
        "    test_loss = 0\n",
        "    correct = 0\n",
        "    with torch.no_grad():\n",
        "        for data, target in test_loader:\n",
        "            data, target = data.to(device), target.to(device)\n",
        "            output = model(data)\n",
        "            test_loss += F.nll_loss(output, target, reduction='sum').item()  # sum up batch loss\n",
        "            pred = output.argmax(dim=1, keepdim=True)  # get the index of the max log-probability\n",
        "            correct += pred.eq(target.view_as(pred)).sum().item()\n",
        "\n",
        "    test_loss /= len(test_loader.dataset)\n",
        "    test_losses[normalization_method].append(test_loss)\n",
        "\n",
        "    print('Test set: Average loss: {:.4f}, Accuracy: {}/{} ({:.2f}%)\\n'.format(\n",
        "        test_loss, correct, len(test_loader.dataset),\n",
        "        100. * correct / len(test_loader.dataset)))\n",
        "    \n",
        "    test_acc[normalization_method].append(100. * correct / len(test_loader.dataset))"
      ],
      "metadata": {
        "id": "JJ_4Sa1XQz4B"
      },
      "execution_count": 91,
      "outputs": []
    },
    {
      "cell_type": "markdown",
      "source": [
        "# Helper function to show misclassified images"
      ],
      "metadata": {
        "id": "n_KV9qABMpWC"
      }
    },
    {
      "cell_type": "code",
      "source": [
        "def show_misclassified_images(model, test_loader):\n",
        "    model.eval()\n",
        "\n",
        "    misclassified_images = []\n",
        "    \n",
        "    with torch.no_grad():\n",
        "        for data, target in test_loader:\n",
        "            data, target = data.to(device), target.to(device)\n",
        "            output = model(data)\n",
        "            _, pred = torch.max(output, 1)\n",
        "            for i in range(len(pred)):\n",
        "                if pred[i] != target[i]:\n",
        "                    misclassified_images.append({'image': data[i], 'predicted_class': pred[i], 'correct_class': target[i]})\n",
        "\n",
        "    # Plot the misclassified images\n",
        "    fig = plt.figure(figsize=(15, 5))\n",
        "    for i in range(10):\n",
        "        sub = fig.add_subplot(2, 5, i+1)\n",
        "        misclassified_image = misclassified_images[i]\n",
        "        plt.imshow(misclassified_image['image'].cpu().numpy().squeeze(), cmap='gray', interpolation='none')\n",
        "        sub.set_title(\"Correct class: {}\\nPredicted class: {}\".format(misclassified_image['correct_class'], misclassified_image['predicted_class']))\n",
        "    plt.tight_layout()\n",
        "    plt.show()"
      ],
      "metadata": {
        "id": "Ruc2eB9wMfGF"
      },
      "execution_count": 92,
      "outputs": []
    },
    {
      "cell_type": "markdown",
      "source": [
        "# **Batch Normalization + L1 Regularization**"
      ],
      "metadata": {
        "id": "l3ZlnzolciQp"
      }
    },
    {
      "cell_type": "code",
      "source": [
        "from torch.optim.lr_scheduler import ReduceLROnPlateau\n",
        "\n",
        "model =  Net(normalization_method='BN').to(device)\n",
        "optimizer = optim.SGD(model.parameters(), lr=0.3, momentum=0.9)\n",
        "scheduler = ReduceLROnPlateau(optimizer, mode='max', factor=0.1, patience=0)\n",
        "\n",
        "# Epochs as per assignment = 20\n",
        "EPOCHS = 20\n",
        "\n",
        "for epoch in range(EPOCHS):\n",
        "    print(\"EPOCH:\", epoch)\n",
        "    accuracy = train(model, device, train_loader, optimizer, epoch, normalization_method='BN', regularize_l1=True) # Regularize L1 = true\n",
        "    scheduler.step(accuracy)\n",
        "    test(model, device, test_loader, normalization_method='BN')"
      ],
      "metadata": {
        "colab": {
          "base_uri": "https://localhost:8080/"
        },
        "id": "zk2SAIpucrsl",
        "outputId": "25676543-4f6d-4104-ae13-eac8aca12232"
      },
      "execution_count": 93,
      "outputs": [
        {
          "output_type": "stream",
          "name": "stdout",
          "text": [
            "EPOCH: 0\n"
          ]
        },
        {
          "output_type": "stream",
          "name": "stderr",
          "text": [
            "LR=0.3 Loss=0.05593567341566086 Batch_id=468 Accuracy=93.65: 100%|██████████| 469/469 [00:25<00:00, 18.64it/s]\n"
          ]
        },
        {
          "output_type": "stream",
          "name": "stdout",
          "text": [
            "Test set: Average loss: 0.0652, Accuracy: 9803/10000 (98.03%)\n",
            "\n",
            "EPOCH: 1\n"
          ]
        },
        {
          "output_type": "stream",
          "name": "stderr",
          "text": [
            "LR=0.3 Loss=0.08638777583837509 Batch_id=468 Accuracy=97.46: 100%|██████████| 469/469 [00:17<00:00, 26.44it/s]\n"
          ]
        },
        {
          "output_type": "stream",
          "name": "stdout",
          "text": [
            "Test set: Average loss: 0.0444, Accuracy: 9865/10000 (98.65%)\n",
            "\n",
            "EPOCH: 2\n"
          ]
        },
        {
          "output_type": "stream",
          "name": "stderr",
          "text": [
            "LR=0.3 Loss=0.13027139008045197 Batch_id=468 Accuracy=97.93: 100%|██████████| 469/469 [00:17<00:00, 26.51it/s]\n"
          ]
        },
        {
          "output_type": "stream",
          "name": "stdout",
          "text": [
            "Test set: Average loss: 0.0388, Accuracy: 9882/10000 (98.82%)\n",
            "\n",
            "EPOCH: 3\n"
          ]
        },
        {
          "output_type": "stream",
          "name": "stderr",
          "text": [
            "LR=0.3 Loss=0.04352138191461563 Batch_id=468 Accuracy=98.14: 100%|██████████| 469/469 [00:17<00:00, 26.26it/s]\n"
          ]
        },
        {
          "output_type": "stream",
          "name": "stdout",
          "text": [
            "Test set: Average loss: 0.0398, Accuracy: 9874/10000 (98.74%)\n",
            "\n",
            "EPOCH: 4\n"
          ]
        },
        {
          "output_type": "stream",
          "name": "stderr",
          "text": [
            "LR=0.3 Loss=0.05963490530848503 Batch_id=468 Accuracy=98.32: 100%|██████████| 469/469 [00:17<00:00, 26.14it/s]\n"
          ]
        },
        {
          "output_type": "stream",
          "name": "stdout",
          "text": [
            "Test set: Average loss: 0.0289, Accuracy: 9904/10000 (99.04%)\n",
            "\n",
            "EPOCH: 5\n"
          ]
        },
        {
          "output_type": "stream",
          "name": "stderr",
          "text": [
            "LR=0.3 Loss=0.028972411528229713 Batch_id=468 Accuracy=98.50: 100%|██████████| 469/469 [00:18<00:00, 25.55it/s]\n"
          ]
        },
        {
          "output_type": "stream",
          "name": "stdout",
          "text": [
            "Test set: Average loss: 0.0311, Accuracy: 9912/10000 (99.12%)\n",
            "\n",
            "EPOCH: 6\n"
          ]
        },
        {
          "output_type": "stream",
          "name": "stderr",
          "text": [
            "LR=0.3 Loss=0.029599694535136223 Batch_id=468 Accuracy=98.61: 100%|██████████| 469/469 [00:18<00:00, 25.64it/s]\n"
          ]
        },
        {
          "output_type": "stream",
          "name": "stdout",
          "text": [
            "Test set: Average loss: 0.0282, Accuracy: 9916/10000 (99.16%)\n",
            "\n",
            "EPOCH: 7\n"
          ]
        },
        {
          "output_type": "stream",
          "name": "stderr",
          "text": [
            "LR=0.3 Loss=0.09265591949224472 Batch_id=468 Accuracy=98.67: 100%|██████████| 469/469 [00:18<00:00, 25.89it/s]\n"
          ]
        },
        {
          "output_type": "stream",
          "name": "stdout",
          "text": [
            "Test set: Average loss: 0.0273, Accuracy: 9913/10000 (99.13%)\n",
            "\n",
            "EPOCH: 8\n"
          ]
        },
        {
          "output_type": "stream",
          "name": "stderr",
          "text": [
            "LR=0.3 Loss=0.06876637041568756 Batch_id=468 Accuracy=98.66: 100%|██████████| 469/469 [00:17<00:00, 26.34it/s]\n"
          ]
        },
        {
          "output_type": "stream",
          "name": "stdout",
          "text": [
            "Test set: Average loss: 0.0248, Accuracy: 9924/10000 (99.24%)\n",
            "\n",
            "EPOCH: 9\n"
          ]
        },
        {
          "output_type": "stream",
          "name": "stderr",
          "text": [
            "LR=0.03 Loss=0.10952898859977722 Batch_id=468 Accuracy=99.08: 100%|██████████| 469/469 [00:18<00:00, 25.98it/s]\n"
          ]
        },
        {
          "output_type": "stream",
          "name": "stdout",
          "text": [
            "Test set: Average loss: 0.0178, Accuracy: 9940/10000 (99.40%)\n",
            "\n",
            "EPOCH: 10\n"
          ]
        },
        {
          "output_type": "stream",
          "name": "stderr",
          "text": [
            "LR=0.03 Loss=0.04904142767190933 Batch_id=468 Accuracy=99.17: 100%|██████████| 469/469 [00:18<00:00, 25.67it/s]\n"
          ]
        },
        {
          "output_type": "stream",
          "name": "stdout",
          "text": [
            "Test set: Average loss: 0.0167, Accuracy: 9946/10000 (99.46%)\n",
            "\n",
            "EPOCH: 11\n"
          ]
        },
        {
          "output_type": "stream",
          "name": "stderr",
          "text": [
            "LR=0.03 Loss=0.09033122658729553 Batch_id=468 Accuracy=99.12: 100%|██████████| 469/469 [00:18<00:00, 26.00it/s]\n"
          ]
        },
        {
          "output_type": "stream",
          "name": "stdout",
          "text": [
            "Test set: Average loss: 0.0169, Accuracy: 9941/10000 (99.41%)\n",
            "\n",
            "EPOCH: 12\n"
          ]
        },
        {
          "output_type": "stream",
          "name": "stderr",
          "text": [
            "LR=0.003 Loss=0.0704602375626564 Batch_id=468 Accuracy=99.18: 100%|██████████| 469/469 [00:18<00:00, 25.85it/s]\n"
          ]
        },
        {
          "output_type": "stream",
          "name": "stdout",
          "text": [
            "Test set: Average loss: 0.0168, Accuracy: 9939/10000 (99.39%)\n",
            "\n",
            "EPOCH: 13\n"
          ]
        },
        {
          "output_type": "stream",
          "name": "stderr",
          "text": [
            "LR=0.00030000000000000003 Loss=0.07420807331800461 Batch_id=468 Accuracy=99.26: 100%|██████████| 469/469 [00:18<00:00, 25.74it/s]\n"
          ]
        },
        {
          "output_type": "stream",
          "name": "stdout",
          "text": [
            "Test set: Average loss: 0.0170, Accuracy: 9942/10000 (99.42%)\n",
            "\n",
            "EPOCH: 14\n"
          ]
        },
        {
          "output_type": "stream",
          "name": "stderr",
          "text": [
            "LR=0.00030000000000000003 Loss=0.03891747444868088 Batch_id=468 Accuracy=99.20: 100%|██████████| 469/469 [00:18<00:00, 25.83it/s]\n"
          ]
        },
        {
          "output_type": "stream",
          "name": "stdout",
          "text": [
            "Test set: Average loss: 0.0171, Accuracy: 9939/10000 (99.39%)\n",
            "\n",
            "EPOCH: 15\n"
          ]
        },
        {
          "output_type": "stream",
          "name": "stderr",
          "text": [
            "LR=3.0000000000000004e-05 Loss=0.026294991374015808 Batch_id=468 Accuracy=99.17: 100%|██████████| 469/469 [00:18<00:00, 25.61it/s]\n"
          ]
        },
        {
          "output_type": "stream",
          "name": "stdout",
          "text": [
            "Test set: Average loss: 0.0169, Accuracy: 9939/10000 (99.39%)\n",
            "\n",
            "EPOCH: 16\n"
          ]
        },
        {
          "output_type": "stream",
          "name": "stderr",
          "text": [
            "LR=3.0000000000000005e-06 Loss=0.036049362272024155 Batch_id=468 Accuracy=99.23: 100%|██████████| 469/469 [00:18<00:00, 25.64it/s]\n"
          ]
        },
        {
          "output_type": "stream",
          "name": "stdout",
          "text": [
            "Test set: Average loss: 0.0172, Accuracy: 9942/10000 (99.42%)\n",
            "\n",
            "EPOCH: 17\n"
          ]
        },
        {
          "output_type": "stream",
          "name": "stderr",
          "text": [
            "LR=3.000000000000001e-07 Loss=0.04880692437291145 Batch_id=468 Accuracy=99.22: 100%|██████████| 469/469 [00:17<00:00, 26.18it/s]\n"
          ]
        },
        {
          "output_type": "stream",
          "name": "stdout",
          "text": [
            "Test set: Average loss: 0.0168, Accuracy: 9941/10000 (99.41%)\n",
            "\n",
            "EPOCH: 18\n"
          ]
        },
        {
          "output_type": "stream",
          "name": "stderr",
          "text": [
            "LR=3.000000000000001e-08 Loss=0.09690047800540924 Batch_id=468 Accuracy=99.25: 100%|██████████| 469/469 [00:18<00:00, 26.05it/s]\n"
          ]
        },
        {
          "output_type": "stream",
          "name": "stdout",
          "text": [
            "Test set: Average loss: 0.0169, Accuracy: 9942/10000 (99.42%)\n",
            "\n",
            "EPOCH: 19\n"
          ]
        },
        {
          "output_type": "stream",
          "name": "stderr",
          "text": [
            "LR=3.0000000000000012e-09 Loss=0.06316303461790085 Batch_id=468 Accuracy=99.23: 100%|██████████| 469/469 [00:18<00:00, 25.63it/s]\n"
          ]
        },
        {
          "output_type": "stream",
          "name": "stdout",
          "text": [
            "Test set: Average loss: 0.0172, Accuracy: 9939/10000 (99.39%)\n",
            "\n"
          ]
        }
      ]
    },
    {
      "cell_type": "code",
      "source": [
        "print(\"Minimum training loss = {:.9f}%\".format(min(train_losses['BN'])))\n",
        "print(\"Minimum testing loss = {:.9f}%\".format(min(test_losses['BN'])))\n",
        "print(\"Best training accuracy = {:.2f}%\".format(max(epoch_train_acc['BN'])))\n",
        "print(\"Best testing accuracy = {:.2f}%\".format(max(test_acc['BN'])))"
      ],
      "metadata": {
        "colab": {
          "base_uri": "https://localhost:8080/"
        },
        "id": "KEFuPSwfB-So",
        "outputId": "a352b7de-196d-4038-c0e2-6d0a21a162b7"
      },
      "execution_count": 108,
      "outputs": [
        {
          "output_type": "stream",
          "name": "stdout",
          "text": [
            "Minimum training loss = 0.022673793%\n",
            "Minimum testing loss = 0.016716760%\n",
            "Best training accuracy = 99.26%\n",
            "Best testing accuracy = 99.46%\n"
          ]
        }
      ]
    },
    {
      "cell_type": "markdown",
      "source": [
        "### Misclassified images (Batch normalization)"
      ],
      "metadata": {
        "id": "GC0iYyVWd4ro"
      }
    },
    {
      "cell_type": "code",
      "source": [
        "show_misclassified_images(model, test_loader)"
      ],
      "metadata": {
        "colab": {
          "base_uri": "https://localhost:8080/",
          "height": 369
        },
        "id": "-b0ixfUxNpae",
        "outputId": "1520b24a-1140-4f69-aedd-06f816b377cc"
      },
      "execution_count": 94,
      "outputs": [
        {
          "output_type": "display_data",
          "data": {
            "text/plain": [
              "<Figure size 1080x360 with 10 Axes>"
            ],
            "image/png": "[encoded data removed]"
          },
          "metadata": {
            "needs_background": "light"
          }
        }
      ]
    },
    {
      "cell_type": "markdown",
      "source": [
        "# **Layer Normalization**"
      ],
      "metadata": {
        "id": "bqOzDtuDclpE"
      }
    },
    {
      "cell_type": "code",
      "source": [
        "from torch.optim.lr_scheduler import ReduceLROnPlateau\n",
        "\n",
        "model =  Net(normalization_method='LN').to(device)\n",
        "optimizer = optim.SGD(model.parameters(), lr=0.3, momentum=0.9)\n",
        "scheduler = ReduceLROnPlateau(optimizer, mode='max', factor=0.1, patience=0)\n",
        "\n",
        "# Epochs as per assignment = 20\n",
        "EPOCHS = 20\n",
        "\n",
        "for epoch in range(EPOCHS):\n",
        "    print(\"EPOCH:\", epoch)\n",
        "    accuracy = train(model, device, train_loader, optimizer, epoch, normalization_method='LN')\n",
        "    scheduler.step(accuracy)\n",
        "    test(model, device, test_loader, normalization_method='LN')"
      ],
      "metadata": {
        "colab": {
          "base_uri": "https://localhost:8080/"
        },
        "id": "EWO0m0uKchqW",
        "outputId": "f27a450a-7e1b-4390-fe90-4caf55f73c62"
      },
      "execution_count": 95,
      "outputs": [
        {
          "output_type": "stream",
          "name": "stdout",
          "text": [
            "EPOCH: 0\n"
          ]
        },
        {
          "output_type": "stream",
          "name": "stderr",
          "text": [
            "LR=0.3 Loss=0.19688545167446136 Batch_id=468 Accuracy=80.28: 100%|██████████| 469/469 [00:23<00:00, 19.76it/s]\n"
          ]
        },
        {
          "output_type": "stream",
          "name": "stdout",
          "text": [
            "Test set: Average loss: 0.1544, Accuracy: 9525/10000 (95.25%)\n",
            "\n",
            "EPOCH: 1\n"
          ]
        },
        {
          "output_type": "stream",
          "name": "stderr",
          "text": [
            "LR=0.3 Loss=0.17611640691757202 Batch_id=468 Accuracy=95.92: 100%|██████████| 469/469 [00:16<00:00, 27.63it/s]\n"
          ]
        },
        {
          "output_type": "stream",
          "name": "stdout",
          "text": [
            "Test set: Average loss: 0.0600, Accuracy: 9815/10000 (98.15%)\n",
            "\n",
            "EPOCH: 2\n"
          ]
        },
        {
          "output_type": "stream",
          "name": "stderr",
          "text": [
            "LR=0.3 Loss=0.009374315850436687 Batch_id=468 Accuracy=97.12: 100%|██████████| 469/469 [00:16<00:00, 27.77it/s]\n"
          ]
        },
        {
          "output_type": "stream",
          "name": "stdout",
          "text": [
            "Test set: Average loss: 0.0540, Accuracy: 9810/10000 (98.10%)\n",
            "\n",
            "EPOCH: 3\n"
          ]
        },
        {
          "output_type": "stream",
          "name": "stderr",
          "text": [
            "LR=0.3 Loss=0.10807996988296509 Batch_id=468 Accuracy=97.75: 100%|██████████| 469/469 [00:16<00:00, 27.69it/s]\n"
          ]
        },
        {
          "output_type": "stream",
          "name": "stdout",
          "text": [
            "Test set: Average loss: 0.0458, Accuracy: 9855/10000 (98.55%)\n",
            "\n",
            "EPOCH: 4\n"
          ]
        },
        {
          "output_type": "stream",
          "name": "stderr",
          "text": [
            "LR=0.3 Loss=0.03563908860087395 Batch_id=468 Accuracy=97.94: 100%|██████████| 469/469 [00:17<00:00, 26.17it/s]\n"
          ]
        },
        {
          "output_type": "stream",
          "name": "stdout",
          "text": [
            "Test set: Average loss: 0.0326, Accuracy: 9897/10000 (98.97%)\n",
            "\n",
            "EPOCH: 5\n"
          ]
        },
        {
          "output_type": "stream",
          "name": "stderr",
          "text": [
            "LR=0.3 Loss=0.04524559900164604 Batch_id=468 Accuracy=98.19: 100%|██████████| 469/469 [00:17<00:00, 26.90it/s]\n"
          ]
        },
        {
          "output_type": "stream",
          "name": "stdout",
          "text": [
            "Test set: Average loss: 0.0363, Accuracy: 9886/10000 (98.86%)\n",
            "\n",
            "EPOCH: 6\n"
          ]
        },
        {
          "output_type": "stream",
          "name": "stderr",
          "text": [
            "LR=0.3 Loss=0.05531574413180351 Batch_id=468 Accuracy=98.36: 100%|██████████| 469/469 [00:16<00:00, 27.68it/s]\n"
          ]
        },
        {
          "output_type": "stream",
          "name": "stdout",
          "text": [
            "Test set: Average loss: 0.0307, Accuracy: 9905/10000 (99.05%)\n",
            "\n",
            "EPOCH: 7\n"
          ]
        },
        {
          "output_type": "stream",
          "name": "stderr",
          "text": [
            "LR=0.3 Loss=0.02167866937816143 Batch_id=468 Accuracy=98.40: 100%|██████████| 469/469 [00:17<00:00, 27.28it/s]\n"
          ]
        },
        {
          "output_type": "stream",
          "name": "stdout",
          "text": [
            "Test set: Average loss: 0.0384, Accuracy: 9889/10000 (98.89%)\n",
            "\n",
            "EPOCH: 8\n"
          ]
        },
        {
          "output_type": "stream",
          "name": "stderr",
          "text": [
            "LR=0.3 Loss=0.02600870281457901 Batch_id=468 Accuracy=98.47: 100%|██████████| 469/469 [00:17<00:00, 27.32it/s]\n"
          ]
        },
        {
          "output_type": "stream",
          "name": "stdout",
          "text": [
            "Test set: Average loss: 0.0358, Accuracy: 9894/10000 (98.94%)\n",
            "\n",
            "EPOCH: 9\n"
          ]
        },
        {
          "output_type": "stream",
          "name": "stderr",
          "text": [
            "LR=0.3 Loss=0.1127706989645958 Batch_id=468 Accuracy=98.61: 100%|██████████| 469/469 [00:16<00:00, 28.54it/s]\n"
          ]
        },
        {
          "output_type": "stream",
          "name": "stdout",
          "text": [
            "Test set: Average loss: 0.0279, Accuracy: 9921/10000 (99.21%)\n",
            "\n",
            "EPOCH: 10\n"
          ]
        },
        {
          "output_type": "stream",
          "name": "stderr",
          "text": [
            "LR=0.3 Loss=0.029108522459864616 Batch_id=468 Accuracy=98.56: 100%|██████████| 469/469 [00:16<00:00, 28.15it/s]\n"
          ]
        },
        {
          "output_type": "stream",
          "name": "stdout",
          "text": [
            "Test set: Average loss: 0.0298, Accuracy: 9896/10000 (98.96%)\n",
            "\n",
            "EPOCH: 11\n"
          ]
        },
        {
          "output_type": "stream",
          "name": "stderr",
          "text": [
            "LR=0.03 Loss=0.06603094190359116 Batch_id=468 Accuracy=98.97: 100%|██████████| 469/469 [00:16<00:00, 28.20it/s]\n"
          ]
        },
        {
          "output_type": "stream",
          "name": "stdout",
          "text": [
            "Test set: Average loss: 0.0179, Accuracy: 9941/10000 (99.41%)\n",
            "\n",
            "EPOCH: 12\n"
          ]
        },
        {
          "output_type": "stream",
          "name": "stderr",
          "text": [
            "LR=0.03 Loss=0.007164277136325836 Batch_id=468 Accuracy=99.10: 100%|██████████| 469/469 [00:16<00:00, 28.30it/s]\n"
          ]
        },
        {
          "output_type": "stream",
          "name": "stdout",
          "text": [
            "Test set: Average loss: 0.0180, Accuracy: 9940/10000 (99.40%)\n",
            "\n",
            "EPOCH: 13\n"
          ]
        },
        {
          "output_type": "stream",
          "name": "stderr",
          "text": [
            "LR=0.03 Loss=0.0232885479927063 Batch_id=468 Accuracy=99.13: 100%|██████████| 469/469 [00:16<00:00, 28.52it/s]\n"
          ]
        },
        {
          "output_type": "stream",
          "name": "stdout",
          "text": [
            "Test set: Average loss: 0.0178, Accuracy: 9943/10000 (99.43%)\n",
            "\n",
            "EPOCH: 14\n"
          ]
        },
        {
          "output_type": "stream",
          "name": "stderr",
          "text": [
            "LR=0.03 Loss=0.013080020435154438 Batch_id=468 Accuracy=99.16: 100%|██████████| 469/469 [00:16<00:00, 27.83it/s]\n"
          ]
        },
        {
          "output_type": "stream",
          "name": "stdout",
          "text": [
            "Test set: Average loss: 0.0177, Accuracy: 9944/10000 (99.44%)\n",
            "\n",
            "EPOCH: 15\n"
          ]
        },
        {
          "output_type": "stream",
          "name": "stderr",
          "text": [
            "LR=0.03 Loss=0.027428708970546722 Batch_id=468 Accuracy=99.16: 100%|██████████| 469/469 [00:17<00:00, 27.58it/s]\n"
          ]
        },
        {
          "output_type": "stream",
          "name": "stdout",
          "text": [
            "Test set: Average loss: 0.0172, Accuracy: 9943/10000 (99.43%)\n",
            "\n",
            "EPOCH: 16\n"
          ]
        },
        {
          "output_type": "stream",
          "name": "stderr",
          "text": [
            "LR=0.003 Loss=0.28271302580833435 Batch_id=468 Accuracy=99.13: 100%|██████████| 469/469 [00:16<00:00, 28.07it/s]\n"
          ]
        },
        {
          "output_type": "stream",
          "name": "stdout",
          "text": [
            "Test set: Average loss: 0.0169, Accuracy: 9953/10000 (99.53%)\n",
            "\n",
            "EPOCH: 17\n"
          ]
        },
        {
          "output_type": "stream",
          "name": "stderr",
          "text": [
            "LR=0.00030000000000000003 Loss=0.036543380469083786 Batch_id=468 Accuracy=99.17: 100%|██████████| 469/469 [00:16<00:00, 27.91it/s]\n"
          ]
        },
        {
          "output_type": "stream",
          "name": "stdout",
          "text": [
            "Test set: Average loss: 0.0168, Accuracy: 9952/10000 (99.52%)\n",
            "\n",
            "EPOCH: 18\n"
          ]
        },
        {
          "output_type": "stream",
          "name": "stderr",
          "text": [
            "LR=0.00030000000000000003 Loss=0.10148144513368607 Batch_id=468 Accuracy=99.16: 100%|██████████| 469/469 [00:16<00:00, 28.39it/s]\n"
          ]
        },
        {
          "output_type": "stream",
          "name": "stdout",
          "text": [
            "Test set: Average loss: 0.0168, Accuracy: 9952/10000 (99.52%)\n",
            "\n",
            "EPOCH: 19\n"
          ]
        },
        {
          "output_type": "stream",
          "name": "stderr",
          "text": [
            "LR=3.0000000000000004e-05 Loss=0.02906031906604767 Batch_id=468 Accuracy=99.12: 100%|██████████| 469/469 [00:16<00:00, 28.25it/s]\n"
          ]
        },
        {
          "output_type": "stream",
          "name": "stdout",
          "text": [
            "Test set: Average loss: 0.0168, Accuracy: 9952/10000 (99.52%)\n",
            "\n"
          ]
        }
      ]
    },
    {
      "cell_type": "code",
      "source": [
        "print(\"Minimum training loss = {:.9f}%\".format(min(train_losses['LN'])))\n",
        "print(\"Minimum testing loss = {:.9f}%\".format(min(test_losses['LN'])))\n",
        "print(\"Best training accuracy = {:.2f}%\".format(max(epoch_train_acc['LN'])))\n",
        "print(\"Best testing accuracy = {:.2f}%\".format(max(test_acc['LN'])))"
      ],
      "metadata": {
        "colab": {
          "base_uri": "https://localhost:8080/"
        },
        "id": "00ZdQITPCNnK",
        "outputId": "fa17aab8-a457-489a-a59c-42f1e9edf1f2"
      },
      "execution_count": 109,
      "outputs": [
        {
          "output_type": "stream",
          "name": "stdout",
          "text": [
            "Minimum training loss = 0.000677945%\n",
            "Minimum testing loss = 0.016774649%\n",
            "Best training accuracy = 99.17%\n",
            "Best testing accuracy = 99.53%\n"
          ]
        }
      ]
    },
    {
      "cell_type": "markdown",
      "source": [
        "### Misclassified images (Layer normalization)"
      ],
      "metadata": {
        "id": "m1cr8RaTeQNg"
      }
    },
    {
      "cell_type": "code",
      "source": [
        "show_misclassified_images(model, test_loader)"
      ],
      "metadata": {
        "colab": {
          "base_uri": "https://localhost:8080/",
          "height": 369
        },
        "id": "yrsESL0SNyeQ",
        "outputId": "aff0e17a-1835-4711-faf1-aa5e072f6e4d"
      },
      "execution_count": 96,
      "outputs": [
        {
          "output_type": "display_data",
          "data": {
            "text/plain": [
              "<Figure size 1080x360 with 10 Axes>"
            ],
            "image/png": "[encoded data removed]"
          },
          "metadata": {
            "needs_background": "light"
          }
        }
      ]
    },
    {
      "cell_type": "markdown",
      "source": [
        "# **Group Normalization**"
      ],
      "metadata": {
        "id": "b6MLg9MucdXi"
      }
    },
    {
      "cell_type": "code",
      "source": [
        "from torch.optim.lr_scheduler import ReduceLROnPlateau\n",
        "\n",
        "model =  Net(normalization_method='GN').to(device)\n",
        "optimizer = optim.SGD(model.parameters(), lr=0.3, momentum=0.9)\n",
        "scheduler = ReduceLROnPlateau(optimizer, mode='max', factor=0.1, patience=0)\n",
        "\n",
        "# Epochs as per assignment = 20\n",
        "EPOCHS = 20\n",
        "\n",
        "for epoch in range(EPOCHS):\n",
        "    print(\"EPOCH:\", epoch)\n",
        "    accuracy = train(model, device, train_loader, optimizer, epoch, normalization_method='GN')\n",
        "    scheduler.step(accuracy)\n",
        "    test(model, device, test_loader, normalization_method='GN')"
      ],
      "metadata": {
        "colab": {
          "base_uri": "https://localhost:8080/"
        },
        "id": "wKcGv2ENZsib",
        "outputId": "5a2066e1-3e69-433d-c2fb-0dd3b04dee8f"
      },
      "execution_count": 97,
      "outputs": [
        {
          "output_type": "stream",
          "name": "stdout",
          "text": [
            "EPOCH: 0\n"
          ]
        },
        {
          "output_type": "stream",
          "name": "stderr",
          "text": [
            "LR=0.3 Loss=0.2826511859893799 Batch_id=468 Accuracy=88.61: 100%|██████████| 469/469 [00:16<00:00, 28.13it/s]\n"
          ]
        },
        {
          "output_type": "stream",
          "name": "stdout",
          "text": [
            "Test set: Average loss: 0.0949, Accuracy: 9719/10000 (97.19%)\n",
            "\n",
            "EPOCH: 1\n"
          ]
        },
        {
          "output_type": "stream",
          "name": "stderr",
          "text": [
            "LR=0.3 Loss=0.08116962015628815 Batch_id=468 Accuracy=96.44: 100%|██████████| 469/469 [00:16<00:00, 28.03it/s]\n"
          ]
        },
        {
          "output_type": "stream",
          "name": "stdout",
          "text": [
            "Test set: Average loss: 0.0705, Accuracy: 9796/10000 (97.96%)\n",
            "\n",
            "EPOCH: 2\n"
          ]
        },
        {
          "output_type": "stream",
          "name": "stderr",
          "text": [
            "LR=0.3 Loss=0.21270303428173065 Batch_id=468 Accuracy=97.18: 100%|██████████| 469/469 [00:16<00:00, 27.84it/s]\n"
          ]
        },
        {
          "output_type": "stream",
          "name": "stdout",
          "text": [
            "Test set: Average loss: 0.0491, Accuracy: 9838/10000 (98.38%)\n",
            "\n",
            "EPOCH: 3\n"
          ]
        },
        {
          "output_type": "stream",
          "name": "stderr",
          "text": [
            "LR=0.3 Loss=0.04172547161579132 Batch_id=468 Accuracy=97.51: 100%|██████████| 469/469 [00:16<00:00, 28.13it/s]\n"
          ]
        },
        {
          "output_type": "stream",
          "name": "stdout",
          "text": [
            "Test set: Average loss: 0.0515, Accuracy: 9849/10000 (98.49%)\n",
            "\n",
            "EPOCH: 4\n"
          ]
        },
        {
          "output_type": "stream",
          "name": "stderr",
          "text": [
            "LR=0.3 Loss=0.04826033115386963 Batch_id=468 Accuracy=97.83: 100%|██████████| 469/469 [00:16<00:00, 28.28it/s]\n"
          ]
        },
        {
          "output_type": "stream",
          "name": "stdout",
          "text": [
            "Test set: Average loss: 0.0485, Accuracy: 9852/10000 (98.52%)\n",
            "\n",
            "EPOCH: 5\n"
          ]
        },
        {
          "output_type": "stream",
          "name": "stderr",
          "text": [
            "LR=0.3 Loss=0.12252825498580933 Batch_id=468 Accuracy=97.93: 100%|██████████| 469/469 [00:16<00:00, 28.12it/s]\n"
          ]
        },
        {
          "output_type": "stream",
          "name": "stdout",
          "text": [
            "Test set: Average loss: 0.0514, Accuracy: 9842/10000 (98.42%)\n",
            "\n",
            "EPOCH: 6\n"
          ]
        },
        {
          "output_type": "stream",
          "name": "stderr",
          "text": [
            "LR=0.3 Loss=0.04038538783788681 Batch_id=468 Accuracy=98.22: 100%|██████████| 469/469 [00:16<00:00, 28.27it/s]\n"
          ]
        },
        {
          "output_type": "stream",
          "name": "stdout",
          "text": [
            "Test set: Average loss: 0.0457, Accuracy: 9866/10000 (98.66%)\n",
            "\n",
            "EPOCH: 7\n"
          ]
        },
        {
          "output_type": "stream",
          "name": "stderr",
          "text": [
            "LR=0.3 Loss=0.016595682129263878 Batch_id=468 Accuracy=98.28: 100%|██████████| 469/469 [00:17<00:00, 27.33it/s]\n"
          ]
        },
        {
          "output_type": "stream",
          "name": "stdout",
          "text": [
            "Test set: Average loss: 0.0374, Accuracy: 9895/10000 (98.95%)\n",
            "\n",
            "EPOCH: 8\n"
          ]
        },
        {
          "output_type": "stream",
          "name": "stderr",
          "text": [
            "LR=0.3 Loss=0.06871116906404495 Batch_id=468 Accuracy=98.28: 100%|██████████| 469/469 [00:17<00:00, 27.27it/s]\n"
          ]
        },
        {
          "output_type": "stream",
          "name": "stdout",
          "text": [
            "Test set: Average loss: 0.0454, Accuracy: 9862/10000 (98.62%)\n",
            "\n",
            "EPOCH: 9\n"
          ]
        },
        {
          "output_type": "stream",
          "name": "stderr",
          "text": [
            "LR=0.03 Loss=0.05634066462516785 Batch_id=468 Accuracy=98.78: 100%|██████████| 469/469 [00:16<00:00, 27.72it/s]\n"
          ]
        },
        {
          "output_type": "stream",
          "name": "stdout",
          "text": [
            "Test set: Average loss: 0.0282, Accuracy: 9924/10000 (99.24%)\n",
            "\n",
            "EPOCH: 10\n"
          ]
        },
        {
          "output_type": "stream",
          "name": "stderr",
          "text": [
            "LR=0.03 Loss=0.017688659951090813 Batch_id=468 Accuracy=98.93: 100%|██████████| 469/469 [00:16<00:00, 27.64it/s]\n"
          ]
        },
        {
          "output_type": "stream",
          "name": "stdout",
          "text": [
            "Test set: Average loss: 0.0273, Accuracy: 9928/10000 (99.28%)\n",
            "\n",
            "EPOCH: 11\n"
          ]
        },
        {
          "output_type": "stream",
          "name": "stderr",
          "text": [
            "LR=0.03 Loss=0.0370250828564167 Batch_id=468 Accuracy=98.89: 100%|██████████| 469/469 [00:16<00:00, 27.76it/s]\n"
          ]
        },
        {
          "output_type": "stream",
          "name": "stdout",
          "text": [
            "Test set: Average loss: 0.0260, Accuracy: 9929/10000 (99.29%)\n",
            "\n",
            "EPOCH: 12\n"
          ]
        },
        {
          "output_type": "stream",
          "name": "stderr",
          "text": [
            "LR=0.003 Loss=0.031288258731365204 Batch_id=468 Accuracy=98.99: 100%|██████████| 469/469 [00:16<00:00, 27.93it/s]\n"
          ]
        },
        {
          "output_type": "stream",
          "name": "stdout",
          "text": [
            "Test set: Average loss: 0.0256, Accuracy: 9925/10000 (99.25%)\n",
            "\n",
            "EPOCH: 13\n"
          ]
        },
        {
          "output_type": "stream",
          "name": "stderr",
          "text": [
            "LR=0.003 Loss=0.006914952304214239 Batch_id=468 Accuracy=98.96: 100%|██████████| 469/469 [00:17<00:00, 27.38it/s]\n"
          ]
        },
        {
          "output_type": "stream",
          "name": "stdout",
          "text": [
            "Test set: Average loss: 0.0257, Accuracy: 9926/10000 (99.26%)\n",
            "\n",
            "EPOCH: 14\n"
          ]
        },
        {
          "output_type": "stream",
          "name": "stderr",
          "text": [
            "LR=0.00030000000000000003 Loss=0.01721513457596302 Batch_id=468 Accuracy=98.97: 100%|██████████| 469/469 [00:16<00:00, 27.87it/s]\n"
          ]
        },
        {
          "output_type": "stream",
          "name": "stdout",
          "text": [
            "Test set: Average loss: 0.0257, Accuracy: 9926/10000 (99.26%)\n",
            "\n",
            "EPOCH: 15\n"
          ]
        },
        {
          "output_type": "stream",
          "name": "stderr",
          "text": [
            "LR=3.0000000000000004e-05 Loss=0.01250744890421629 Batch_id=468 Accuracy=98.99: 100%|██████████| 469/469 [00:17<00:00, 27.48it/s]\n"
          ]
        },
        {
          "output_type": "stream",
          "name": "stdout",
          "text": [
            "Test set: Average loss: 0.0257, Accuracy: 9926/10000 (99.26%)\n",
            "\n",
            "EPOCH: 16\n"
          ]
        },
        {
          "output_type": "stream",
          "name": "stderr",
          "text": [
            "LR=3.0000000000000005e-06 Loss=0.04591161385178566 Batch_id=468 Accuracy=99.02: 100%|██████████| 469/469 [00:16<00:00, 27.86it/s]\n"
          ]
        },
        {
          "output_type": "stream",
          "name": "stdout",
          "text": [
            "Test set: Average loss: 0.0257, Accuracy: 9926/10000 (99.26%)\n",
            "\n",
            "EPOCH: 17\n"
          ]
        },
        {
          "output_type": "stream",
          "name": "stderr",
          "text": [
            "LR=3.0000000000000005e-06 Loss=0.05353866517543793 Batch_id=468 Accuracy=99.01: 100%|██████████| 469/469 [00:16<00:00, 27.84it/s]\n"
          ]
        },
        {
          "output_type": "stream",
          "name": "stdout",
          "text": [
            "Test set: Average loss: 0.0257, Accuracy: 9926/10000 (99.26%)\n",
            "\n",
            "EPOCH: 18\n"
          ]
        },
        {
          "output_type": "stream",
          "name": "stderr",
          "text": [
            "LR=3.000000000000001e-07 Loss=0.019719501957297325 Batch_id=468 Accuracy=99.00: 100%|██████████| 469/469 [00:16<00:00, 27.91it/s]\n"
          ]
        },
        {
          "output_type": "stream",
          "name": "stdout",
          "text": [
            "Test set: Average loss: 0.0257, Accuracy: 9926/10000 (99.26%)\n",
            "\n",
            "EPOCH: 19\n"
          ]
        },
        {
          "output_type": "stream",
          "name": "stderr",
          "text": [
            "LR=3.000000000000001e-08 Loss=0.007634031120687723 Batch_id=468 Accuracy=98.97: 100%|██████████| 469/469 [00:16<00:00, 27.98it/s]\n"
          ]
        },
        {
          "output_type": "stream",
          "name": "stdout",
          "text": [
            "Test set: Average loss: 0.0257, Accuracy: 9926/10000 (99.26%)\n",
            "\n"
          ]
        }
      ]
    },
    {
      "cell_type": "code",
      "source": [
        "print(\"Minimum training loss = {:.9f}%\".format(min(train_losses['GN'])))\n",
        "print(\"Minimum testing loss = {:.9f}%\".format(min(test_losses['GN'])))\n",
        "print(\"Best training accuracy = {:.2f}%\".format(max(epoch_train_acc['GN'])))\n",
        "print(\"Best testing accuracy = {:.2f}%\".format(max(test_acc['GN'])))"
      ],
      "metadata": {
        "colab": {
          "base_uri": "https://localhost:8080/"
        },
        "id": "z-ggr8ecCR-1",
        "outputId": "a73de735-8847-4d5e-a3f4-29244318691a"
      },
      "execution_count": 110,
      "outputs": [
        {
          "output_type": "stream",
          "name": "stdout",
          "text": [
            "Minimum training loss = 0.000926618%\n",
            "Minimum testing loss = 0.025614110%\n",
            "Best training accuracy = 99.02%\n",
            "Best testing accuracy = 99.29%\n"
          ]
        }
      ]
    },
    {
      "cell_type": "markdown",
      "source": [
        "### Misclassified images (Group normalization)"
      ],
      "metadata": {
        "id": "DNbyAToteUlu"
      }
    },
    {
      "cell_type": "code",
      "source": [
        "show_misclassified_images(model, test_loader)"
      ],
      "metadata": {
        "colab": {
          "base_uri": "https://localhost:8080/",
          "height": 369
        },
        "id": "bmo953WZN1co",
        "outputId": "794abb41-dd7f-415e-8791-bcaf5d11724b"
      },
      "execution_count": 98,
      "outputs": [
        {
          "output_type": "display_data",
          "data": {
            "text/plain": [
              "<Figure size 1080x360 with 10 Axes>"
            ],
            "image/png": "[encoded data removed]"
          },
          "metadata": {
            "needs_background": "light"
          }
        }
      ]
    },
    {
      "cell_type": "markdown",
      "source": [
        "# **Graphs**"
      ],
      "metadata": {
        "id": "rJQtzVbhfB7S"
      }
    },
    {
      "cell_type": "markdown",
      "source": [
        "### Losses"
      ],
      "metadata": {
        "id": "Jsqx3H4emGP4"
      }
    },
    {
      "cell_type": "code",
      "source": [
        "fig, ax = plt.subplots(3, 2)\n",
        "\n",
        "train_epoch_linspace = np.linspace(0, EPOCHS, len(train_losses['BN']))\n",
        "test_epoch_linspace = np.linspace(0, EPOCHS, len(test_losses['BN']))\n",
        "\n",
        "ax[0][0].set_xlabel('Epoch')\n",
        "ax[0][0].set_ylabel('Train Loss')\n",
        "ax[0][0].plot(train_epoch_linspace, train_losses['BN'], label='BN + L1')\n",
        "ax[0][0].tick_params(axis='y')\n",
        "ax[0][0].legend(loc='upper right')\n",
        "\n",
        "ax[0][1].set_xlabel('Epoch')\n",
        "ax[0][1].set_ylabel('Test Loss')\n",
        "ax[0][1].plot(test_epoch_linspace, test_losses['BN'], label='BN + L1')\n",
        "ax[0][1].tick_params(axis='y')\n",
        "ax[0][1].legend(loc='upper right')\n",
        "\n",
        "ax[1][0].set_xlabel('Epoch')\n",
        "ax[1][0].set_ylabel('Train Loss')\n",
        "ax[1][0].plot(train_epoch_linspace, train_losses['LN'], label='LN')\n",
        "ax[1][0].tick_params(axis='y')\n",
        "ax[1][0].legend(loc='upper right')\n",
        "\n",
        "ax[1][1].set_xlabel('Epoch')\n",
        "ax[1][1].set_ylabel('Test Loss')\n",
        "ax[1][1].plot(test_epoch_linspace, test_losses['LN'], label='LN')\n",
        "ax[1][1].tick_params(axis='y')\n",
        "ax[1][1].legend(loc='upper right')\n",
        "\n",
        "ax[2][0].set_xlabel('Epoch')\n",
        "ax[2][0].set_ylabel('Train Loss')\n",
        "ax[2][0].plot(train_epoch_linspace, train_losses['GN'], label='GN')\n",
        "ax[2][0].tick_params(axis='y')\n",
        "ax[2][0].legend(loc='upper right')\n",
        "\n",
        "ax[2][1].set_xlabel('Epoch')\n",
        "ax[2][1].set_ylabel('Test Loss')\n",
        "ax[2][1].plot(test_epoch_linspace, test_losses['GN'], label='GN')\n",
        "ax[2][1].tick_params(axis='y')\n",
        "ax[2][1].legend(loc='upper right')\n",
        "\n",
        "fig.set_size_inches(30, 10)\n",
        "plt.show()"
      ],
      "metadata": {
        "colab": {
          "base_uri": "https://localhost:8080/",
          "height": 626
        },
        "id": "VlYB2u0BfG08",
        "outputId": "583e08d4-1dc0-4033-becd-6b5ffff86e8c"
      },
      "execution_count": 107,
      "outputs": [
        {
          "output_type": "display_data",
          "data": {
            "text/plain": [
              "<Figure size 2160x720 with 6 Axes>"
            ],
            "image/png": "[encoded data removed]"
          },
          "metadata": {
            "needs_background": "light"
          }
        }
      ]
    },
    {
      "cell_type": "markdown",
      "source": [
        "### Accuracies"
      ],
      "metadata": {
        "id": "zICxFoMNmIzI"
      }
    },
    {
      "cell_type": "code",
      "source": [
        "fig, ax = plt.subplots(3, 2)\n",
        "\n",
        "train_epoch_linspace = np.linspace(0, EPOCHS, len(train_acc['BN']))\n",
        "test_epoch_linspace = np.linspace(0, EPOCHS, len(test_acc['BN']))\n",
        "\n",
        "ax[0][0].set_xlabel('Epoch')\n",
        "ax[0][0].set_ylabel('Train Accuracy')\n",
        "ax[0][0].plot(train_epoch_linspace, train_acc['BN'], label='BN + L1')\n",
        "ax[0][0].tick_params(axis='y')\n",
        "ax[0][0].legend(loc='lower right')\n",
        "\n",
        "ax[0][1].set_xlabel('Epoch')\n",
        "ax[0][1].set_ylabel('Test Accuracy')\n",
        "ax[0][1].plot(test_epoch_linspace, test_acc['BN'], label='BN + L1')\n",
        "ax[0][1].tick_params(axis='y')\n",
        "ax[0][1].legend(loc='lower right')\n",
        "\n",
        "ax[1][0].set_xlabel('Epoch')\n",
        "ax[1][0].set_ylabel('Train Accuracy')\n",
        "ax[1][0].plot(train_epoch_linspace, train_acc['LN'], label='LN')\n",
        "ax[1][0].tick_params(axis='y')\n",
        "ax[1][0].legend(loc='lower right')\n",
        "\n",
        "ax[1][1].set_xlabel('Epoch')\n",
        "ax[1][1].set_ylabel('Test Accuracy')\n",
        "ax[1][1].plot(test_epoch_linspace, test_acc['LN'], label='LN')\n",
        "ax[1][1].tick_params(axis='y')\n",
        "ax[1][1].legend(loc='lower right')\n",
        "\n",
        "ax[2][0].set_xlabel('Epoch')\n",
        "ax[2][0].set_ylabel('Train Accuracy')\n",
        "ax[2][0].plot(train_epoch_linspace, train_acc['GN'], label='GN')\n",
        "ax[2][0].tick_params(axis='y')\n",
        "ax[2][0].legend(loc='lower right')\n",
        "\n",
        "ax[2][1].set_xlabel('Epoch')\n",
        "ax[2][1].set_ylabel('Test Accuracy')\n",
        "ax[2][1].plot(test_epoch_linspace, test_acc['GN'], label='GN')\n",
        "ax[2][1].tick_params(axis='y')\n",
        "ax[2][1].legend(loc='lower right')\n",
        "\n",
        "fig.set_size_inches(30, 10)\n",
        "plt.show()"
      ],
      "metadata": {
        "colab": {
          "base_uri": "https://localhost:8080/",
          "height": 629
        },
        "id": "yIMZ7JwymK2B",
        "outputId": "11259d86-cffd-40cd-90e1-72483db0a071"
      },
      "execution_count": 106,
      "outputs": [
        {
          "output_type": "display_data",
          "data": {
            "text/plain": [
              "<Figure size 2160x720 with 6 Axes>"
            ],
            "image/png": "[encoded data removed]"
          },
          "metadata": {
            "needs_background": "light"
          }
        }
      ]
    }
  ]
}