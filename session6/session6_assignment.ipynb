{
  "nbformat": 4,
  "nbformat_minor": 0,
  "metadata": {
    "colab": {
      "provenance": [],
      "machine_shape": "hm"
    },
    "kernelspec": {
      "name": "python3",
      "display_name": "Python 3"
    },
    "language_info": {
      "name": "python"
    },
    "accelerator": "GPU",
    "gpuClass": "standard"
  },
  "cells": [
    {
      "cell_type": "markdown",
      "source": [
        "# **Assignment 6**\n",
        "\n",
        "---\n",
        "\n",
        "\n",
        "\n",
        "1. Run this [network](https://colab.research.google.com/drive/1qlewMtxcAJT6fIJdmMh8pSf2e-dh51Rw)\n",
        "2. Fix the network above:\n",
        "  1. change the code such that it uses GPU and\n",
        "  2. change the architecture to `C1|C2|C3|C4|O` (_No MaxPooling, but 3 3x3 layers with stride of 2 instead) (If you can figure out how to use Dilated kernels here instead of MP or strided convolution, then `200pts extra!`_)\n",
        "  3. total RF must be more than `44`\n",
        "  4. one of the layers must use Depthwise Separable Convolution\n",
        "  5. one of the layers must use Dilated Convolution\n",
        "  6. use GAP (_compulsory_):- add FC after GAP to target # of classes (_optional_)\n",
        "  7. use albumentation library and apply:\n",
        "    - horizontal flip\n",
        "    - shiftScaleRotate\n",
        "    - coarseDropout (`max_holes = 1, max_height=16px, min_width=1, min_holes = 1, min_height=16px, max_width=16px, fill_value=(mean of your dataset), mask_fill_value = None`)\n",
        "  8. achieve `85% accuracy`, as many epochs as you want.\n",
        "  9. Total Params to be less than `200k`.\n",
        "3. Upload to Github\n",
        "4. Attempt S6-Assignment Solution.\n",
        "5. Questions in the Assignment QnA are:\n",
        "  1. copy paste your model code from your model.py file (full code) `[125]`\n",
        "  2. copy paste output of torchsummary `[125]`\n",
        "  3. copy-paste the code where you implemented albumentation transformation for all three transformations `[125]`\n",
        "  4. copy paste your training log (you must be running validation/text after each Epoch `[125]`\n",
        "  5. Share the link for your README.md file. `[200]`\n",
        "\n",
        "\n",
        "---\n",
        "\n"
      ],
      "metadata": {
        "id": "eRZwn-PpQT0_"
      }
    },
    {
      "cell_type": "markdown",
      "source": [
        "# **Clone Repo and install dependencies**"
      ],
      "metadata": {
        "id": "roen-UkvIeR_"
      }
    },
    {
      "cell_type": "code",
      "execution_count": 13,
      "metadata": {
        "colab": {
          "base_uri": "https://localhost:8080/"
        },
        "id": "KDg3W0IhQPBE",
        "outputId": "e4d1b298-122c-4f0c-96d3-b603a03e843d"
      },
      "outputs": [
        {
          "output_type": "stream",
          "name": "stdout",
          "text": [
            "Cloning into 'eva-8'...\n",
            "remote: Enumerating objects: 164, done.\u001b[K\n",
            "remote: Counting objects: 100% (164/164), done.\u001b[K\n",
            "remote: Compressing objects: 100% (107/107), done.\u001b[K\n",
            "remote: Total 164 (delta 74), reused 142 (delta 52), pack-reused 0\u001b[K\n",
            "Receiving objects: 100% (164/164), 2.12 MiB | 7.42 MiB/s, done.\n",
            "Resolving deltas: 100% (74/74), done.\n",
            "Looking in indexes: https://pypi.org/simple, https://us-python.pkg.dev/colab-wheels/public/simple/\n",
            "Requirement already satisfied: albumentations==1.2.1 in /usr/local/lib/python3.8/dist-packages (from -r requirements.txt (line 1)) (1.2.1)\n",
            "Requirement already satisfied: matplotlib==3.2.2 in /usr/local/lib/python3.8/dist-packages (from -r requirements.txt (line 2)) (3.2.2)\n",
            "Requirement already satisfied: numpy==1.21.6 in /usr/local/lib/python3.8/dist-packages (from -r requirements.txt (line 3)) (1.21.6)\n",
            "Requirement already satisfied: torch==1.13.1 in /usr/local/lib/python3.8/dist-packages (from -r requirements.txt (line 4)) (1.13.1+cu116)\n",
            "Requirement already satisfied: torchinfo==1.7.2 in /usr/local/lib/python3.8/dist-packages (from -r requirements.txt (line 5)) (1.7.2)\n",
            "Requirement already satisfied: torchvision==0.14.1 in /usr/local/lib/python3.8/dist-packages (from -r requirements.txt (line 6)) (0.14.1+cu116)\n",
            "Requirement already satisfied: tqdm==4.64.1 in /usr/local/lib/python3.8/dist-packages (from -r requirements.txt (line 7)) (4.64.1)\n",
            "Requirement already satisfied: qudida>=0.0.4 in /usr/local/lib/python3.8/dist-packages (from albumentations==1.2.1->-r requirements.txt (line 1)) (0.0.4)\n",
            "Requirement already satisfied: scipy in /usr/local/lib/python3.8/dist-packages (from albumentations==1.2.1->-r requirements.txt (line 1)) (1.7.3)\n",
            "Requirement already satisfied: PyYAML in /usr/local/lib/python3.8/dist-packages (from albumentations==1.2.1->-r requirements.txt (line 1)) (6.0)\n",
            "Requirement already satisfied: opencv-python-headless>=4.1.1 in /usr/local/lib/python3.8/dist-packages (from albumentations==1.2.1->-r requirements.txt (line 1)) (4.7.0.68)\n",
            "Requirement already satisfied: scikit-image>=0.16.1 in /usr/local/lib/python3.8/dist-packages (from albumentations==1.2.1->-r requirements.txt (line 1)) (0.18.3)\n",
            "Requirement already satisfied: python-dateutil>=2.1 in /usr/local/lib/python3.8/dist-packages (from matplotlib==3.2.2->-r requirements.txt (line 2)) (2.8.2)\n",
            "Requirement already satisfied: pyparsing!=2.0.4,!=2.1.2,!=2.1.6,>=2.0.1 in /usr/local/lib/python3.8/dist-packages (from matplotlib==3.2.2->-r requirements.txt (line 2)) (3.0.9)\n",
            "Requirement already satisfied: cycler>=0.10 in /usr/local/lib/python3.8/dist-packages (from matplotlib==3.2.2->-r requirements.txt (line 2)) (0.11.0)\n",
            "Requirement already satisfied: kiwisolver>=1.0.1 in /usr/local/lib/python3.8/dist-packages (from matplotlib==3.2.2->-r requirements.txt (line 2)) (1.4.4)\n",
            "Requirement already satisfied: typing-extensions in /usr/local/lib/python3.8/dist-packages (from torch==1.13.1->-r requirements.txt (line 4)) (4.4.0)\n",
            "Requirement already satisfied: requests in /usr/local/lib/python3.8/dist-packages (from torchvision==0.14.1->-r requirements.txt (line 6)) (2.25.1)\n",
            "Requirement already satisfied: pillow!=8.3.*,>=5.3.0 in /usr/local/lib/python3.8/dist-packages (from torchvision==0.14.1->-r requirements.txt (line 6)) (7.1.2)\n",
            "Requirement already satisfied: six>=1.5 in /usr/local/lib/python3.8/dist-packages (from python-dateutil>=2.1->matplotlib==3.2.2->-r requirements.txt (line 2)) (1.15.0)\n",
            "Requirement already satisfied: scikit-learn>=0.19.1 in /usr/local/lib/python3.8/dist-packages (from qudida>=0.0.4->albumentations==1.2.1->-r requirements.txt (line 1)) (1.0.2)\n",
            "Requirement already satisfied: tifffile>=2019.7.26 in /usr/local/lib/python3.8/dist-packages (from scikit-image>=0.16.1->albumentations==1.2.1->-r requirements.txt (line 1)) (2023.1.23.1)\n",
            "Requirement already satisfied: networkx>=2.0 in /usr/local/lib/python3.8/dist-packages (from scikit-image>=0.16.1->albumentations==1.2.1->-r requirements.txt (line 1)) (3.0)\n",
            "Requirement already satisfied: PyWavelets>=1.1.1 in /usr/local/lib/python3.8/dist-packages (from scikit-image>=0.16.1->albumentations==1.2.1->-r requirements.txt (line 1)) (1.4.1)\n",
            "Requirement already satisfied: imageio>=2.3.0 in /usr/local/lib/python3.8/dist-packages (from scikit-image>=0.16.1->albumentations==1.2.1->-r requirements.txt (line 1)) (2.9.0)\n",
            "Requirement already satisfied: certifi>=2017.4.17 in /usr/local/lib/python3.8/dist-packages (from requests->torchvision==0.14.1->-r requirements.txt (line 6)) (2022.12.7)\n",
            "Requirement already satisfied: urllib3<1.27,>=1.21.1 in /usr/local/lib/python3.8/dist-packages (from requests->torchvision==0.14.1->-r requirements.txt (line 6)) (1.24.3)\n",
            "Requirement already satisfied: chardet<5,>=3.0.2 in /usr/local/lib/python3.8/dist-packages (from requests->torchvision==0.14.1->-r requirements.txt (line 6)) (4.0.0)\n",
            "Requirement already satisfied: idna<3,>=2.5 in /usr/local/lib/python3.8/dist-packages (from requests->torchvision==0.14.1->-r requirements.txt (line 6)) (2.10)\n",
            "Requirement already satisfied: threadpoolctl>=2.0.0 in /usr/local/lib/python3.8/dist-packages (from scikit-learn>=0.19.1->qudida>=0.0.4->albumentations==1.2.1->-r requirements.txt (line 1)) (3.1.0)\n",
            "Requirement already satisfied: joblib>=0.11 in /usr/local/lib/python3.8/dist-packages (from scikit-learn>=0.19.1->qudida>=0.0.4->albumentations==1.2.1->-r requirements.txt (line 1)) (1.2.0)\n"
          ]
        }
      ],
      "source": [
        "!git clone https://github.com/abhyuditjain/eva-8\n",
        "!mv eva-8/session6/* ./\n",
        "!rm -rf eva-8\n",
        "!pip install -r requirements.txt"
      ]
    },
    {
      "cell_type": "markdown",
      "source": [
        "# **Print Model**"
      ],
      "metadata": {
        "id": "6HCif_v3Inkh"
      }
    },
    {
      "cell_type": "code",
      "source": [
        "!cat model.py"
      ],
      "metadata": {
        "colab": {
          "base_uri": "https://localhost:8080/"
        },
        "id": "INXhO01QIrMZ",
        "outputId": "408812b8-b987-4c0e-fc85-af6271dbd7d7"
      },
      "execution_count": 14,
      "outputs": [
        {
          "output_type": "stream",
          "name": "stdout",
          "text": [
            "import torch.nn.functional as F\n",
            "import torch.nn as nn\n",
            "\n",
            "dropout_value = 0.05\n",
            "\n",
            "\n",
            "class Net(nn.Module):\n",
            "    def __init__(self):\n",
            "        super(Net, self).__init__()\n",
            "\n",
            "        \"\"\"\n",
            "        CONVOLUTION BLOCK 1\n",
            "        NIn    RFIn   KernelSize  Padding    Stride  JumpIn  JumpOut   RFOut     NOut       Notes\n",
            "        32      1       5           2           1       1       1        5        32     Normal Conv\n",
            "        32      5       3           1           1       1       1        7        32     Normal Conv\n",
            "        32      7       3           1           1       1       1        9        32     Normal Conv\n",
            "        \"\"\"\n",
            "        self.conv_block1 = nn.Sequential(\n",
            "            nn.Conv2d(in_channels=3, out_channels=128, kernel_size=5, stride=1, padding=2, bias=False),\n",
            "            nn.ReLU(),\n",
            "            nn.BatchNorm2d(128),\n",
            "            nn.Dropout(dropout_value),\n",
            "\n",
            "            nn.Conv2d(in_channels=128, out_channels=64, kernel_size=3, stride=1, padding=1, bias=False),\n",
            "            nn.ReLU(),\n",
            "            nn.BatchNorm2d(64),\n",
            "            nn.Dropout(dropout_value),\n",
            "\n",
            "            nn.Conv2d(in_channels=64, out_channels=32, kernel_size=3, stride=1, padding=1, bias=False),\n",
            "            nn.ReLU(),\n",
            "            nn.BatchNorm2d(32),\n",
            "            nn.Dropout(dropout_value),\n",
            "        )\n",
            "\n",
            "        \"\"\"\n",
            "        CONVOLUTION BLOCK 2\n",
            "        NIn    RFIn   KernelSize  Padding   Stride    JumpIn  JumpOut    RFOut     NOut         Notes\n",
            "        32       9      3+2          2         2        1        2        13        16     Dilated and Strided Conv\n",
            "        16      13       3           1         1        2        2        17        16     Depthwise Separable Conv\n",
            "        16      17       3           1         1        2        2        21        16     Depthwise Separable Conv\n",
            "        \"\"\"\n",
            "        self.conv_block2 = nn.Sequential(\n",
            "            nn.Conv2d(in_channels=32, out_channels=32, kernel_size=3, dilation=2, stride=2, padding=2, bias=False),\n",
            "            nn.ReLU(),\n",
            "            nn.BatchNorm2d(32),\n",
            "            nn.Dropout(dropout_value),\n",
            "\n",
            "            nn.Conv2d(in_channels=32, out_channels=64, groups=32, kernel_size=3, stride=1, padding=1, bias=False),\n",
            "            nn.Conv2d(in_channels=64, out_channels=32, kernel_size=1, stride=1, padding=0, bias=False),\n",
            "            nn.ReLU(),\n",
            "            nn.BatchNorm2d(32),\n",
            "            nn.Dropout(dropout_value),\n",
            "\n",
            "            nn.Conv2d(in_channels=32, out_channels=64, groups=32, kernel_size=3, stride=1, padding=1, bias=False),\n",
            "            nn.Conv2d(in_channels=64, out_channels=32, kernel_size=1, stride=1, padding=0, bias=False),\n",
            "            nn.ReLU(),\n",
            "            nn.BatchNorm2d(32),\n",
            "            nn.Dropout(dropout_value),\n",
            "        )\n",
            "\n",
            "        \"\"\"\n",
            "        CONVOLUTION BLOCK 3\n",
            "        NIn    RFIn   KernelSize  Padding   Stride    JumpIn  JumpOut    RFOut     NOut         Notes\n",
            "        16      21      3+2          2         2         2       4        29         8    Dilated and Strided Conv\n",
            "         8      29      3+2          1         1         4       4        45         8    Dilated Conv\n",
            "         8      45       3           1         1         4       4        53         8    Normal Conv\n",
            "        \"\"\"\n",
            "        self.conv_block3 = nn.Sequential(\n",
            "            nn.Conv2d(in_channels=32, out_channels=32, kernel_size=3, stride=2, padding=2, dilation=2, bias=False),\n",
            "            nn.ReLU(),\n",
            "            nn.BatchNorm2d(32),\n",
            "            nn.Dropout(dropout_value),\n",
            "\n",
            "            nn.Conv2d(in_channels=32, out_channels=32, kernel_size=3, stride=1, padding=2, dilation=2, bias=False),\n",
            "            nn.ReLU(),\n",
            "            nn.BatchNorm2d(32),\n",
            "            nn.Dropout(dropout_value),\n",
            "\n",
            "            nn.Conv2d(in_channels=32, out_channels=32, kernel_size=3, stride=1, padding=1, bias=False),\n",
            "            nn.ReLU(),\n",
            "            nn.BatchNorm2d(32),\n",
            "            nn.Dropout(dropout_value),\n",
            "        )\n",
            "\n",
            "        \"\"\"\n",
            "        CONVOLUTION BLOCK 4\n",
            "        NIn    RFIn   KernelSize  Padding   Stride    JumpIn  JumpOut    RFOut     NOut         Notes\n",
            "         8      53      3+2          2        2         4        8        69        4      Dilated and Strided Conv\n",
            "         4      69       3           1        1         8        8        85        4      Depthwise Separable Conv\n",
            "         4      85       3           1        1         8        8        101       4      Normal Conv (Last conv before GAP)\n",
            "        \"\"\"\n",
            "        self.conv_block4 = nn.Sequential(\n",
            "            nn.Conv2d(in_channels=32, out_channels=32, kernel_size=3, stride=2, padding=2, dilation=2, bias=False),\n",
            "            nn.ReLU(),\n",
            "            nn.BatchNorm2d(32),\n",
            "            nn.Dropout(dropout_value),\n",
            "\n",
            "            nn.Conv2d(in_channels=32, out_channels=64, groups=32, kernel_size=3, stride=1, padding=1, bias=False),\n",
            "            nn.Conv2d(in_channels=64, out_channels=32, kernel_size=1, stride=1, padding=0, bias=False),\n",
            "            nn.ReLU(),\n",
            "            nn.BatchNorm2d(32),\n",
            "            nn.Dropout(dropout_value),\n",
            "\n",
            "            # OUTPUT to GAP so not followed by ReLU + BN + Dropout\n",
            "            nn.Conv2d(in_channels=32, out_channels=10, kernel_size=3, stride=1, padding=1, bias=False),\n",
            "        )\n",
            "\n",
            "        \"\"\"\n",
            "        GAP\n",
            "        NIn    NOut\n",
            "         4      1\n",
            "        \"\"\"\n",
            "        self.gap = nn.Sequential(\n",
            "            nn.AvgPool2d(kernel_size=3),\n",
            "        )\n",
            "\n",
            "    def forward(self, x):\n",
            "        x = self.conv_block1(x)\n",
            "        x = self.conv_block2(x)\n",
            "        x = self.conv_block3(x)\n",
            "        x = self.conv_block4(x)\n",
            "        x = self.gap(x)\n",
            "\n",
            "        x = x.view(-1, 10)\n",
            "\n",
            "        return F.log_softmax(x, dim=1)\n"
          ]
        }
      ]
    },
    {
      "cell_type": "markdown",
      "source": [
        "# **Print Transforms**"
      ],
      "metadata": {
        "id": "ZcS4jToMuFCQ"
      }
    },
    {
      "cell_type": "code",
      "source": [
        "!cat transforms.py"
      ],
      "metadata": {
        "colab": {
          "base_uri": "https://localhost:8080/"
        },
        "id": "MxEj3tznuI2_",
        "outputId": "6755265e-3253-4844-d445-8b74871df26d"
      },
      "execution_count": 73,
      "outputs": [
        {
          "output_type": "stream",
          "name": "stdout",
          "text": [
            "from albumentations import (\n",
            "    Compose,\n",
            "    Normalize,\n",
            "    HorizontalFlip,\n",
            "    CoarseDropout,\n",
            "    ShiftScaleRotate,\n",
            ")\n",
            "from albumentations.pytorch.transforms import ToTensorV2\n",
            "import numpy as np\n",
            "\n",
            "\n",
            "class Transforms:\n",
            "    def __init__(self, means, stds, train=True):\n",
            "        if train:\n",
            "            self.transformations = Compose(\n",
            "                [\n",
            "                    HorizontalFlip(),\n",
            "                    ShiftScaleRotate(),\n",
            "                    CoarseDropout(\n",
            "                        min_holes=1,\n",
            "                        max_holes=1,\n",
            "                        min_height=16,\n",
            "                        max_height=16,\n",
            "                        min_width=16,\n",
            "                        max_width=16,\n",
            "                        fill_value=[x * 255 for x in means],  # type: ignore\n",
            "                        mask_fill_value=None,\n",
            "                    ),\n",
            "                    Normalize(mean=means, std=stds),\n",
            "                    ToTensorV2(),\n",
            "                ]\n",
            "            )\n",
            "        else:\n",
            "            self.transformations = Compose(\n",
            "                [\n",
            "                    Normalize(mean=means, std=stds),\n",
            "                    ToTensorV2(),\n",
            "                ]\n",
            "            )\n",
            "\n",
            "    def __call__(self, img):\n",
            "        return self.transformations(image=np.array(img))[\"image\"]\n"
          ]
        }
      ]
    },
    {
      "cell_type": "markdown",
      "source": [
        "# **Model Summary**"
      ],
      "metadata": {
        "id": "oxzABB95KQaW"
      }
    },
    {
      "cell_type": "code",
      "metadata": {
        "id": "-yVpodAMpoCi",
        "colab": {
          "base_uri": "https://localhost:8080/"
        },
        "outputId": "e9a80285-1107-4ce1-9d26-523410bb3b61"
      },
      "source": [
        "import torch\n",
        "from model import Net\n",
        "from torchinfo import summary\n",
        "\n",
        "\n",
        "def print_summary(model):\n",
        "    batch_size = 20\n",
        "    summary(\n",
        "        model,\n",
        "        input_size=(batch_size, 3, 32, 32),\n",
        "        verbose=1,\n",
        "        col_names=[\n",
        "            \"kernel_size\",\n",
        "            \"input_size\",\n",
        "            \"output_size\",\n",
        "            \"num_params\",\n",
        "            \"mult_adds\",\n",
        "            \"trainable\",\n",
        "        ],\n",
        "        row_settings=[\"var_names\"],\n",
        "    )\n",
        "\n",
        "is_cuda_available = torch.cuda.is_available()\n",
        "print(\"Is GPU available?\", is_cuda_available)\n",
        "device = torch.device(\"cuda\" if is_cuda_available else \"cpu\")\n",
        "model = Net().to(device=device)\n",
        "\n",
        "print_summary(model)"
      ],
      "execution_count": 15,
      "outputs": [
        {
          "output_type": "stream",
          "name": "stdout",
          "text": [
            "Is GPU available? True\n",
            "==============================================================================================================================================================================================\n",
            "Layer (type (var_name))                  Kernel Shape              Input Shape               Output Shape              Param #                   Mult-Adds                 Trainable\n",
            "==============================================================================================================================================================================================\n",
            "Net (Net)                                --                        [20, 3, 32, 32]           [20, 10]                  --                        --                        True\n",
            "├─Sequential (conv_block1)               --                        [20, 3, 32, 32]           [20, 32, 32, 32]          --                        --                        True\n",
            "│    └─Conv2d (0)                        [5, 5]                    [20, 3, 32, 32]           [20, 128, 32, 32]         9,600                     196,608,000               True\n",
            "│    └─ReLU (1)                          --                        [20, 128, 32, 32]         [20, 128, 32, 32]         --                        --                        --\n",
            "│    └─BatchNorm2d (2)                   --                        [20, 128, 32, 32]         [20, 128, 32, 32]         256                       5,120                     True\n",
            "│    └─Dropout (3)                       --                        [20, 128, 32, 32]         [20, 128, 32, 32]         --                        --                        --\n",
            "│    └─Conv2d (4)                        [3, 3]                    [20, 128, 32, 32]         [20, 64, 32, 32]          73,728                    1,509,949,440             True\n",
            "│    └─ReLU (5)                          --                        [20, 64, 32, 32]          [20, 64, 32, 32]          --                        --                        --\n",
            "│    └─BatchNorm2d (6)                   --                        [20, 64, 32, 32]          [20, 64, 32, 32]          128                       2,560                     True\n",
            "│    └─Dropout (7)                       --                        [20, 64, 32, 32]          [20, 64, 32, 32]          --                        --                        --\n",
            "│    └─Conv2d (8)                        [3, 3]                    [20, 64, 32, 32]          [20, 32, 32, 32]          18,432                    377,487,360               True\n",
            "│    └─ReLU (9)                          --                        [20, 32, 32, 32]          [20, 32, 32, 32]          --                        --                        --\n",
            "│    └─BatchNorm2d (10)                  --                        [20, 32, 32, 32]          [20, 32, 32, 32]          64                        1,280                     True\n",
            "│    └─Dropout (11)                      --                        [20, 32, 32, 32]          [20, 32, 32, 32]          --                        --                        --\n",
            "├─Sequential (conv_block2)               --                        [20, 32, 32, 32]          [20, 32, 16, 16]          --                        --                        True\n",
            "│    └─Conv2d (0)                        [3, 3]                    [20, 32, 32, 32]          [20, 32, 16, 16]          9,216                     47,185,920                True\n",
            "│    └─ReLU (1)                          --                        [20, 32, 16, 16]          [20, 32, 16, 16]          --                        --                        --\n",
            "│    └─BatchNorm2d (2)                   --                        [20, 32, 16, 16]          [20, 32, 16, 16]          64                        1,280                     True\n",
            "│    └─Dropout (3)                       --                        [20, 32, 16, 16]          [20, 32, 16, 16]          --                        --                        --\n",
            "│    └─Conv2d (4)                        [3, 3]                    [20, 32, 16, 16]          [20, 64, 16, 16]          576                       2,949,120                 True\n",
            "│    └─Conv2d (5)                        [1, 1]                    [20, 64, 16, 16]          [20, 32, 16, 16]          2,048                     10,485,760                True\n",
            "│    └─ReLU (6)                          --                        [20, 32, 16, 16]          [20, 32, 16, 16]          --                        --                        --\n",
            "│    └─BatchNorm2d (7)                   --                        [20, 32, 16, 16]          [20, 32, 16, 16]          64                        1,280                     True\n",
            "│    └─Dropout (8)                       --                        [20, 32, 16, 16]          [20, 32, 16, 16]          --                        --                        --\n",
            "│    └─Conv2d (9)                        [3, 3]                    [20, 32, 16, 16]          [20, 64, 16, 16]          576                       2,949,120                 True\n",
            "│    └─Conv2d (10)                       [1, 1]                    [20, 64, 16, 16]          [20, 32, 16, 16]          2,048                     10,485,760                True\n",
            "│    └─ReLU (11)                         --                        [20, 32, 16, 16]          [20, 32, 16, 16]          --                        --                        --\n",
            "│    └─BatchNorm2d (12)                  --                        [20, 32, 16, 16]          [20, 32, 16, 16]          64                        1,280                     True\n",
            "│    └─Dropout (13)                      --                        [20, 32, 16, 16]          [20, 32, 16, 16]          --                        --                        --\n",
            "├─Sequential (conv_block3)               --                        [20, 32, 16, 16]          [20, 32, 8, 8]            --                        --                        True\n",
            "│    └─Conv2d (0)                        [3, 3]                    [20, 32, 16, 16]          [20, 32, 8, 8]            9,216                     11,796,480                True\n",
            "│    └─ReLU (1)                          --                        [20, 32, 8, 8]            [20, 32, 8, 8]            --                        --                        --\n",
            "│    └─BatchNorm2d (2)                   --                        [20, 32, 8, 8]            [20, 32, 8, 8]            64                        1,280                     True\n",
            "│    └─Dropout (3)                       --                        [20, 32, 8, 8]            [20, 32, 8, 8]            --                        --                        --\n",
            "│    └─Conv2d (4)                        [3, 3]                    [20, 32, 8, 8]            [20, 32, 8, 8]            9,216                     11,796,480                True\n",
            "│    └─ReLU (5)                          --                        [20, 32, 8, 8]            [20, 32, 8, 8]            --                        --                        --\n",
            "│    └─BatchNorm2d (6)                   --                        [20, 32, 8, 8]            [20, 32, 8, 8]            64                        1,280                     True\n",
            "│    └─Dropout (7)                       --                        [20, 32, 8, 8]            [20, 32, 8, 8]            --                        --                        --\n",
            "│    └─Conv2d (8)                        [3, 3]                    [20, 32, 8, 8]            [20, 32, 8, 8]            9,216                     11,796,480                True\n",
            "│    └─ReLU (9)                          --                        [20, 32, 8, 8]            [20, 32, 8, 8]            --                        --                        --\n",
            "│    └─BatchNorm2d (10)                  --                        [20, 32, 8, 8]            [20, 32, 8, 8]            64                        1,280                     True\n",
            "│    └─Dropout (11)                      --                        [20, 32, 8, 8]            [20, 32, 8, 8]            --                        --                        --\n",
            "├─Sequential (conv_block4)               --                        [20, 32, 8, 8]            [20, 10, 4, 4]            --                        --                        True\n",
            "│    └─Conv2d (0)                        [3, 3]                    [20, 32, 8, 8]            [20, 32, 4, 4]            9,216                     2,949,120                 True\n",
            "│    └─ReLU (1)                          --                        [20, 32, 4, 4]            [20, 32, 4, 4]            --                        --                        --\n",
            "│    └─BatchNorm2d (2)                   --                        [20, 32, 4, 4]            [20, 32, 4, 4]            64                        1,280                     True\n",
            "│    └─Dropout (3)                       --                        [20, 32, 4, 4]            [20, 32, 4, 4]            --                        --                        --\n",
            "│    └─Conv2d (4)                        [3, 3]                    [20, 32, 4, 4]            [20, 64, 4, 4]            576                       184,320                   True\n",
            "│    └─Conv2d (5)                        [1, 1]                    [20, 64, 4, 4]            [20, 32, 4, 4]            2,048                     655,360                   True\n",
            "│    └─ReLU (6)                          --                        [20, 32, 4, 4]            [20, 32, 4, 4]            --                        --                        --\n",
            "│    └─BatchNorm2d (7)                   --                        [20, 32, 4, 4]            [20, 32, 4, 4]            64                        1,280                     True\n",
            "│    └─Dropout (8)                       --                        [20, 32, 4, 4]            [20, 32, 4, 4]            --                        --                        --\n",
            "│    └─Conv2d (9)                        [3, 3]                    [20, 32, 4, 4]            [20, 10, 4, 4]            2,880                     921,600                   True\n",
            "├─Sequential (gap)                       --                        [20, 10, 4, 4]            [20, 10, 1, 1]            --                        --                        --\n",
            "│    └─AvgPool2d (0)                     3                         [20, 10, 4, 4]            [20, 10, 1, 1]            --                        --                        --\n",
            "==============================================================================================================================================================================================\n",
            "Total params: 159,552\n",
            "Trainable params: 159,552\n",
            "Non-trainable params: 0\n",
            "Total mult-adds (G): 2.20\n",
            "==============================================================================================================================================================================================\n",
            "Input size (MB): 0.25\n",
            "Forward/backward pass size (MB): 88.99\n",
            "Params size (MB): 0.64\n",
            "Estimated Total Size (MB): 89.87\n",
            "==============================================================================================================================================================================================\n"
          ]
        }
      ]
    },
    {
      "cell_type": "markdown",
      "source": [
        "# **Initialize Dataloaders for Training and Testing**"
      ],
      "metadata": {
        "id": "lZdZQjbdJ0WE"
      }
    },
    {
      "cell_type": "code",
      "source": [
        "from dataloader import Cifar10DataLoader\n",
        "\n",
        "cifar10 = Cifar10DataLoader(is_cuda_available=is_cuda_available)\n",
        "train_loader = cifar10.get_loader(True)\n",
        "test_loader = cifar10.get_loader(False)"
      ],
      "metadata": {
        "colab": {
          "base_uri": "https://localhost:8080/"
        },
        "id": "ESGIkOOiJmCL",
        "outputId": "1ad633b8-db6f-4c19-b1af-d0cb8721e246"
      },
      "execution_count": 16,
      "outputs": [
        {
          "output_type": "stream",
          "name": "stdout",
          "text": [
            "Files already downloaded and verified\n",
            "Files already downloaded and verified\n"
          ]
        }
      ]
    },
    {
      "cell_type": "markdown",
      "source": [
        "# **Train the model**"
      ],
      "metadata": {
        "id": "BACQM3uVKKsq"
      }
    },
    {
      "cell_type": "code",
      "source": [
        "import torch.optim as optim\n",
        "import torch.nn as nn\n",
        "from train import Trainer\n",
        "from test import Tester\n",
        "\n",
        "trainer = Trainer()\n",
        "tester = Tester()\n",
        "optimizer = optim.SGD(model.parameters(), lr=0.001, momentum=0.9)\n",
        "criterion = nn.NLLLoss()\n",
        "\n",
        "EPOCHS = 200\n",
        "\n",
        "for epoch in range(EPOCHS):\n",
        "    trainer.train(model, train_loader, optimizer, criterion, device, epoch)\n",
        "    tester.test(model, test_loader, criterion, device)"
      ],
      "metadata": {
        "colab": {
          "base_uri": "https://localhost:8080/"
        },
        "id": "kD3o8JbCBwo7",
        "outputId": "913ef991-c6a8-4087-87dd-3b46462329e4"
      },
      "execution_count": 17,
      "outputs": [
        {
          "output_type": "stream",
          "name": "stderr",
          "text": [
            "EPOCH = 0 | LR = 0.001 | Loss = 1.74 | Batch = 390 | Accuracy = 24.84: 100%|██████████| 391/391 [00:23<00:00, 16.76it/s]\n"
          ]
        },
        {
          "output_type": "stream",
          "name": "stdout",
          "text": [
            "Test set: Average loss: 0.0135, Accuracy: 3582/10000 (35.82%)\n",
            "\n"
          ]
        },
        {
          "output_type": "stream",
          "name": "stderr",
          "text": [
            "EPOCH = 1 | LR = 0.001 | Loss = 1.64 | Batch = 390 | Accuracy = 36.71: 100%|██████████| 391/391 [00:22<00:00, 17.16it/s]\n"
          ]
        },
        {
          "output_type": "stream",
          "name": "stdout",
          "text": [
            "Test set: Average loss: 0.0118, Accuracy: 4431/10000 (44.31%)\n",
            "\n"
          ]
        },
        {
          "output_type": "stream",
          "name": "stderr",
          "text": [
            "EPOCH = 2 | LR = 0.001 | Loss = 1.41 | Batch = 390 | Accuracy = 40.85: 100%|██████████| 391/391 [00:22<00:00, 17.36it/s]\n"
          ]
        },
        {
          "output_type": "stream",
          "name": "stdout",
          "text": [
            "Test set: Average loss: 0.0111, Accuracy: 4721/10000 (47.21%)\n",
            "\n"
          ]
        },
        {
          "output_type": "stream",
          "name": "stderr",
          "text": [
            "EPOCH = 3 | LR = 0.001 | Loss = 1.41 | Batch = 390 | Accuracy = 44.04: 100%|██████████| 391/391 [00:22<00:00, 17.15it/s]\n"
          ]
        },
        {
          "output_type": "stream",
          "name": "stdout",
          "text": [
            "Test set: Average loss: 0.0105, Accuracy: 5070/10000 (50.70%)\n",
            "\n"
          ]
        },
        {
          "output_type": "stream",
          "name": "stderr",
          "text": [
            "EPOCH = 4 | LR = 0.001 | Loss = 1.45 | Batch = 390 | Accuracy = 46.93: 100%|██████████| 391/391 [00:22<00:00, 17.14it/s]\n"
          ]
        },
        {
          "output_type": "stream",
          "name": "stdout",
          "text": [
            "Test set: Average loss: 0.0100, Accuracy: 5366/10000 (53.66%)\n",
            "\n"
          ]
        },
        {
          "output_type": "stream",
          "name": "stderr",
          "text": [
            "EPOCH = 5 | LR = 0.001 | Loss = 1.45 | Batch = 390 | Accuracy = 49.10: 100%|██████████| 391/391 [00:22<00:00, 17.25it/s]\n"
          ]
        },
        {
          "output_type": "stream",
          "name": "stdout",
          "text": [
            "Test set: Average loss: 0.0093, Accuracy: 5690/10000 (56.90%)\n",
            "\n"
          ]
        },
        {
          "output_type": "stream",
          "name": "stderr",
          "text": [
            "EPOCH = 6 | LR = 0.001 | Loss = 1.54 | Batch = 390 | Accuracy = 50.79: 100%|██████████| 391/391 [00:22<00:00, 17.23it/s]\n"
          ]
        },
        {
          "output_type": "stream",
          "name": "stdout",
          "text": [
            "Test set: Average loss: 0.0092, Accuracy: 5818/10000 (58.18%)\n",
            "\n"
          ]
        },
        {
          "output_type": "stream",
          "name": "stderr",
          "text": [
            "EPOCH = 7 | LR = 0.001 | Loss = 1.17 | Batch = 390 | Accuracy = 52.65: 100%|██████████| 391/391 [00:22<00:00, 17.22it/s]\n"
          ]
        },
        {
          "output_type": "stream",
          "name": "stdout",
          "text": [
            "Test set: Average loss: 0.0087, Accuracy: 6008/10000 (60.08%)\n",
            "\n"
          ]
        },
        {
          "output_type": "stream",
          "name": "stderr",
          "text": [
            "EPOCH = 8 | LR = 0.001 | Loss = 1.26 | Batch = 390 | Accuracy = 53.81: 100%|██████████| 391/391 [00:22<00:00, 17.22it/s]\n"
          ]
        },
        {
          "output_type": "stream",
          "name": "stdout",
          "text": [
            "Test set: Average loss: 0.0088, Accuracy: 6035/10000 (60.35%)\n",
            "\n"
          ]
        },
        {
          "output_type": "stream",
          "name": "stderr",
          "text": [
            "EPOCH = 9 | LR = 0.001 | Loss = 1.33 | Batch = 390 | Accuracy = 55.13: 100%|██████████| 391/391 [00:22<00:00, 17.19it/s]\n"
          ]
        },
        {
          "output_type": "stream",
          "name": "stdout",
          "text": [
            "Test set: Average loss: 0.0084, Accuracy: 6188/10000 (61.88%)\n",
            "\n"
          ]
        },
        {
          "output_type": "stream",
          "name": "stderr",
          "text": [
            "EPOCH = 10 | LR = 0.001 | Loss = 1.28 | Batch = 390 | Accuracy = 56.14: 100%|██████████| 391/391 [00:22<00:00, 17.22it/s]\n"
          ]
        },
        {
          "output_type": "stream",
          "name": "stdout",
          "text": [
            "Test set: Average loss: 0.0079, Accuracy: 6416/10000 (64.16%)\n",
            "\n"
          ]
        },
        {
          "output_type": "stream",
          "name": "stderr",
          "text": [
            "EPOCH = 11 | LR = 0.001 | Loss = 1.25 | Batch = 390 | Accuracy = 57.03: 100%|██████████| 391/391 [00:22<00:00, 17.23it/s]\n"
          ]
        },
        {
          "output_type": "stream",
          "name": "stdout",
          "text": [
            "Test set: Average loss: 0.0076, Accuracy: 6525/10000 (65.25%)\n",
            "\n"
          ]
        },
        {
          "output_type": "stream",
          "name": "stderr",
          "text": [
            "EPOCH = 12 | LR = 0.001 | Loss = 1.25 | Batch = 390 | Accuracy = 57.85: 100%|██████████| 391/391 [00:22<00:00, 17.25it/s]\n"
          ]
        },
        {
          "output_type": "stream",
          "name": "stdout",
          "text": [
            "Test set: Average loss: 0.0078, Accuracy: 6511/10000 (65.11%)\n",
            "\n"
          ]
        },
        {
          "output_type": "stream",
          "name": "stderr",
          "text": [
            "EPOCH = 13 | LR = 0.001 | Loss = 1.22 | Batch = 390 | Accuracy = 58.44: 100%|██████████| 391/391 [00:22<00:00, 17.20it/s]\n"
          ]
        },
        {
          "output_type": "stream",
          "name": "stdout",
          "text": [
            "Test set: Average loss: 0.0075, Accuracy: 6616/10000 (66.16%)\n",
            "\n"
          ]
        },
        {
          "output_type": "stream",
          "name": "stderr",
          "text": [
            "EPOCH = 14 | LR = 0.001 | Loss = 1.02 | Batch = 390 | Accuracy = 59.11: 100%|██████████| 391/391 [00:22<00:00, 17.06it/s]\n"
          ]
        },
        {
          "output_type": "stream",
          "name": "stdout",
          "text": [
            "Test set: Average loss: 0.0074, Accuracy: 6683/10000 (66.83%)\n",
            "\n"
          ]
        },
        {
          "output_type": "stream",
          "name": "stderr",
          "text": [
            "EPOCH = 15 | LR = 0.001 | Loss = 1.01 | Batch = 390 | Accuracy = 59.94: 100%|██████████| 391/391 [00:22<00:00, 17.20it/s]\n"
          ]
        },
        {
          "output_type": "stream",
          "name": "stdout",
          "text": [
            "Test set: Average loss: 0.0073, Accuracy: 6734/10000 (67.34%)\n",
            "\n"
          ]
        },
        {
          "output_type": "stream",
          "name": "stderr",
          "text": [
            "EPOCH = 16 | LR = 0.001 | Loss = 1.07 | Batch = 390 | Accuracy = 60.71: 100%|██████████| 391/391 [00:23<00:00, 16.60it/s]\n"
          ]
        },
        {
          "output_type": "stream",
          "name": "stdout",
          "text": [
            "Test set: Average loss: 0.0070, Accuracy: 6846/10000 (68.46%)\n",
            "\n"
          ]
        },
        {
          "output_type": "stream",
          "name": "stderr",
          "text": [
            "EPOCH = 17 | LR = 0.001 | Loss = 1.12 | Batch = 390 | Accuracy = 61.33: 100%|██████████| 391/391 [00:22<00:00, 17.10it/s]\n"
          ]
        },
        {
          "output_type": "stream",
          "name": "stdout",
          "text": [
            "Test set: Average loss: 0.0067, Accuracy: 6961/10000 (69.61%)\n",
            "\n"
          ]
        },
        {
          "output_type": "stream",
          "name": "stderr",
          "text": [
            "EPOCH = 18 | LR = 0.001 | Loss = 1.34 | Batch = 390 | Accuracy = 61.84: 100%|██████████| 391/391 [00:22<00:00, 17.24it/s]\n"
          ]
        },
        {
          "output_type": "stream",
          "name": "stdout",
          "text": [
            "Test set: Average loss: 0.0067, Accuracy: 6980/10000 (69.80%)\n",
            "\n"
          ]
        },
        {
          "output_type": "stream",
          "name": "stderr",
          "text": [
            "EPOCH = 19 | LR = 0.001 | Loss = 1.23 | Batch = 390 | Accuracy = 62.22: 100%|██████████| 391/391 [00:23<00:00, 16.62it/s]\n"
          ]
        },
        {
          "output_type": "stream",
          "name": "stdout",
          "text": [
            "Test set: Average loss: 0.0065, Accuracy: 7074/10000 (70.74%)\n",
            "\n"
          ]
        },
        {
          "output_type": "stream",
          "name": "stderr",
          "text": [
            "EPOCH = 20 | LR = 0.001 | Loss = 1.23 | Batch = 390 | Accuracy = 62.69: 100%|██████████| 391/391 [00:23<00:00, 16.63it/s]\n"
          ]
        },
        {
          "output_type": "stream",
          "name": "stdout",
          "text": [
            "Test set: Average loss: 0.0066, Accuracy: 7059/10000 (70.59%)\n",
            "\n"
          ]
        },
        {
          "output_type": "stream",
          "name": "stderr",
          "text": [
            "EPOCH = 21 | LR = 0.001 | Loss = 1.03 | Batch = 390 | Accuracy = 63.38: 100%|██████████| 391/391 [00:23<00:00, 16.96it/s]\n"
          ]
        },
        {
          "output_type": "stream",
          "name": "stdout",
          "text": [
            "Test set: Average loss: 0.0066, Accuracy: 7043/10000 (70.43%)\n",
            "\n"
          ]
        },
        {
          "output_type": "stream",
          "name": "stderr",
          "text": [
            "EPOCH = 22 | LR = 0.001 | Loss = 1.00 | Batch = 390 | Accuracy = 63.83: 100%|██████████| 391/391 [00:22<00:00, 17.19it/s]\n"
          ]
        },
        {
          "output_type": "stream",
          "name": "stdout",
          "text": [
            "Test set: Average loss: 0.0062, Accuracy: 7242/10000 (72.42%)\n",
            "\n"
          ]
        },
        {
          "output_type": "stream",
          "name": "stderr",
          "text": [
            "EPOCH = 23 | LR = 0.001 | Loss = 0.87 | Batch = 390 | Accuracy = 64.27: 100%|██████████| 391/391 [00:22<00:00, 17.14it/s]\n"
          ]
        },
        {
          "output_type": "stream",
          "name": "stdout",
          "text": [
            "Test set: Average loss: 0.0062, Accuracy: 7277/10000 (72.77%)\n",
            "\n"
          ]
        },
        {
          "output_type": "stream",
          "name": "stderr",
          "text": [
            "EPOCH = 24 | LR = 0.001 | Loss = 1.08 | Batch = 390 | Accuracy = 64.63: 100%|██████████| 391/391 [00:22<00:00, 17.01it/s]\n"
          ]
        },
        {
          "output_type": "stream",
          "name": "stdout",
          "text": [
            "Test set: Average loss: 0.0062, Accuracy: 7245/10000 (72.45%)\n",
            "\n"
          ]
        },
        {
          "output_type": "stream",
          "name": "stderr",
          "text": [
            "EPOCH = 25 | LR = 0.001 | Loss = 1.09 | Batch = 390 | Accuracy = 65.11: 100%|██████████| 391/391 [00:22<00:00, 17.17it/s]\n"
          ]
        },
        {
          "output_type": "stream",
          "name": "stdout",
          "text": [
            "Test set: Average loss: 0.0061, Accuracy: 7275/10000 (72.75%)\n",
            "\n"
          ]
        },
        {
          "output_type": "stream",
          "name": "stderr",
          "text": [
            "EPOCH = 26 | LR = 0.001 | Loss = 1.01 | Batch = 390 | Accuracy = 65.24: 100%|██████████| 391/391 [00:22<00:00, 17.20it/s]\n"
          ]
        },
        {
          "output_type": "stream",
          "name": "stdout",
          "text": [
            "Test set: Average loss: 0.0060, Accuracy: 7420/10000 (74.20%)\n",
            "\n"
          ]
        },
        {
          "output_type": "stream",
          "name": "stderr",
          "text": [
            "EPOCH = 27 | LR = 0.001 | Loss = 0.95 | Batch = 390 | Accuracy = 65.64: 100%|██████████| 391/391 [00:22<00:00, 17.19it/s]\n"
          ]
        },
        {
          "output_type": "stream",
          "name": "stdout",
          "text": [
            "Test set: Average loss: 0.0058, Accuracy: 7378/10000 (73.78%)\n",
            "\n"
          ]
        },
        {
          "output_type": "stream",
          "name": "stderr",
          "text": [
            "EPOCH = 28 | LR = 0.001 | Loss = 1.10 | Batch = 390 | Accuracy = 66.02: 100%|██████████| 391/391 [00:22<00:00, 17.18it/s]\n"
          ]
        },
        {
          "output_type": "stream",
          "name": "stdout",
          "text": [
            "Test set: Average loss: 0.0057, Accuracy: 7529/10000 (75.29%)\n",
            "\n"
          ]
        },
        {
          "output_type": "stream",
          "name": "stderr",
          "text": [
            "EPOCH = 29 | LR = 0.001 | Loss = 1.13 | Batch = 390 | Accuracy = 66.28: 100%|██████████| 391/391 [00:22<00:00, 17.23it/s]\n"
          ]
        },
        {
          "output_type": "stream",
          "name": "stdout",
          "text": [
            "Test set: Average loss: 0.0057, Accuracy: 7505/10000 (75.05%)\n",
            "\n"
          ]
        },
        {
          "output_type": "stream",
          "name": "stderr",
          "text": [
            "EPOCH = 30 | LR = 0.001 | Loss = 1.08 | Batch = 390 | Accuracy = 66.36: 100%|██████████| 391/391 [00:22<00:00, 17.25it/s]\n"
          ]
        },
        {
          "output_type": "stream",
          "name": "stdout",
          "text": [
            "Test set: Average loss: 0.0059, Accuracy: 7444/10000 (74.44%)\n",
            "\n"
          ]
        },
        {
          "output_type": "stream",
          "name": "stderr",
          "text": [
            "EPOCH = 31 | LR = 0.001 | Loss = 0.87 | Batch = 390 | Accuracy = 66.63: 100%|██████████| 391/391 [00:22<00:00, 17.19it/s]\n"
          ]
        },
        {
          "output_type": "stream",
          "name": "stdout",
          "text": [
            "Test set: Average loss: 0.0055, Accuracy: 7585/10000 (75.85%)\n",
            "\n"
          ]
        },
        {
          "output_type": "stream",
          "name": "stderr",
          "text": [
            "EPOCH = 32 | LR = 0.001 | Loss = 1.12 | Batch = 390 | Accuracy = 66.74: 100%|██████████| 391/391 [00:22<00:00, 17.12it/s]\n"
          ]
        },
        {
          "output_type": "stream",
          "name": "stdout",
          "text": [
            "Test set: Average loss: 0.0055, Accuracy: 7561/10000 (75.61%)\n",
            "\n"
          ]
        },
        {
          "output_type": "stream",
          "name": "stderr",
          "text": [
            "EPOCH = 33 | LR = 0.001 | Loss = 1.03 | Batch = 390 | Accuracy = 67.23: 100%|██████████| 391/391 [00:22<00:00, 17.18it/s]\n"
          ]
        },
        {
          "output_type": "stream",
          "name": "stdout",
          "text": [
            "Test set: Average loss: 0.0054, Accuracy: 7597/10000 (75.97%)\n",
            "\n"
          ]
        },
        {
          "output_type": "stream",
          "name": "stderr",
          "text": [
            "EPOCH = 34 | LR = 0.001 | Loss = 0.94 | Batch = 390 | Accuracy = 67.63: 100%|██████████| 391/391 [00:22<00:00, 17.17it/s]\n"
          ]
        },
        {
          "output_type": "stream",
          "name": "stdout",
          "text": [
            "Test set: Average loss: 0.0054, Accuracy: 7588/10000 (75.88%)\n",
            "\n"
          ]
        },
        {
          "output_type": "stream",
          "name": "stderr",
          "text": [
            "EPOCH = 35 | LR = 0.001 | Loss = 0.81 | Batch = 390 | Accuracy = 67.51: 100%|██████████| 391/391 [00:22<00:00, 17.17it/s]\n"
          ]
        },
        {
          "output_type": "stream",
          "name": "stdout",
          "text": [
            "Test set: Average loss: 0.0055, Accuracy: 7584/10000 (75.84%)\n",
            "\n"
          ]
        },
        {
          "output_type": "stream",
          "name": "stderr",
          "text": [
            "EPOCH = 36 | LR = 0.001 | Loss = 1.20 | Batch = 390 | Accuracy = 68.03: 100%|██████████| 391/391 [00:22<00:00, 17.17it/s]\n"
          ]
        },
        {
          "output_type": "stream",
          "name": "stdout",
          "text": [
            "Test set: Average loss: 0.0054, Accuracy: 7681/10000 (76.81%)\n",
            "\n"
          ]
        },
        {
          "output_type": "stream",
          "name": "stderr",
          "text": [
            "EPOCH = 37 | LR = 0.001 | Loss = 0.78 | Batch = 390 | Accuracy = 68.22: 100%|██████████| 391/391 [00:22<00:00, 17.17it/s]\n"
          ]
        },
        {
          "output_type": "stream",
          "name": "stdout",
          "text": [
            "Test set: Average loss: 0.0052, Accuracy: 7728/10000 (77.28%)\n",
            "\n"
          ]
        },
        {
          "output_type": "stream",
          "name": "stderr",
          "text": [
            "EPOCH = 38 | LR = 0.001 | Loss = 0.93 | Batch = 390 | Accuracy = 68.44: 100%|██████████| 391/391 [00:22<00:00, 17.15it/s]\n"
          ]
        },
        {
          "output_type": "stream",
          "name": "stdout",
          "text": [
            "Test set: Average loss: 0.0053, Accuracy: 7665/10000 (76.65%)\n",
            "\n"
          ]
        },
        {
          "output_type": "stream",
          "name": "stderr",
          "text": [
            "EPOCH = 39 | LR = 0.001 | Loss = 0.81 | Batch = 390 | Accuracy = 68.77: 100%|██████████| 391/391 [00:22<00:00, 17.20it/s]\n"
          ]
        },
        {
          "output_type": "stream",
          "name": "stdout",
          "text": [
            "Test set: Average loss: 0.0052, Accuracy: 7685/10000 (76.85%)\n",
            "\n"
          ]
        },
        {
          "output_type": "stream",
          "name": "stderr",
          "text": [
            "EPOCH = 40 | LR = 0.001 | Loss = 1.02 | Batch = 390 | Accuracy = 68.80: 100%|██████████| 391/391 [00:22<00:00, 17.13it/s]\n"
          ]
        },
        {
          "output_type": "stream",
          "name": "stdout",
          "text": [
            "Test set: Average loss: 0.0051, Accuracy: 7811/10000 (78.11%)\n",
            "\n"
          ]
        },
        {
          "output_type": "stream",
          "name": "stderr",
          "text": [
            "EPOCH = 41 | LR = 0.001 | Loss = 1.12 | Batch = 390 | Accuracy = 69.07: 100%|██████████| 391/391 [00:22<00:00, 17.16it/s]\n"
          ]
        },
        {
          "output_type": "stream",
          "name": "stdout",
          "text": [
            "Test set: Average loss: 0.0053, Accuracy: 7680/10000 (76.80%)\n",
            "\n"
          ]
        },
        {
          "output_type": "stream",
          "name": "stderr",
          "text": [
            "EPOCH = 42 | LR = 0.001 | Loss = 0.71 | Batch = 390 | Accuracy = 69.13: 100%|██████████| 391/391 [00:22<00:00, 17.18it/s]\n"
          ]
        },
        {
          "output_type": "stream",
          "name": "stdout",
          "text": [
            "Test set: Average loss: 0.0051, Accuracy: 7751/10000 (77.51%)\n",
            "\n"
          ]
        },
        {
          "output_type": "stream",
          "name": "stderr",
          "text": [
            "EPOCH = 43 | LR = 0.001 | Loss = 0.78 | Batch = 390 | Accuracy = 69.51: 100%|██████████| 391/391 [00:22<00:00, 17.16it/s]\n"
          ]
        },
        {
          "output_type": "stream",
          "name": "stdout",
          "text": [
            "Test set: Average loss: 0.0050, Accuracy: 7863/10000 (78.63%)\n",
            "\n"
          ]
        },
        {
          "output_type": "stream",
          "name": "stderr",
          "text": [
            "EPOCH = 44 | LR = 0.001 | Loss = 0.99 | Batch = 390 | Accuracy = 69.58: 100%|██████████| 391/391 [00:22<00:00, 17.19it/s]\n"
          ]
        },
        {
          "output_type": "stream",
          "name": "stdout",
          "text": [
            "Test set: Average loss: 0.0052, Accuracy: 7747/10000 (77.47%)\n",
            "\n"
          ]
        },
        {
          "output_type": "stream",
          "name": "stderr",
          "text": [
            "EPOCH = 45 | LR = 0.001 | Loss = 0.87 | Batch = 390 | Accuracy = 69.68: 100%|██████████| 391/391 [00:22<00:00, 17.21it/s]\n"
          ]
        },
        {
          "output_type": "stream",
          "name": "stdout",
          "text": [
            "Test set: Average loss: 0.0049, Accuracy: 7834/10000 (78.34%)\n",
            "\n"
          ]
        },
        {
          "output_type": "stream",
          "name": "stderr",
          "text": [
            "EPOCH = 46 | LR = 0.001 | Loss = 0.66 | Batch = 390 | Accuracy = 69.89: 100%|██████████| 391/391 [00:22<00:00, 17.21it/s]\n"
          ]
        },
        {
          "output_type": "stream",
          "name": "stdout",
          "text": [
            "Test set: Average loss: 0.0049, Accuracy: 7868/10000 (78.68%)\n",
            "\n"
          ]
        },
        {
          "output_type": "stream",
          "name": "stderr",
          "text": [
            "EPOCH = 47 | LR = 0.001 | Loss = 1.04 | Batch = 390 | Accuracy = 69.90: 100%|██████████| 391/391 [00:22<00:00, 17.22it/s]\n"
          ]
        },
        {
          "output_type": "stream",
          "name": "stdout",
          "text": [
            "Test set: Average loss: 0.0050, Accuracy: 7802/10000 (78.02%)\n",
            "\n"
          ]
        },
        {
          "output_type": "stream",
          "name": "stderr",
          "text": [
            "EPOCH = 48 | LR = 0.001 | Loss = 1.19 | Batch = 390 | Accuracy = 70.18: 100%|██████████| 391/391 [00:22<00:00, 17.17it/s]\n"
          ]
        },
        {
          "output_type": "stream",
          "name": "stdout",
          "text": [
            "Test set: Average loss: 0.0049, Accuracy: 7872/10000 (78.72%)\n",
            "\n"
          ]
        },
        {
          "output_type": "stream",
          "name": "stderr",
          "text": [
            "EPOCH = 49 | LR = 0.001 | Loss = 0.90 | Batch = 390 | Accuracy = 70.41: 100%|██████████| 391/391 [00:22<00:00, 17.22it/s]\n"
          ]
        },
        {
          "output_type": "stream",
          "name": "stdout",
          "text": [
            "Test set: Average loss: 0.0048, Accuracy: 7883/10000 (78.83%)\n",
            "\n"
          ]
        },
        {
          "output_type": "stream",
          "name": "stderr",
          "text": [
            "EPOCH = 50 | LR = 0.001 | Loss = 0.91 | Batch = 390 | Accuracy = 70.43: 100%|██████████| 391/391 [00:22<00:00, 17.22it/s]\n"
          ]
        },
        {
          "output_type": "stream",
          "name": "stdout",
          "text": [
            "Test set: Average loss: 0.0048, Accuracy: 7891/10000 (78.91%)\n",
            "\n"
          ]
        },
        {
          "output_type": "stream",
          "name": "stderr",
          "text": [
            "EPOCH = 51 | LR = 0.001 | Loss = 0.88 | Batch = 390 | Accuracy = 70.63: 100%|██████████| 391/391 [00:22<00:00, 17.20it/s]\n"
          ]
        },
        {
          "output_type": "stream",
          "name": "stdout",
          "text": [
            "Test set: Average loss: 0.0047, Accuracy: 7971/10000 (79.71%)\n",
            "\n"
          ]
        },
        {
          "output_type": "stream",
          "name": "stderr",
          "text": [
            "EPOCH = 52 | LR = 0.001 | Loss = 0.85 | Batch = 390 | Accuracy = 70.73: 100%|██████████| 391/391 [00:22<00:00, 17.23it/s]\n"
          ]
        },
        {
          "output_type": "stream",
          "name": "stdout",
          "text": [
            "Test set: Average loss: 0.0049, Accuracy: 7900/10000 (79.00%)\n",
            "\n"
          ]
        },
        {
          "output_type": "stream",
          "name": "stderr",
          "text": [
            "EPOCH = 53 | LR = 0.001 | Loss = 0.82 | Batch = 390 | Accuracy = 70.80: 100%|██████████| 391/391 [00:22<00:00, 17.15it/s]\n"
          ]
        },
        {
          "output_type": "stream",
          "name": "stdout",
          "text": [
            "Test set: Average loss: 0.0046, Accuracy: 8008/10000 (80.08%)\n",
            "\n"
          ]
        },
        {
          "output_type": "stream",
          "name": "stderr",
          "text": [
            "EPOCH = 54 | LR = 0.001 | Loss = 0.82 | Batch = 390 | Accuracy = 71.01: 100%|██████████| 391/391 [00:22<00:00, 17.20it/s]\n"
          ]
        },
        {
          "output_type": "stream",
          "name": "stdout",
          "text": [
            "Test set: Average loss: 0.0047, Accuracy: 7943/10000 (79.43%)\n",
            "\n"
          ]
        },
        {
          "output_type": "stream",
          "name": "stderr",
          "text": [
            "EPOCH = 55 | LR = 0.001 | Loss = 0.81 | Batch = 390 | Accuracy = 71.18: 100%|██████████| 391/391 [00:22<00:00, 17.21it/s]\n"
          ]
        },
        {
          "output_type": "stream",
          "name": "stdout",
          "text": [
            "Test set: Average loss: 0.0046, Accuracy: 7994/10000 (79.94%)\n",
            "\n"
          ]
        },
        {
          "output_type": "stream",
          "name": "stderr",
          "text": [
            "EPOCH = 56 | LR = 0.001 | Loss = 0.92 | Batch = 390 | Accuracy = 71.32: 100%|██████████| 391/391 [00:22<00:00, 17.18it/s]\n"
          ]
        },
        {
          "output_type": "stream",
          "name": "stdout",
          "text": [
            "Test set: Average loss: 0.0046, Accuracy: 8007/10000 (80.07%)\n",
            "\n"
          ]
        },
        {
          "output_type": "stream",
          "name": "stderr",
          "text": [
            "EPOCH = 57 | LR = 0.001 | Loss = 0.84 | Batch = 390 | Accuracy = 71.70: 100%|██████████| 391/391 [00:22<00:00, 17.21it/s]\n"
          ]
        },
        {
          "output_type": "stream",
          "name": "stdout",
          "text": [
            "Test set: Average loss: 0.0047, Accuracy: 7982/10000 (79.82%)\n",
            "\n"
          ]
        },
        {
          "output_type": "stream",
          "name": "stderr",
          "text": [
            "EPOCH = 58 | LR = 0.001 | Loss = 0.75 | Batch = 390 | Accuracy = 71.74: 100%|██████████| 391/391 [00:22<00:00, 17.18it/s]\n"
          ]
        },
        {
          "output_type": "stream",
          "name": "stdout",
          "text": [
            "Test set: Average loss: 0.0047, Accuracy: 7925/10000 (79.25%)\n",
            "\n"
          ]
        },
        {
          "output_type": "stream",
          "name": "stderr",
          "text": [
            "EPOCH = 59 | LR = 0.001 | Loss = 0.87 | Batch = 390 | Accuracy = 71.79: 100%|██████████| 391/391 [00:22<00:00, 17.19it/s]\n"
          ]
        },
        {
          "output_type": "stream",
          "name": "stdout",
          "text": [
            "Test set: Average loss: 0.0045, Accuracy: 8048/10000 (80.48%)\n",
            "\n"
          ]
        },
        {
          "output_type": "stream",
          "name": "stderr",
          "text": [
            "EPOCH = 60 | LR = 0.001 | Loss = 1.02 | Batch = 390 | Accuracy = 71.50: 100%|██████████| 391/391 [00:22<00:00, 17.21it/s]\n"
          ]
        },
        {
          "output_type": "stream",
          "name": "stdout",
          "text": [
            "Test set: Average loss: 0.0045, Accuracy: 8064/10000 (80.64%)\n",
            "\n"
          ]
        },
        {
          "output_type": "stream",
          "name": "stderr",
          "text": [
            "EPOCH = 61 | LR = 0.001 | Loss = 0.63 | Batch = 390 | Accuracy = 71.87: 100%|██████████| 391/391 [00:22<00:00, 17.19it/s]\n"
          ]
        },
        {
          "output_type": "stream",
          "name": "stdout",
          "text": [
            "Test set: Average loss: 0.0045, Accuracy: 8052/10000 (80.52%)\n",
            "\n"
          ]
        },
        {
          "output_type": "stream",
          "name": "stderr",
          "text": [
            "EPOCH = 62 | LR = 0.001 | Loss = 0.93 | Batch = 390 | Accuracy = 72.12: 100%|██████████| 391/391 [00:22<00:00, 17.24it/s]\n"
          ]
        },
        {
          "output_type": "stream",
          "name": "stdout",
          "text": [
            "Test set: Average loss: 0.0045, Accuracy: 8083/10000 (80.83%)\n",
            "\n"
          ]
        },
        {
          "output_type": "stream",
          "name": "stderr",
          "text": [
            "EPOCH = 63 | LR = 0.001 | Loss = 0.95 | Batch = 390 | Accuracy = 72.31: 100%|██████████| 391/391 [00:22<00:00, 17.12it/s]\n"
          ]
        },
        {
          "output_type": "stream",
          "name": "stdout",
          "text": [
            "Test set: Average loss: 0.0045, Accuracy: 8084/10000 (80.84%)\n",
            "\n"
          ]
        },
        {
          "output_type": "stream",
          "name": "stderr",
          "text": [
            "EPOCH = 64 | LR = 0.001 | Loss = 0.91 | Batch = 390 | Accuracy = 72.28: 100%|██████████| 391/391 [00:22<00:00, 17.08it/s]\n"
          ]
        },
        {
          "output_type": "stream",
          "name": "stdout",
          "text": [
            "Test set: Average loss: 0.0046, Accuracy: 7990/10000 (79.90%)\n",
            "\n"
          ]
        },
        {
          "output_type": "stream",
          "name": "stderr",
          "text": [
            "EPOCH = 65 | LR = 0.001 | Loss = 1.12 | Batch = 390 | Accuracy = 72.34: 100%|██████████| 391/391 [00:22<00:00, 17.03it/s]\n"
          ]
        },
        {
          "output_type": "stream",
          "name": "stdout",
          "text": [
            "Test set: Average loss: 0.0043, Accuracy: 8094/10000 (80.94%)\n",
            "\n"
          ]
        },
        {
          "output_type": "stream",
          "name": "stderr",
          "text": [
            "EPOCH = 66 | LR = 0.001 | Loss = 0.62 | Batch = 390 | Accuracy = 72.27: 100%|██████████| 391/391 [00:22<00:00, 17.05it/s]\n"
          ]
        },
        {
          "output_type": "stream",
          "name": "stdout",
          "text": [
            "Test set: Average loss: 0.0044, Accuracy: 8055/10000 (80.55%)\n",
            "\n"
          ]
        },
        {
          "output_type": "stream",
          "name": "stderr",
          "text": [
            "EPOCH = 67 | LR = 0.001 | Loss = 0.60 | Batch = 390 | Accuracy = 72.57: 100%|██████████| 391/391 [00:22<00:00, 17.08it/s]\n"
          ]
        },
        {
          "output_type": "stream",
          "name": "stdout",
          "text": [
            "Test set: Average loss: 0.0044, Accuracy: 8089/10000 (80.89%)\n",
            "\n"
          ]
        },
        {
          "output_type": "stream",
          "name": "stderr",
          "text": [
            "EPOCH = 68 | LR = 0.001 | Loss = 0.85 | Batch = 390 | Accuracy = 72.39: 100%|██████████| 391/391 [00:22<00:00, 17.07it/s]\n"
          ]
        },
        {
          "output_type": "stream",
          "name": "stdout",
          "text": [
            "Test set: Average loss: 0.0043, Accuracy: 8102/10000 (81.02%)\n",
            "\n"
          ]
        },
        {
          "output_type": "stream",
          "name": "stderr",
          "text": [
            "EPOCH = 69 | LR = 0.001 | Loss = 0.67 | Batch = 390 | Accuracy = 72.88: 100%|██████████| 391/391 [00:22<00:00, 17.11it/s]\n"
          ]
        },
        {
          "output_type": "stream",
          "name": "stdout",
          "text": [
            "Test set: Average loss: 0.0044, Accuracy: 8126/10000 (81.26%)\n",
            "\n"
          ]
        },
        {
          "output_type": "stream",
          "name": "stderr",
          "text": [
            "EPOCH = 70 | LR = 0.001 | Loss = 0.72 | Batch = 390 | Accuracy = 72.90: 100%|██████████| 391/391 [00:22<00:00, 17.10it/s]\n"
          ]
        },
        {
          "output_type": "stream",
          "name": "stdout",
          "text": [
            "Test set: Average loss: 0.0044, Accuracy: 8126/10000 (81.26%)\n",
            "\n"
          ]
        },
        {
          "output_type": "stream",
          "name": "stderr",
          "text": [
            "EPOCH = 71 | LR = 0.001 | Loss = 0.81 | Batch = 390 | Accuracy = 72.74: 100%|██████████| 391/391 [00:22<00:00, 17.09it/s]\n"
          ]
        },
        {
          "output_type": "stream",
          "name": "stdout",
          "text": [
            "Test set: Average loss: 0.0044, Accuracy: 8126/10000 (81.26%)\n",
            "\n"
          ]
        },
        {
          "output_type": "stream",
          "name": "stderr",
          "text": [
            "EPOCH = 72 | LR = 0.001 | Loss = 0.83 | Batch = 390 | Accuracy = 73.34: 100%|██████████| 391/391 [00:22<00:00, 17.10it/s]\n"
          ]
        },
        {
          "output_type": "stream",
          "name": "stdout",
          "text": [
            "Test set: Average loss: 0.0042, Accuracy: 8179/10000 (81.79%)\n",
            "\n"
          ]
        },
        {
          "output_type": "stream",
          "name": "stderr",
          "text": [
            "EPOCH = 73 | LR = 0.001 | Loss = 0.74 | Batch = 390 | Accuracy = 73.32: 100%|██████████| 391/391 [00:22<00:00, 17.09it/s]\n"
          ]
        },
        {
          "output_type": "stream",
          "name": "stdout",
          "text": [
            "Test set: Average loss: 0.0042, Accuracy: 8185/10000 (81.85%)\n",
            "\n"
          ]
        },
        {
          "output_type": "stream",
          "name": "stderr",
          "text": [
            "EPOCH = 74 | LR = 0.001 | Loss = 0.77 | Batch = 390 | Accuracy = 73.20: 100%|██████████| 391/391 [00:22<00:00, 17.10it/s]\n"
          ]
        },
        {
          "output_type": "stream",
          "name": "stdout",
          "text": [
            "Test set: Average loss: 0.0042, Accuracy: 8147/10000 (81.47%)\n",
            "\n"
          ]
        },
        {
          "output_type": "stream",
          "name": "stderr",
          "text": [
            "EPOCH = 75 | LR = 0.001 | Loss = 0.99 | Batch = 390 | Accuracy = 73.39: 100%|██████████| 391/391 [00:22<00:00, 17.09it/s]\n"
          ]
        },
        {
          "output_type": "stream",
          "name": "stdout",
          "text": [
            "Test set: Average loss: 0.0043, Accuracy: 8140/10000 (81.40%)\n",
            "\n"
          ]
        },
        {
          "output_type": "stream",
          "name": "stderr",
          "text": [
            "EPOCH = 76 | LR = 0.001 | Loss = 0.56 | Batch = 390 | Accuracy = 73.20: 100%|██████████| 391/391 [00:22<00:00, 17.05it/s]\n"
          ]
        },
        {
          "output_type": "stream",
          "name": "stdout",
          "text": [
            "Test set: Average loss: 0.0041, Accuracy: 8234/10000 (82.34%)\n",
            "\n"
          ]
        },
        {
          "output_type": "stream",
          "name": "stderr",
          "text": [
            "EPOCH = 77 | LR = 0.001 | Loss = 0.91 | Batch = 390 | Accuracy = 73.41: 100%|██████████| 391/391 [00:22<00:00, 17.07it/s]\n"
          ]
        },
        {
          "output_type": "stream",
          "name": "stdout",
          "text": [
            "Test set: Average loss: 0.0041, Accuracy: 8254/10000 (82.54%)\n",
            "\n"
          ]
        },
        {
          "output_type": "stream",
          "name": "stderr",
          "text": [
            "EPOCH = 78 | LR = 0.001 | Loss = 0.76 | Batch = 390 | Accuracy = 73.76: 100%|██████████| 391/391 [00:22<00:00, 17.06it/s]\n"
          ]
        },
        {
          "output_type": "stream",
          "name": "stdout",
          "text": [
            "Test set: Average loss: 0.0041, Accuracy: 8211/10000 (82.11%)\n",
            "\n"
          ]
        },
        {
          "output_type": "stream",
          "name": "stderr",
          "text": [
            "EPOCH = 79 | LR = 0.001 | Loss = 0.90 | Batch = 390 | Accuracy = 73.57: 100%|██████████| 391/391 [00:22<00:00, 17.11it/s]\n"
          ]
        },
        {
          "output_type": "stream",
          "name": "stdout",
          "text": [
            "Test set: Average loss: 0.0042, Accuracy: 8191/10000 (81.91%)\n",
            "\n"
          ]
        },
        {
          "output_type": "stream",
          "name": "stderr",
          "text": [
            "EPOCH = 80 | LR = 0.001 | Loss = 0.59 | Batch = 390 | Accuracy = 73.40: 100%|██████████| 391/391 [00:22<00:00, 17.12it/s]\n"
          ]
        },
        {
          "output_type": "stream",
          "name": "stdout",
          "text": [
            "Test set: Average loss: 0.0041, Accuracy: 8240/10000 (82.40%)\n",
            "\n"
          ]
        },
        {
          "output_type": "stream",
          "name": "stderr",
          "text": [
            "EPOCH = 81 | LR = 0.001 | Loss = 1.00 | Batch = 390 | Accuracy = 73.79: 100%|██████████| 391/391 [00:22<00:00, 17.07it/s]\n"
          ]
        },
        {
          "output_type": "stream",
          "name": "stdout",
          "text": [
            "Test set: Average loss: 0.0042, Accuracy: 8235/10000 (82.35%)\n",
            "\n"
          ]
        },
        {
          "output_type": "stream",
          "name": "stderr",
          "text": [
            "EPOCH = 82 | LR = 0.001 | Loss = 0.82 | Batch = 390 | Accuracy = 73.69: 100%|██████████| 391/391 [00:22<00:00, 17.10it/s]\n"
          ]
        },
        {
          "output_type": "stream",
          "name": "stdout",
          "text": [
            "Test set: Average loss: 0.0041, Accuracy: 8218/10000 (82.18%)\n",
            "\n"
          ]
        },
        {
          "output_type": "stream",
          "name": "stderr",
          "text": [
            "EPOCH = 83 | LR = 0.001 | Loss = 0.88 | Batch = 390 | Accuracy = 74.10: 100%|██████████| 391/391 [00:22<00:00, 17.05it/s]\n"
          ]
        },
        {
          "output_type": "stream",
          "name": "stdout",
          "text": [
            "Test set: Average loss: 0.0040, Accuracy: 8253/10000 (82.53%)\n",
            "\n"
          ]
        },
        {
          "output_type": "stream",
          "name": "stderr",
          "text": [
            "EPOCH = 84 | LR = 0.001 | Loss = 0.66 | Batch = 390 | Accuracy = 74.12: 100%|██████████| 391/391 [00:22<00:00, 17.11it/s]\n"
          ]
        },
        {
          "output_type": "stream",
          "name": "stdout",
          "text": [
            "Test set: Average loss: 0.0041, Accuracy: 8290/10000 (82.90%)\n",
            "\n"
          ]
        },
        {
          "output_type": "stream",
          "name": "stderr",
          "text": [
            "EPOCH = 85 | LR = 0.001 | Loss = 0.64 | Batch = 390 | Accuracy = 73.74: 100%|██████████| 391/391 [00:22<00:00, 17.12it/s]\n"
          ]
        },
        {
          "output_type": "stream",
          "name": "stdout",
          "text": [
            "Test set: Average loss: 0.0040, Accuracy: 8265/10000 (82.65%)\n",
            "\n"
          ]
        },
        {
          "output_type": "stream",
          "name": "stderr",
          "text": [
            "EPOCH = 86 | LR = 0.001 | Loss = 0.59 | Batch = 390 | Accuracy = 74.22: 100%|██████████| 391/391 [00:22<00:00, 17.07it/s]\n"
          ]
        },
        {
          "output_type": "stream",
          "name": "stdout",
          "text": [
            "Test set: Average loss: 0.0041, Accuracy: 8241/10000 (82.41%)\n",
            "\n"
          ]
        },
        {
          "output_type": "stream",
          "name": "stderr",
          "text": [
            "EPOCH = 87 | LR = 0.001 | Loss = 0.87 | Batch = 390 | Accuracy = 74.02: 100%|██████████| 391/391 [00:22<00:00, 17.13it/s]\n"
          ]
        },
        {
          "output_type": "stream",
          "name": "stdout",
          "text": [
            "Test set: Average loss: 0.0041, Accuracy: 8271/10000 (82.71%)\n",
            "\n"
          ]
        },
        {
          "output_type": "stream",
          "name": "stderr",
          "text": [
            "EPOCH = 88 | LR = 0.001 | Loss = 0.55 | Batch = 390 | Accuracy = 74.19: 100%|██████████| 391/391 [00:22<00:00, 17.12it/s]\n"
          ]
        },
        {
          "output_type": "stream",
          "name": "stdout",
          "text": [
            "Test set: Average loss: 0.0041, Accuracy: 8224/10000 (82.24%)\n",
            "\n"
          ]
        },
        {
          "output_type": "stream",
          "name": "stderr",
          "text": [
            "EPOCH = 89 | LR = 0.001 | Loss = 0.96 | Batch = 390 | Accuracy = 74.21: 100%|██████████| 391/391 [00:22<00:00, 17.09it/s]\n"
          ]
        },
        {
          "output_type": "stream",
          "name": "stdout",
          "text": [
            "Test set: Average loss: 0.0040, Accuracy: 8259/10000 (82.59%)\n",
            "\n"
          ]
        },
        {
          "output_type": "stream",
          "name": "stderr",
          "text": [
            "EPOCH = 90 | LR = 0.001 | Loss = 0.93 | Batch = 390 | Accuracy = 74.32: 100%|██████████| 391/391 [00:22<00:00, 17.04it/s]\n"
          ]
        },
        {
          "output_type": "stream",
          "name": "stdout",
          "text": [
            "Test set: Average loss: 0.0040, Accuracy: 8326/10000 (83.26%)\n",
            "\n"
          ]
        },
        {
          "output_type": "stream",
          "name": "stderr",
          "text": [
            "EPOCH = 91 | LR = 0.001 | Loss = 0.68 | Batch = 390 | Accuracy = 74.48: 100%|██████████| 391/391 [00:22<00:00, 17.12it/s]\n"
          ]
        },
        {
          "output_type": "stream",
          "name": "stdout",
          "text": [
            "Test set: Average loss: 0.0041, Accuracy: 8251/10000 (82.51%)\n",
            "\n"
          ]
        },
        {
          "output_type": "stream",
          "name": "stderr",
          "text": [
            "EPOCH = 92 | LR = 0.001 | Loss = 0.88 | Batch = 390 | Accuracy = 74.67: 100%|██████████| 391/391 [00:22<00:00, 17.10it/s]\n"
          ]
        },
        {
          "output_type": "stream",
          "name": "stdout",
          "text": [
            "Test set: Average loss: 0.0039, Accuracy: 8333/10000 (83.33%)\n",
            "\n"
          ]
        },
        {
          "output_type": "stream",
          "name": "stderr",
          "text": [
            "EPOCH = 93 | LR = 0.001 | Loss = 0.75 | Batch = 390 | Accuracy = 75.02: 100%|██████████| 391/391 [00:22<00:00, 17.09it/s]\n"
          ]
        },
        {
          "output_type": "stream",
          "name": "stdout",
          "text": [
            "Test set: Average loss: 0.0041, Accuracy: 8236/10000 (82.36%)\n",
            "\n"
          ]
        },
        {
          "output_type": "stream",
          "name": "stderr",
          "text": [
            "EPOCH = 94 | LR = 0.001 | Loss = 0.71 | Batch = 390 | Accuracy = 74.89: 100%|██████████| 391/391 [00:22<00:00, 17.10it/s]\n"
          ]
        },
        {
          "output_type": "stream",
          "name": "stdout",
          "text": [
            "Test set: Average loss: 0.0039, Accuracy: 8309/10000 (83.09%)\n",
            "\n"
          ]
        },
        {
          "output_type": "stream",
          "name": "stderr",
          "text": [
            "EPOCH = 95 | LR = 0.001 | Loss = 0.69 | Batch = 390 | Accuracy = 74.88: 100%|██████████| 391/391 [00:22<00:00, 17.02it/s]\n"
          ]
        },
        {
          "output_type": "stream",
          "name": "stdout",
          "text": [
            "Test set: Average loss: 0.0040, Accuracy: 8314/10000 (83.14%)\n",
            "\n"
          ]
        },
        {
          "output_type": "stream",
          "name": "stderr",
          "text": [
            "EPOCH = 96 | LR = 0.001 | Loss = 0.71 | Batch = 390 | Accuracy = 74.84: 100%|██████████| 391/391 [00:23<00:00, 16.89it/s]\n"
          ]
        },
        {
          "output_type": "stream",
          "name": "stdout",
          "text": [
            "Test set: Average loss: 0.0039, Accuracy: 8331/10000 (83.31%)\n",
            "\n"
          ]
        },
        {
          "output_type": "stream",
          "name": "stderr",
          "text": [
            "EPOCH = 97 | LR = 0.001 | Loss = 0.75 | Batch = 390 | Accuracy = 75.16: 100%|██████████| 391/391 [00:22<00:00, 17.13it/s]\n"
          ]
        },
        {
          "output_type": "stream",
          "name": "stdout",
          "text": [
            "Test set: Average loss: 0.0039, Accuracy: 8341/10000 (83.41%)\n",
            "\n"
          ]
        },
        {
          "output_type": "stream",
          "name": "stderr",
          "text": [
            "EPOCH = 98 | LR = 0.001 | Loss = 0.64 | Batch = 390 | Accuracy = 75.12: 100%|██████████| 391/391 [00:22<00:00, 17.20it/s]\n"
          ]
        },
        {
          "output_type": "stream",
          "name": "stdout",
          "text": [
            "Test set: Average loss: 0.0038, Accuracy: 8333/10000 (83.33%)\n",
            "\n"
          ]
        },
        {
          "output_type": "stream",
          "name": "stderr",
          "text": [
            "EPOCH = 99 | LR = 0.001 | Loss = 0.68 | Batch = 390 | Accuracy = 74.80: 100%|██████████| 391/391 [00:22<00:00, 17.22it/s]\n"
          ]
        },
        {
          "output_type": "stream",
          "name": "stdout",
          "text": [
            "Test set: Average loss: 0.0039, Accuracy: 8340/10000 (83.40%)\n",
            "\n"
          ]
        },
        {
          "output_type": "stream",
          "name": "stderr",
          "text": [
            "EPOCH = 100 | LR = 0.001 | Loss = 0.77 | Batch = 390 | Accuracy = 75.18: 100%|██████████| 391/391 [00:22<00:00, 17.21it/s]\n"
          ]
        },
        {
          "output_type": "stream",
          "name": "stdout",
          "text": [
            "Test set: Average loss: 0.0039, Accuracy: 8330/10000 (83.30%)\n",
            "\n"
          ]
        },
        {
          "output_type": "stream",
          "name": "stderr",
          "text": [
            "EPOCH = 101 | LR = 0.001 | Loss = 0.66 | Batch = 390 | Accuracy = 75.15: 100%|██████████| 391/391 [00:22<00:00, 17.20it/s]\n"
          ]
        },
        {
          "output_type": "stream",
          "name": "stdout",
          "text": [
            "Test set: Average loss: 0.0038, Accuracy: 8374/10000 (83.74%)\n",
            "\n"
          ]
        },
        {
          "output_type": "stream",
          "name": "stderr",
          "text": [
            "EPOCH = 102 | LR = 0.001 | Loss = 0.84 | Batch = 390 | Accuracy = 75.15: 100%|██████████| 391/391 [00:22<00:00, 17.20it/s]\n"
          ]
        },
        {
          "output_type": "stream",
          "name": "stdout",
          "text": [
            "Test set: Average loss: 0.0039, Accuracy: 8335/10000 (83.35%)\n",
            "\n"
          ]
        },
        {
          "output_type": "stream",
          "name": "stderr",
          "text": [
            "EPOCH = 103 | LR = 0.001 | Loss = 0.66 | Batch = 390 | Accuracy = 75.07: 100%|██████████| 391/391 [00:22<00:00, 17.20it/s]\n"
          ]
        },
        {
          "output_type": "stream",
          "name": "stdout",
          "text": [
            "Test set: Average loss: 0.0038, Accuracy: 8380/10000 (83.80%)\n",
            "\n"
          ]
        },
        {
          "output_type": "stream",
          "name": "stderr",
          "text": [
            "EPOCH = 104 | LR = 0.001 | Loss = 0.73 | Batch = 390 | Accuracy = 75.42: 100%|██████████| 391/391 [00:22<00:00, 17.19it/s]\n"
          ]
        },
        {
          "output_type": "stream",
          "name": "stdout",
          "text": [
            "Test set: Average loss: 0.0038, Accuracy: 8372/10000 (83.72%)\n",
            "\n"
          ]
        },
        {
          "output_type": "stream",
          "name": "stderr",
          "text": [
            "EPOCH = 105 | LR = 0.001 | Loss = 0.79 | Batch = 390 | Accuracy = 75.23: 100%|██████████| 391/391 [00:22<00:00, 17.17it/s]\n"
          ]
        },
        {
          "output_type": "stream",
          "name": "stdout",
          "text": [
            "Test set: Average loss: 0.0039, Accuracy: 8338/10000 (83.38%)\n",
            "\n"
          ]
        },
        {
          "output_type": "stream",
          "name": "stderr",
          "text": [
            "EPOCH = 106 | LR = 0.001 | Loss = 0.83 | Batch = 390 | Accuracy = 75.13: 100%|██████████| 391/391 [00:22<00:00, 17.20it/s]\n"
          ]
        },
        {
          "output_type": "stream",
          "name": "stdout",
          "text": [
            "Test set: Average loss: 0.0040, Accuracy: 8303/10000 (83.03%)\n",
            "\n"
          ]
        },
        {
          "output_type": "stream",
          "name": "stderr",
          "text": [
            "EPOCH = 107 | LR = 0.001 | Loss = 0.67 | Batch = 390 | Accuracy = 75.54: 100%|██████████| 391/391 [00:22<00:00, 17.24it/s]\n"
          ]
        },
        {
          "output_type": "stream",
          "name": "stdout",
          "text": [
            "Test set: Average loss: 0.0038, Accuracy: 8335/10000 (83.35%)\n",
            "\n"
          ]
        },
        {
          "output_type": "stream",
          "name": "stderr",
          "text": [
            "EPOCH = 108 | LR = 0.001 | Loss = 0.79 | Batch = 390 | Accuracy = 75.48: 100%|██████████| 391/391 [00:22<00:00, 17.19it/s]\n"
          ]
        },
        {
          "output_type": "stream",
          "name": "stdout",
          "text": [
            "Test set: Average loss: 0.0038, Accuracy: 8371/10000 (83.71%)\n",
            "\n"
          ]
        },
        {
          "output_type": "stream",
          "name": "stderr",
          "text": [
            "EPOCH = 109 | LR = 0.001 | Loss = 0.63 | Batch = 390 | Accuracy = 75.57: 100%|██████████| 391/391 [00:22<00:00, 17.22it/s]\n"
          ]
        },
        {
          "output_type": "stream",
          "name": "stdout",
          "text": [
            "Test set: Average loss: 0.0039, Accuracy: 8363/10000 (83.63%)\n",
            "\n"
          ]
        },
        {
          "output_type": "stream",
          "name": "stderr",
          "text": [
            "EPOCH = 110 | LR = 0.001 | Loss = 0.62 | Batch = 390 | Accuracy = 75.60: 100%|██████████| 391/391 [00:22<00:00, 17.17it/s]\n"
          ]
        },
        {
          "output_type": "stream",
          "name": "stdout",
          "text": [
            "Test set: Average loss: 0.0039, Accuracy: 8346/10000 (83.46%)\n",
            "\n"
          ]
        },
        {
          "output_type": "stream",
          "name": "stderr",
          "text": [
            "EPOCH = 111 | LR = 0.001 | Loss = 0.67 | Batch = 390 | Accuracy = 75.70: 100%|██████████| 391/391 [00:22<00:00, 17.22it/s]\n"
          ]
        },
        {
          "output_type": "stream",
          "name": "stdout",
          "text": [
            "Test set: Average loss: 0.0038, Accuracy: 8378/10000 (83.78%)\n",
            "\n"
          ]
        },
        {
          "output_type": "stream",
          "name": "stderr",
          "text": [
            "EPOCH = 112 | LR = 0.001 | Loss = 0.59 | Batch = 390 | Accuracy = 75.79: 100%|██████████| 391/391 [00:22<00:00, 17.24it/s]\n"
          ]
        },
        {
          "output_type": "stream",
          "name": "stdout",
          "text": [
            "Test set: Average loss: 0.0038, Accuracy: 8373/10000 (83.73%)\n",
            "\n"
          ]
        },
        {
          "output_type": "stream",
          "name": "stderr",
          "text": [
            "EPOCH = 113 | LR = 0.001 | Loss = 0.75 | Batch = 390 | Accuracy = 75.78: 100%|██████████| 391/391 [00:22<00:00, 17.19it/s]\n"
          ]
        },
        {
          "output_type": "stream",
          "name": "stdout",
          "text": [
            "Test set: Average loss: 0.0038, Accuracy: 8371/10000 (83.71%)\n",
            "\n"
          ]
        },
        {
          "output_type": "stream",
          "name": "stderr",
          "text": [
            "EPOCH = 114 | LR = 0.001 | Loss = 0.71 | Batch = 390 | Accuracy = 75.73: 100%|██████████| 391/391 [00:22<00:00, 17.22it/s]\n"
          ]
        },
        {
          "output_type": "stream",
          "name": "stdout",
          "text": [
            "Test set: Average loss: 0.0037, Accuracy: 8402/10000 (84.02%)\n",
            "\n"
          ]
        },
        {
          "output_type": "stream",
          "name": "stderr",
          "text": [
            "EPOCH = 115 | LR = 0.001 | Loss = 0.76 | Batch = 390 | Accuracy = 75.92: 100%|██████████| 391/391 [00:22<00:00, 17.15it/s]\n"
          ]
        },
        {
          "output_type": "stream",
          "name": "stdout",
          "text": [
            "Test set: Average loss: 0.0038, Accuracy: 8373/10000 (83.73%)\n",
            "\n"
          ]
        },
        {
          "output_type": "stream",
          "name": "stderr",
          "text": [
            "EPOCH = 116 | LR = 0.001 | Loss = 0.92 | Batch = 390 | Accuracy = 76.16: 100%|██████████| 391/391 [00:22<00:00, 17.23it/s]\n"
          ]
        },
        {
          "output_type": "stream",
          "name": "stdout",
          "text": [
            "Test set: Average loss: 0.0037, Accuracy: 8435/10000 (84.35%)\n",
            "\n"
          ]
        },
        {
          "output_type": "stream",
          "name": "stderr",
          "text": [
            "EPOCH = 117 | LR = 0.001 | Loss = 0.55 | Batch = 390 | Accuracy = 75.95: 100%|██████████| 391/391 [00:22<00:00, 17.22it/s]\n"
          ]
        },
        {
          "output_type": "stream",
          "name": "stdout",
          "text": [
            "Test set: Average loss: 0.0037, Accuracy: 8413/10000 (84.13%)\n",
            "\n"
          ]
        },
        {
          "output_type": "stream",
          "name": "stderr",
          "text": [
            "EPOCH = 118 | LR = 0.001 | Loss = 0.47 | Batch = 390 | Accuracy = 75.81: 100%|██████████| 391/391 [00:22<00:00, 17.20it/s]\n"
          ]
        },
        {
          "output_type": "stream",
          "name": "stdout",
          "text": [
            "Test set: Average loss: 0.0037, Accuracy: 8390/10000 (83.90%)\n",
            "\n"
          ]
        },
        {
          "output_type": "stream",
          "name": "stderr",
          "text": [
            "EPOCH = 119 | LR = 0.001 | Loss = 0.69 | Batch = 390 | Accuracy = 75.79: 100%|██████████| 391/391 [00:22<00:00, 17.24it/s]\n"
          ]
        },
        {
          "output_type": "stream",
          "name": "stdout",
          "text": [
            "Test set: Average loss: 0.0038, Accuracy: 8405/10000 (84.05%)\n",
            "\n"
          ]
        },
        {
          "output_type": "stream",
          "name": "stderr",
          "text": [
            "EPOCH = 120 | LR = 0.001 | Loss = 0.67 | Batch = 390 | Accuracy = 76.10: 100%|██████████| 391/391 [00:22<00:00, 17.19it/s]\n"
          ]
        },
        {
          "output_type": "stream",
          "name": "stdout",
          "text": [
            "Test set: Average loss: 0.0037, Accuracy: 8427/10000 (84.27%)\n",
            "\n"
          ]
        },
        {
          "output_type": "stream",
          "name": "stderr",
          "text": [
            "EPOCH = 121 | LR = 0.001 | Loss = 0.49 | Batch = 390 | Accuracy = 76.04: 100%|██████████| 391/391 [00:22<00:00, 17.24it/s]\n"
          ]
        },
        {
          "output_type": "stream",
          "name": "stdout",
          "text": [
            "Test set: Average loss: 0.0036, Accuracy: 8413/10000 (84.13%)\n",
            "\n"
          ]
        },
        {
          "output_type": "stream",
          "name": "stderr",
          "text": [
            "EPOCH = 122 | LR = 0.001 | Loss = 0.72 | Batch = 390 | Accuracy = 76.29: 100%|██████████| 391/391 [00:22<00:00, 17.22it/s]\n"
          ]
        },
        {
          "output_type": "stream",
          "name": "stdout",
          "text": [
            "Test set: Average loss: 0.0036, Accuracy: 8447/10000 (84.47%)\n",
            "\n"
          ]
        },
        {
          "output_type": "stream",
          "name": "stderr",
          "text": [
            "EPOCH = 123 | LR = 0.001 | Loss = 0.73 | Batch = 390 | Accuracy = 76.33: 100%|██████████| 391/391 [00:22<00:00, 17.21it/s]\n"
          ]
        },
        {
          "output_type": "stream",
          "name": "stdout",
          "text": [
            "Test set: Average loss: 0.0038, Accuracy: 8354/10000 (83.54%)\n",
            "\n"
          ]
        },
        {
          "output_type": "stream",
          "name": "stderr",
          "text": [
            "EPOCH = 124 | LR = 0.001 | Loss = 0.64 | Batch = 390 | Accuracy = 76.38: 100%|██████████| 391/391 [00:22<00:00, 17.21it/s]\n"
          ]
        },
        {
          "output_type": "stream",
          "name": "stdout",
          "text": [
            "Test set: Average loss: 0.0037, Accuracy: 8426/10000 (84.26%)\n",
            "\n"
          ]
        },
        {
          "output_type": "stream",
          "name": "stderr",
          "text": [
            "EPOCH = 125 | LR = 0.001 | Loss = 0.68 | Batch = 390 | Accuracy = 76.38: 100%|██████████| 391/391 [00:22<00:00, 17.20it/s]\n"
          ]
        },
        {
          "output_type": "stream",
          "name": "stdout",
          "text": [
            "Test set: Average loss: 0.0036, Accuracy: 8443/10000 (84.43%)\n",
            "\n"
          ]
        },
        {
          "output_type": "stream",
          "name": "stderr",
          "text": [
            "EPOCH = 126 | LR = 0.001 | Loss = 0.80 | Batch = 390 | Accuracy = 76.58: 100%|██████████| 391/391 [00:22<00:00, 17.23it/s]\n"
          ]
        },
        {
          "output_type": "stream",
          "name": "stdout",
          "text": [
            "Test set: Average loss: 0.0037, Accuracy: 8409/10000 (84.09%)\n",
            "\n"
          ]
        },
        {
          "output_type": "stream",
          "name": "stderr",
          "text": [
            "EPOCH = 127 | LR = 0.001 | Loss = 0.70 | Batch = 390 | Accuracy = 76.43: 100%|██████████| 391/391 [00:22<00:00, 17.18it/s]\n"
          ]
        },
        {
          "output_type": "stream",
          "name": "stdout",
          "text": [
            "Test set: Average loss: 0.0037, Accuracy: 8399/10000 (83.99%)\n",
            "\n"
          ]
        },
        {
          "output_type": "stream",
          "name": "stderr",
          "text": [
            "EPOCH = 128 | LR = 0.001 | Loss = 0.64 | Batch = 390 | Accuracy = 76.57: 100%|██████████| 391/391 [00:22<00:00, 17.19it/s]\n"
          ]
        },
        {
          "output_type": "stream",
          "name": "stdout",
          "text": [
            "Test set: Average loss: 0.0036, Accuracy: 8427/10000 (84.27%)\n",
            "\n"
          ]
        },
        {
          "output_type": "stream",
          "name": "stderr",
          "text": [
            "EPOCH = 129 | LR = 0.001 | Loss = 0.82 | Batch = 390 | Accuracy = 76.38: 100%|██████████| 391/391 [00:22<00:00, 17.22it/s]\n"
          ]
        },
        {
          "output_type": "stream",
          "name": "stdout",
          "text": [
            "Test set: Average loss: 0.0037, Accuracy: 8458/10000 (84.58%)\n",
            "\n"
          ]
        },
        {
          "output_type": "stream",
          "name": "stderr",
          "text": [
            "EPOCH = 130 | LR = 0.001 | Loss = 0.63 | Batch = 390 | Accuracy = 76.55: 100%|██████████| 391/391 [00:22<00:00, 17.18it/s]\n"
          ]
        },
        {
          "output_type": "stream",
          "name": "stdout",
          "text": [
            "Test set: Average loss: 0.0037, Accuracy: 8457/10000 (84.57%)\n",
            "\n"
          ]
        },
        {
          "output_type": "stream",
          "name": "stderr",
          "text": [
            "EPOCH = 131 | LR = 0.001 | Loss = 0.96 | Batch = 390 | Accuracy = 76.37: 100%|██████████| 391/391 [00:22<00:00, 17.21it/s]\n"
          ]
        },
        {
          "output_type": "stream",
          "name": "stdout",
          "text": [
            "Test set: Average loss: 0.0037, Accuracy: 8439/10000 (84.39%)\n",
            "\n"
          ]
        },
        {
          "output_type": "stream",
          "name": "stderr",
          "text": [
            "EPOCH = 132 | LR = 0.001 | Loss = 0.80 | Batch = 390 | Accuracy = 76.72: 100%|██████████| 391/391 [00:22<00:00, 17.25it/s]\n"
          ]
        },
        {
          "output_type": "stream",
          "name": "stdout",
          "text": [
            "Test set: Average loss: 0.0036, Accuracy: 8450/10000 (84.50%)\n",
            "\n"
          ]
        },
        {
          "output_type": "stream",
          "name": "stderr",
          "text": [
            "EPOCH = 133 | LR = 0.001 | Loss = 0.83 | Batch = 390 | Accuracy = 76.54: 100%|██████████| 391/391 [00:22<00:00, 17.20it/s]\n"
          ]
        },
        {
          "output_type": "stream",
          "name": "stdout",
          "text": [
            "Test set: Average loss: 0.0037, Accuracy: 8448/10000 (84.48%)\n",
            "\n"
          ]
        },
        {
          "output_type": "stream",
          "name": "stderr",
          "text": [
            "EPOCH = 134 | LR = 0.001 | Loss = 0.61 | Batch = 390 | Accuracy = 76.53: 100%|██████████| 391/391 [00:22<00:00, 17.21it/s]\n"
          ]
        },
        {
          "output_type": "stream",
          "name": "stdout",
          "text": [
            "Test set: Average loss: 0.0036, Accuracy: 8470/10000 (84.70%)\n",
            "\n"
          ]
        },
        {
          "output_type": "stream",
          "name": "stderr",
          "text": [
            "EPOCH = 135 | LR = 0.001 | Loss = 0.74 | Batch = 390 | Accuracy = 76.91: 100%|██████████| 391/391 [00:22<00:00, 17.18it/s]\n"
          ]
        },
        {
          "output_type": "stream",
          "name": "stdout",
          "text": [
            "Test set: Average loss: 0.0036, Accuracy: 8451/10000 (84.51%)\n",
            "\n"
          ]
        },
        {
          "output_type": "stream",
          "name": "stderr",
          "text": [
            "EPOCH = 136 | LR = 0.001 | Loss = 0.85 | Batch = 390 | Accuracy = 76.78: 100%|██████████| 391/391 [00:22<00:00, 17.20it/s]\n"
          ]
        },
        {
          "output_type": "stream",
          "name": "stdout",
          "text": [
            "Test set: Average loss: 0.0036, Accuracy: 8481/10000 (84.81%)\n",
            "\n"
          ]
        },
        {
          "output_type": "stream",
          "name": "stderr",
          "text": [
            "EPOCH = 137 | LR = 0.001 | Loss = 0.53 | Batch = 390 | Accuracy = 77.12: 100%|██████████| 391/391 [00:22<00:00, 17.25it/s]\n"
          ]
        },
        {
          "output_type": "stream",
          "name": "stdout",
          "text": [
            "Test set: Average loss: 0.0036, Accuracy: 8468/10000 (84.68%)\n",
            "\n"
          ]
        },
        {
          "output_type": "stream",
          "name": "stderr",
          "text": [
            "EPOCH = 138 | LR = 0.001 | Loss = 0.67 | Batch = 390 | Accuracy = 76.86: 100%|██████████| 391/391 [00:22<00:00, 17.16it/s]\n"
          ]
        },
        {
          "output_type": "stream",
          "name": "stdout",
          "text": [
            "Test set: Average loss: 0.0036, Accuracy: 8467/10000 (84.67%)\n",
            "\n"
          ]
        },
        {
          "output_type": "stream",
          "name": "stderr",
          "text": [
            "EPOCH = 139 | LR = 0.001 | Loss = 0.55 | Batch = 390 | Accuracy = 76.93: 100%|██████████| 391/391 [00:22<00:00, 17.20it/s]\n"
          ]
        },
        {
          "output_type": "stream",
          "name": "stdout",
          "text": [
            "Test set: Average loss: 0.0035, Accuracy: 8463/10000 (84.63%)\n",
            "\n"
          ]
        },
        {
          "output_type": "stream",
          "name": "stderr",
          "text": [
            "EPOCH = 140 | LR = 0.001 | Loss = 0.55 | Batch = 390 | Accuracy = 76.95: 100%|██████████| 391/391 [00:22<00:00, 17.19it/s]\n"
          ]
        },
        {
          "output_type": "stream",
          "name": "stdout",
          "text": [
            "Test set: Average loss: 0.0036, Accuracy: 8504/10000 (85.04%)\n",
            "\n"
          ]
        },
        {
          "output_type": "stream",
          "name": "stderr",
          "text": [
            "EPOCH = 141 | LR = 0.001 | Loss = 0.60 | Batch = 390 | Accuracy = 76.83: 100%|██████████| 391/391 [00:22<00:00, 17.23it/s]\n"
          ]
        },
        {
          "output_type": "stream",
          "name": "stdout",
          "text": [
            "Test set: Average loss: 0.0036, Accuracy: 8455/10000 (84.55%)\n",
            "\n"
          ]
        },
        {
          "output_type": "stream",
          "name": "stderr",
          "text": [
            "EPOCH = 142 | LR = 0.001 | Loss = 0.73 | Batch = 390 | Accuracy = 77.16: 100%|██████████| 391/391 [00:22<00:00, 17.25it/s]\n"
          ]
        },
        {
          "output_type": "stream",
          "name": "stdout",
          "text": [
            "Test set: Average loss: 0.0036, Accuracy: 8483/10000 (84.83%)\n",
            "\n"
          ]
        },
        {
          "output_type": "stream",
          "name": "stderr",
          "text": [
            "EPOCH = 143 | LR = 0.001 | Loss = 0.70 | Batch = 390 | Accuracy = 77.00: 100%|██████████| 391/391 [00:22<00:00, 17.21it/s]\n"
          ]
        },
        {
          "output_type": "stream",
          "name": "stdout",
          "text": [
            "Test set: Average loss: 0.0036, Accuracy: 8470/10000 (84.70%)\n",
            "\n"
          ]
        },
        {
          "output_type": "stream",
          "name": "stderr",
          "text": [
            "EPOCH = 144 | LR = 0.001 | Loss = 0.51 | Batch = 390 | Accuracy = 77.15: 100%|██████████| 391/391 [00:22<00:00, 17.21it/s]\n"
          ]
        },
        {
          "output_type": "stream",
          "name": "stdout",
          "text": [
            "Test set: Average loss: 0.0036, Accuracy: 8460/10000 (84.60%)\n",
            "\n"
          ]
        },
        {
          "output_type": "stream",
          "name": "stderr",
          "text": [
            "EPOCH = 145 | LR = 0.001 | Loss = 0.77 | Batch = 390 | Accuracy = 77.06: 100%|██████████| 391/391 [00:22<00:00, 17.22it/s]\n"
          ]
        },
        {
          "output_type": "stream",
          "name": "stdout",
          "text": [
            "Test set: Average loss: 0.0035, Accuracy: 8475/10000 (84.75%)\n",
            "\n"
          ]
        },
        {
          "output_type": "stream",
          "name": "stderr",
          "text": [
            "EPOCH = 146 | LR = 0.001 | Loss = 0.48 | Batch = 390 | Accuracy = 77.28: 100%|██████████| 391/391 [00:22<00:00, 17.21it/s]\n"
          ]
        },
        {
          "output_type": "stream",
          "name": "stdout",
          "text": [
            "Test set: Average loss: 0.0035, Accuracy: 8496/10000 (84.96%)\n",
            "\n"
          ]
        },
        {
          "output_type": "stream",
          "name": "stderr",
          "text": [
            "EPOCH = 147 | LR = 0.001 | Loss = 1.00 | Batch = 390 | Accuracy = 77.37: 100%|██████████| 391/391 [00:22<00:00, 17.20it/s]\n"
          ]
        },
        {
          "output_type": "stream",
          "name": "stdout",
          "text": [
            "Test set: Average loss: 0.0035, Accuracy: 8495/10000 (84.95%)\n",
            "\n"
          ]
        },
        {
          "output_type": "stream",
          "name": "stderr",
          "text": [
            "EPOCH = 148 | LR = 0.001 | Loss = 0.65 | Batch = 390 | Accuracy = 77.17: 100%|██████████| 391/391 [00:22<00:00, 17.18it/s]\n"
          ]
        },
        {
          "output_type": "stream",
          "name": "stdout",
          "text": [
            "Test set: Average loss: 0.0035, Accuracy: 8458/10000 (84.58%)\n",
            "\n"
          ]
        },
        {
          "output_type": "stream",
          "name": "stderr",
          "text": [
            "EPOCH = 149 | LR = 0.001 | Loss = 0.73 | Batch = 390 | Accuracy = 77.67: 100%|██████████| 391/391 [00:22<00:00, 17.26it/s]\n"
          ]
        },
        {
          "output_type": "stream",
          "name": "stdout",
          "text": [
            "Test set: Average loss: 0.0035, Accuracy: 8456/10000 (84.56%)\n",
            "\n"
          ]
        },
        {
          "output_type": "stream",
          "name": "stderr",
          "text": [
            "EPOCH = 150 | LR = 0.001 | Loss = 0.60 | Batch = 390 | Accuracy = 76.99: 100%|██████████| 391/391 [00:22<00:00, 17.20it/s]\n"
          ]
        },
        {
          "output_type": "stream",
          "name": "stdout",
          "text": [
            "Test set: Average loss: 0.0035, Accuracy: 8499/10000 (84.99%)\n",
            "\n"
          ]
        },
        {
          "output_type": "stream",
          "name": "stderr",
          "text": [
            "EPOCH = 151 | LR = 0.001 | Loss = 0.70 | Batch = 390 | Accuracy = 77.42: 100%|██████████| 391/391 [00:22<00:00, 17.24it/s]\n"
          ]
        },
        {
          "output_type": "stream",
          "name": "stdout",
          "text": [
            "Test set: Average loss: 0.0034, Accuracy: 8499/10000 (84.99%)\n",
            "\n"
          ]
        },
        {
          "output_type": "stream",
          "name": "stderr",
          "text": [
            "EPOCH = 152 | LR = 0.001 | Loss = 0.64 | Batch = 390 | Accuracy = 77.45: 100%|██████████| 391/391 [00:22<00:00, 17.23it/s]\n"
          ]
        },
        {
          "output_type": "stream",
          "name": "stdout",
          "text": [
            "Test set: Average loss: 0.0035, Accuracy: 8523/10000 (85.23%)\n",
            "\n"
          ]
        },
        {
          "output_type": "stream",
          "name": "stderr",
          "text": [
            "EPOCH = 153 | LR = 0.001 | Loss = 0.62 | Batch = 390 | Accuracy = 77.42: 100%|██████████| 391/391 [00:22<00:00, 17.17it/s]\n"
          ]
        },
        {
          "output_type": "stream",
          "name": "stdout",
          "text": [
            "Test set: Average loss: 0.0035, Accuracy: 8495/10000 (84.95%)\n",
            "\n"
          ]
        },
        {
          "output_type": "stream",
          "name": "stderr",
          "text": [
            "EPOCH = 154 | LR = 0.001 | Loss = 0.74 | Batch = 390 | Accuracy = 77.27: 100%|██████████| 391/391 [00:22<00:00, 17.23it/s]\n"
          ]
        },
        {
          "output_type": "stream",
          "name": "stdout",
          "text": [
            "Test set: Average loss: 0.0035, Accuracy: 8486/10000 (84.86%)\n",
            "\n"
          ]
        },
        {
          "output_type": "stream",
          "name": "stderr",
          "text": [
            "EPOCH = 155 | LR = 0.001 | Loss = 0.58 | Batch = 390 | Accuracy = 77.34: 100%|██████████| 391/391 [00:22<00:00, 17.21it/s]\n"
          ]
        },
        {
          "output_type": "stream",
          "name": "stdout",
          "text": [
            "Test set: Average loss: 0.0036, Accuracy: 8495/10000 (84.95%)\n",
            "\n"
          ]
        },
        {
          "output_type": "stream",
          "name": "stderr",
          "text": [
            "EPOCH = 156 | LR = 0.001 | Loss = 0.60 | Batch = 390 | Accuracy = 77.14: 100%|██████████| 391/391 [00:22<00:00, 17.22it/s]\n"
          ]
        },
        {
          "output_type": "stream",
          "name": "stdout",
          "text": [
            "Test set: Average loss: 0.0035, Accuracy: 8520/10000 (85.20%)\n",
            "\n"
          ]
        },
        {
          "output_type": "stream",
          "name": "stderr",
          "text": [
            "EPOCH = 157 | LR = 0.001 | Loss = 0.73 | Batch = 390 | Accuracy = 77.73: 100%|██████████| 391/391 [00:22<00:00, 17.18it/s]\n"
          ]
        },
        {
          "output_type": "stream",
          "name": "stdout",
          "text": [
            "Test set: Average loss: 0.0035, Accuracy: 8492/10000 (84.92%)\n",
            "\n"
          ]
        },
        {
          "output_type": "stream",
          "name": "stderr",
          "text": [
            "EPOCH = 158 | LR = 0.001 | Loss = 0.50 | Batch = 390 | Accuracy = 77.48: 100%|██████████| 391/391 [00:22<00:00, 17.18it/s]\n"
          ]
        },
        {
          "output_type": "stream",
          "name": "stdout",
          "text": [
            "Test set: Average loss: 0.0034, Accuracy: 8503/10000 (85.03%)\n",
            "\n"
          ]
        },
        {
          "output_type": "stream",
          "name": "stderr",
          "text": [
            "EPOCH = 159 | LR = 0.001 | Loss = 0.55 | Batch = 390 | Accuracy = 77.73: 100%|██████████| 391/391 [00:22<00:00, 17.22it/s]\n"
          ]
        },
        {
          "output_type": "stream",
          "name": "stdout",
          "text": [
            "Test set: Average loss: 0.0034, Accuracy: 8504/10000 (85.04%)\n",
            "\n"
          ]
        },
        {
          "output_type": "stream",
          "name": "stderr",
          "text": [
            "EPOCH = 160 | LR = 0.001 | Loss = 0.62 | Batch = 390 | Accuracy = 77.46: 100%|██████████| 391/391 [00:22<00:00, 17.21it/s]\n"
          ]
        },
        {
          "output_type": "stream",
          "name": "stdout",
          "text": [
            "Test set: Average loss: 0.0035, Accuracy: 8507/10000 (85.07%)\n",
            "\n"
          ]
        },
        {
          "output_type": "stream",
          "name": "stderr",
          "text": [
            "EPOCH = 161 | LR = 0.001 | Loss = 0.65 | Batch = 390 | Accuracy = 77.72: 100%|██████████| 391/391 [00:22<00:00, 17.25it/s]\n"
          ]
        },
        {
          "output_type": "stream",
          "name": "stdout",
          "text": [
            "Test set: Average loss: 0.0034, Accuracy: 8523/10000 (85.23%)\n",
            "\n"
          ]
        },
        {
          "output_type": "stream",
          "name": "stderr",
          "text": [
            "EPOCH = 162 | LR = 0.001 | Loss = 0.51 | Batch = 390 | Accuracy = 77.95: 100%|██████████| 391/391 [00:22<00:00, 17.22it/s]\n"
          ]
        },
        {
          "output_type": "stream",
          "name": "stdout",
          "text": [
            "Test set: Average loss: 0.0034, Accuracy: 8502/10000 (85.02%)\n",
            "\n"
          ]
        },
        {
          "output_type": "stream",
          "name": "stderr",
          "text": [
            "EPOCH = 163 | LR = 0.001 | Loss = 0.50 | Batch = 390 | Accuracy = 77.80: 100%|██████████| 391/391 [00:22<00:00, 17.12it/s]\n"
          ]
        },
        {
          "output_type": "stream",
          "name": "stdout",
          "text": [
            "Test set: Average loss: 0.0034, Accuracy: 8502/10000 (85.02%)\n",
            "\n"
          ]
        },
        {
          "output_type": "stream",
          "name": "stderr",
          "text": [
            "EPOCH = 164 | LR = 0.001 | Loss = 0.56 | Batch = 390 | Accuracy = 77.90: 100%|██████████| 391/391 [00:22<00:00, 17.06it/s]\n"
          ]
        },
        {
          "output_type": "stream",
          "name": "stdout",
          "text": [
            "Test set: Average loss: 0.0035, Accuracy: 8507/10000 (85.07%)\n",
            "\n"
          ]
        },
        {
          "output_type": "stream",
          "name": "stderr",
          "text": [
            "EPOCH = 165 | LR = 0.001 | Loss = 0.65 | Batch = 390 | Accuracy = 77.78: 100%|██████████| 391/391 [00:22<00:00, 17.12it/s]\n"
          ]
        },
        {
          "output_type": "stream",
          "name": "stdout",
          "text": [
            "Test set: Average loss: 0.0035, Accuracy: 8472/10000 (84.72%)\n",
            "\n"
          ]
        },
        {
          "output_type": "stream",
          "name": "stderr",
          "text": [
            "EPOCH = 166 | LR = 0.001 | Loss = 0.63 | Batch = 390 | Accuracy = 77.92: 100%|██████████| 391/391 [00:22<00:00, 17.19it/s]\n"
          ]
        },
        {
          "output_type": "stream",
          "name": "stdout",
          "text": [
            "Test set: Average loss: 0.0034, Accuracy: 8531/10000 (85.31%)\n",
            "\n"
          ]
        },
        {
          "output_type": "stream",
          "name": "stderr",
          "text": [
            "EPOCH = 167 | LR = 0.001 | Loss = 0.67 | Batch = 390 | Accuracy = 78.00: 100%|██████████| 391/391 [00:22<00:00, 17.05it/s]\n"
          ]
        },
        {
          "output_type": "stream",
          "name": "stdout",
          "text": [
            "Test set: Average loss: 0.0034, Accuracy: 8524/10000 (85.24%)\n",
            "\n"
          ]
        },
        {
          "output_type": "stream",
          "name": "stderr",
          "text": [
            "EPOCH = 168 | LR = 0.001 | Loss = 0.64 | Batch = 390 | Accuracy = 77.84: 100%|██████████| 391/391 [00:22<00:00, 17.09it/s]\n"
          ]
        },
        {
          "output_type": "stream",
          "name": "stdout",
          "text": [
            "Test set: Average loss: 0.0034, Accuracy: 8520/10000 (85.20%)\n",
            "\n"
          ]
        },
        {
          "output_type": "stream",
          "name": "stderr",
          "text": [
            "EPOCH = 169 | LR = 0.001 | Loss = 0.75 | Batch = 390 | Accuracy = 77.97: 100%|██████████| 391/391 [00:22<00:00, 17.14it/s]\n"
          ]
        },
        {
          "output_type": "stream",
          "name": "stdout",
          "text": [
            "Test set: Average loss: 0.0034, Accuracy: 8539/10000 (85.39%)\n",
            "\n"
          ]
        },
        {
          "output_type": "stream",
          "name": "stderr",
          "text": [
            "EPOCH = 170 | LR = 0.001 | Loss = 0.59 | Batch = 390 | Accuracy = 77.95: 100%|██████████| 391/391 [00:22<00:00, 17.15it/s]\n"
          ]
        },
        {
          "output_type": "stream",
          "name": "stdout",
          "text": [
            "Test set: Average loss: 0.0034, Accuracy: 8578/10000 (85.78%)\n",
            "\n"
          ]
        },
        {
          "output_type": "stream",
          "name": "stderr",
          "text": [
            "EPOCH = 171 | LR = 0.001 | Loss = 0.83 | Batch = 390 | Accuracy = 78.08: 100%|██████████| 391/391 [00:22<00:00, 17.19it/s]\n"
          ]
        },
        {
          "output_type": "stream",
          "name": "stdout",
          "text": [
            "Test set: Average loss: 0.0035, Accuracy: 8535/10000 (85.35%)\n",
            "\n"
          ]
        },
        {
          "output_type": "stream",
          "name": "stderr",
          "text": [
            "EPOCH = 172 | LR = 0.001 | Loss = 0.91 | Batch = 390 | Accuracy = 77.88: 100%|██████████| 391/391 [00:22<00:00, 17.16it/s]\n"
          ]
        },
        {
          "output_type": "stream",
          "name": "stdout",
          "text": [
            "Test set: Average loss: 0.0034, Accuracy: 8542/10000 (85.42%)\n",
            "\n"
          ]
        },
        {
          "output_type": "stream",
          "name": "stderr",
          "text": [
            "EPOCH = 173 | LR = 0.001 | Loss = 0.57 | Batch = 390 | Accuracy = 77.58: 100%|██████████| 391/391 [00:22<00:00, 17.17it/s]\n"
          ]
        },
        {
          "output_type": "stream",
          "name": "stdout",
          "text": [
            "Test set: Average loss: 0.0035, Accuracy: 8514/10000 (85.14%)\n",
            "\n"
          ]
        },
        {
          "output_type": "stream",
          "name": "stderr",
          "text": [
            "EPOCH = 174 | LR = 0.001 | Loss = 0.58 | Batch = 390 | Accuracy = 78.11: 100%|██████████| 391/391 [00:22<00:00, 17.19it/s]\n"
          ]
        },
        {
          "output_type": "stream",
          "name": "stdout",
          "text": [
            "Test set: Average loss: 0.0035, Accuracy: 8506/10000 (85.06%)\n",
            "\n"
          ]
        },
        {
          "output_type": "stream",
          "name": "stderr",
          "text": [
            "EPOCH = 175 | LR = 0.001 | Loss = 0.58 | Batch = 390 | Accuracy = 78.29: 100%|██████████| 391/391 [00:22<00:00, 17.20it/s]\n"
          ]
        },
        {
          "output_type": "stream",
          "name": "stdout",
          "text": [
            "Test set: Average loss: 0.0034, Accuracy: 8517/10000 (85.17%)\n",
            "\n"
          ]
        },
        {
          "output_type": "stream",
          "name": "stderr",
          "text": [
            "EPOCH = 176 | LR = 0.001 | Loss = 0.67 | Batch = 390 | Accuracy = 78.23: 100%|██████████| 391/391 [00:22<00:00, 17.23it/s]\n"
          ]
        },
        {
          "output_type": "stream",
          "name": "stdout",
          "text": [
            "Test set: Average loss: 0.0034, Accuracy: 8543/10000 (85.43%)\n",
            "\n"
          ]
        },
        {
          "output_type": "stream",
          "name": "stderr",
          "text": [
            "EPOCH = 177 | LR = 0.001 | Loss = 0.78 | Batch = 390 | Accuracy = 78.21: 100%|██████████| 391/391 [00:22<00:00, 17.18it/s]\n"
          ]
        },
        {
          "output_type": "stream",
          "name": "stdout",
          "text": [
            "Test set: Average loss: 0.0035, Accuracy: 8547/10000 (85.47%)\n",
            "\n"
          ]
        },
        {
          "output_type": "stream",
          "name": "stderr",
          "text": [
            "EPOCH = 178 | LR = 0.001 | Loss = 0.67 | Batch = 390 | Accuracy = 78.01: 100%|██████████| 391/391 [00:22<00:00, 17.17it/s]\n"
          ]
        },
        {
          "output_type": "stream",
          "name": "stdout",
          "text": [
            "Test set: Average loss: 0.0034, Accuracy: 8531/10000 (85.31%)\n",
            "\n"
          ]
        },
        {
          "output_type": "stream",
          "name": "stderr",
          "text": [
            "EPOCH = 179 | LR = 0.001 | Loss = 0.64 | Batch = 390 | Accuracy = 78.33: 100%|██████████| 391/391 [00:22<00:00, 17.22it/s]\n"
          ]
        },
        {
          "output_type": "stream",
          "name": "stdout",
          "text": [
            "Test set: Average loss: 0.0033, Accuracy: 8559/10000 (85.59%)\n",
            "\n"
          ]
        },
        {
          "output_type": "stream",
          "name": "stderr",
          "text": [
            "EPOCH = 180 | LR = 0.001 | Loss = 0.46 | Batch = 390 | Accuracy = 78.31: 100%|██████████| 391/391 [00:22<00:00, 17.20it/s]\n"
          ]
        },
        {
          "output_type": "stream",
          "name": "stdout",
          "text": [
            "Test set: Average loss: 0.0033, Accuracy: 8595/10000 (85.95%)\n",
            "\n"
          ]
        },
        {
          "output_type": "stream",
          "name": "stderr",
          "text": [
            "EPOCH = 181 | LR = 0.001 | Loss = 0.52 | Batch = 390 | Accuracy = 78.19: 100%|██████████| 391/391 [00:22<00:00, 17.19it/s]\n"
          ]
        },
        {
          "output_type": "stream",
          "name": "stdout",
          "text": [
            "Test set: Average loss: 0.0033, Accuracy: 8603/10000 (86.03%)\n",
            "\n"
          ]
        },
        {
          "output_type": "stream",
          "name": "stderr",
          "text": [
            "EPOCH = 182 | LR = 0.001 | Loss = 0.55 | Batch = 390 | Accuracy = 78.33: 100%|██████████| 391/391 [00:22<00:00, 17.21it/s]\n"
          ]
        },
        {
          "output_type": "stream",
          "name": "stdout",
          "text": [
            "Test set: Average loss: 0.0033, Accuracy: 8575/10000 (85.75%)\n",
            "\n"
          ]
        },
        {
          "output_type": "stream",
          "name": "stderr",
          "text": [
            "EPOCH = 183 | LR = 0.001 | Loss = 0.66 | Batch = 390 | Accuracy = 78.02: 100%|██████████| 391/391 [00:22<00:00, 17.17it/s]\n"
          ]
        },
        {
          "output_type": "stream",
          "name": "stdout",
          "text": [
            "Test set: Average loss: 0.0033, Accuracy: 8568/10000 (85.68%)\n",
            "\n"
          ]
        },
        {
          "output_type": "stream",
          "name": "stderr",
          "text": [
            "EPOCH = 184 | LR = 0.001 | Loss = 0.80 | Batch = 390 | Accuracy = 78.66: 100%|██████████| 391/391 [00:22<00:00, 17.21it/s]\n"
          ]
        },
        {
          "output_type": "stream",
          "name": "stdout",
          "text": [
            "Test set: Average loss: 0.0033, Accuracy: 8586/10000 (85.86%)\n",
            "\n"
          ]
        },
        {
          "output_type": "stream",
          "name": "stderr",
          "text": [
            "EPOCH = 185 | LR = 0.001 | Loss = 0.61 | Batch = 390 | Accuracy = 78.35: 100%|██████████| 391/391 [00:22<00:00, 17.20it/s]\n"
          ]
        },
        {
          "output_type": "stream",
          "name": "stdout",
          "text": [
            "Test set: Average loss: 0.0033, Accuracy: 8570/10000 (85.70%)\n",
            "\n"
          ]
        },
        {
          "output_type": "stream",
          "name": "stderr",
          "text": [
            "EPOCH = 186 | LR = 0.001 | Loss = 0.47 | Batch = 390 | Accuracy = 78.32: 100%|██████████| 391/391 [00:22<00:00, 17.24it/s]\n"
          ]
        },
        {
          "output_type": "stream",
          "name": "stdout",
          "text": [
            "Test set: Average loss: 0.0033, Accuracy: 8551/10000 (85.51%)\n",
            "\n"
          ]
        },
        {
          "output_type": "stream",
          "name": "stderr",
          "text": [
            "EPOCH = 187 | LR = 0.001 | Loss = 0.57 | Batch = 390 | Accuracy = 78.20: 100%|██████████| 391/391 [00:22<00:00, 17.22it/s]\n"
          ]
        },
        {
          "output_type": "stream",
          "name": "stdout",
          "text": [
            "Test set: Average loss: 0.0033, Accuracy: 8543/10000 (85.43%)\n",
            "\n"
          ]
        },
        {
          "output_type": "stream",
          "name": "stderr",
          "text": [
            "EPOCH = 188 | LR = 0.001 | Loss = 0.75 | Batch = 390 | Accuracy = 78.49: 100%|██████████| 391/391 [00:22<00:00, 17.20it/s]\n"
          ]
        },
        {
          "output_type": "stream",
          "name": "stdout",
          "text": [
            "Test set: Average loss: 0.0033, Accuracy: 8552/10000 (85.52%)\n",
            "\n"
          ]
        },
        {
          "output_type": "stream",
          "name": "stderr",
          "text": [
            "EPOCH = 189 | LR = 0.001 | Loss = 0.61 | Batch = 390 | Accuracy = 78.53: 100%|██████████| 391/391 [00:22<00:00, 17.22it/s]\n"
          ]
        },
        {
          "output_type": "stream",
          "name": "stdout",
          "text": [
            "Test set: Average loss: 0.0033, Accuracy: 8599/10000 (85.99%)\n",
            "\n"
          ]
        },
        {
          "output_type": "stream",
          "name": "stderr",
          "text": [
            "EPOCH = 190 | LR = 0.001 | Loss = 0.49 | Batch = 390 | Accuracy = 78.19: 100%|██████████| 391/391 [00:22<00:00, 17.17it/s]\n"
          ]
        },
        {
          "output_type": "stream",
          "name": "stdout",
          "text": [
            "Test set: Average loss: 0.0033, Accuracy: 8583/10000 (85.83%)\n",
            "\n"
          ]
        },
        {
          "output_type": "stream",
          "name": "stderr",
          "text": [
            "EPOCH = 191 | LR = 0.001 | Loss = 0.63 | Batch = 390 | Accuracy = 78.89: 100%|██████████| 391/391 [00:22<00:00, 17.20it/s]\n"
          ]
        },
        {
          "output_type": "stream",
          "name": "stdout",
          "text": [
            "Test set: Average loss: 0.0033, Accuracy: 8608/10000 (86.08%)\n",
            "\n"
          ]
        },
        {
          "output_type": "stream",
          "name": "stderr",
          "text": [
            "EPOCH = 192 | LR = 0.001 | Loss = 0.51 | Batch = 390 | Accuracy = 78.43: 100%|██████████| 391/391 [00:22<00:00, 17.21it/s]\n"
          ]
        },
        {
          "output_type": "stream",
          "name": "stdout",
          "text": [
            "Test set: Average loss: 0.0033, Accuracy: 8574/10000 (85.74%)\n",
            "\n"
          ]
        },
        {
          "output_type": "stream",
          "name": "stderr",
          "text": [
            "EPOCH = 193 | LR = 0.001 | Loss = 0.61 | Batch = 390 | Accuracy = 78.49: 100%|██████████| 391/391 [00:22<00:00, 17.19it/s]\n"
          ]
        },
        {
          "output_type": "stream",
          "name": "stdout",
          "text": [
            "Test set: Average loss: 0.0033, Accuracy: 8570/10000 (85.70%)\n",
            "\n"
          ]
        },
        {
          "output_type": "stream",
          "name": "stderr",
          "text": [
            "EPOCH = 194 | LR = 0.001 | Loss = 0.52 | Batch = 390 | Accuracy = 78.54: 100%|██████████| 391/391 [00:22<00:00, 17.17it/s]\n"
          ]
        },
        {
          "output_type": "stream",
          "name": "stdout",
          "text": [
            "Test set: Average loss: 0.0034, Accuracy: 8563/10000 (85.63%)\n",
            "\n"
          ]
        },
        {
          "output_type": "stream",
          "name": "stderr",
          "text": [
            "EPOCH = 195 | LR = 0.001 | Loss = 0.88 | Batch = 390 | Accuracy = 78.70: 100%|██████████| 391/391 [00:22<00:00, 17.18it/s]\n"
          ]
        },
        {
          "output_type": "stream",
          "name": "stdout",
          "text": [
            "Test set: Average loss: 0.0033, Accuracy: 8588/10000 (85.88%)\n",
            "\n"
          ]
        },
        {
          "output_type": "stream",
          "name": "stderr",
          "text": [
            "EPOCH = 196 | LR = 0.001 | Loss = 0.54 | Batch = 390 | Accuracy = 78.69: 100%|██████████| 391/391 [00:22<00:00, 17.22it/s]\n"
          ]
        },
        {
          "output_type": "stream",
          "name": "stdout",
          "text": [
            "Test set: Average loss: 0.0033, Accuracy: 8603/10000 (86.03%)\n",
            "\n"
          ]
        },
        {
          "output_type": "stream",
          "name": "stderr",
          "text": [
            "EPOCH = 197 | LR = 0.001 | Loss = 0.54 | Batch = 390 | Accuracy = 78.76: 100%|██████████| 391/391 [00:22<00:00, 17.19it/s]\n"
          ]
        },
        {
          "output_type": "stream",
          "name": "stdout",
          "text": [
            "Test set: Average loss: 0.0033, Accuracy: 8590/10000 (85.90%)\n",
            "\n"
          ]
        },
        {
          "output_type": "stream",
          "name": "stderr",
          "text": [
            "EPOCH = 198 | LR = 0.001 | Loss = 0.68 | Batch = 390 | Accuracy = 78.80: 100%|██████████| 391/391 [00:22<00:00, 17.18it/s]\n"
          ]
        },
        {
          "output_type": "stream",
          "name": "stdout",
          "text": [
            "Test set: Average loss: 0.0033, Accuracy: 8598/10000 (85.98%)\n",
            "\n"
          ]
        },
        {
          "output_type": "stream",
          "name": "stderr",
          "text": [
            "EPOCH = 199 | LR = 0.001 | Loss = 0.58 | Batch = 390 | Accuracy = 78.42: 100%|██████████| 391/391 [00:22<00:00, 17.22it/s]\n"
          ]
        },
        {
          "output_type": "stream",
          "name": "stdout",
          "text": [
            "Test set: Average loss: 0.0032, Accuracy: 8592/10000 (85.92%)\n",
            "\n"
          ]
        }
      ]
    },
    {
      "cell_type": "markdown",
      "source": [
        "# **Min and Max**"
      ],
      "metadata": {
        "id": "CF6DfHg6pGdY"
      }
    },
    {
      "cell_type": "code",
      "source": [
        "print(\"Minimum training loss = {:.9f}%\".format(min(trainer.train_losses)))\n",
        "print(\"Minimum testing loss = {:.9f}%\".format(min(tester.test_losses)))\n",
        "print(\"Best training accuracy = {:.2f}%\".format(max(trainer.epoch_train_accuracies)))\n",
        "print(\"Best testing accuracy = {:.2f}%\".format(max(tester.test_accuracies)))"
      ],
      "metadata": {
        "colab": {
          "base_uri": "https://localhost:8080/"
        },
        "id": "6BUuNY6gpKbQ",
        "outputId": "33510618-62c7-400a-ea90-80ddec7df5d0"
      },
      "execution_count": 57,
      "outputs": [
        {
          "output_type": "stream",
          "name": "stdout",
          "text": [
            "Minimum training loss = 0.335063607%\n",
            "Minimum testing loss = 0.003229242%\n",
            "Best training accuracy = 78.89%\n",
            "Best testing accuracy = 86.08%\n"
          ]
        }
      ]
    },
    {
      "cell_type": "markdown",
      "source": [
        "# **Helper to show training images**"
      ],
      "metadata": {
        "id": "GxitKLT2rCIC"
      }
    },
    {
      "cell_type": "code",
      "source": [
        "%matplotlib inline\n",
        "import matplotlib.pyplot as plt\n",
        "import numpy as np\n",
        "\n",
        "def denormalize(img):\n",
        "    channel_means = (0.4914, 0.4822, 0.4465)\n",
        "    channel_stdevs = (0.2470, 0.2435, 0.2616)\n",
        "    img = img.astype(dtype=np.float32)\n",
        "\n",
        "    for i in range(img.shape[0]):\n",
        "        img[i] = (img[i] * channel_stdevs[i]) + channel_means[i]\n",
        "\n",
        "    return np.transpose(img, (1, 2, 0))\n",
        "\n",
        "def show_training_images(train_loader, count):\n",
        "    classes = (\n",
        "            \"plane\",\n",
        "            \"car\",\n",
        "            \"bird\",\n",
        "            \"cat\",\n",
        "            \"deer\",\n",
        "            \"dog\",\n",
        "            \"frog\",\n",
        "            \"horse\",\n",
        "            \"ship\",\n",
        "            \"truck\",\n",
        "    )\n",
        "\n",
        "    images, labels = next(iter(train_loader))\n",
        "    images = images[0:count]\n",
        "    labels = labels[0:count]\n",
        "\n",
        "    fig = plt.figure(figsize=(20, 10))\n",
        "    for i in range(count):\n",
        "        sub = fig.add_subplot(count/5, 5, i+1)\n",
        "        npimg = denormalize(images[i].cpu().numpy().squeeze())\n",
        "        plt.imshow(npimg, cmap=\"gray\")\n",
        "        sub.set_title(\"Correct class: {}\".format(classes[labels[i]]))\n",
        "    plt.tight_layout()\n",
        "    plt.show()"
      ],
      "metadata": {
        "id": "ozzfpEBXrHvP"
      },
      "execution_count": 70,
      "outputs": []
    },
    {
      "cell_type": "markdown",
      "source": [
        "# **Sample Training images**"
      ],
      "metadata": {
        "id": "cFQFk4XLt9wh"
      }
    },
    {
      "cell_type": "code",
      "source": [
        "show_training_images(train_loader, 20)"
      ],
      "metadata": {
        "colab": {
          "base_uri": "https://localhost:8080/",
          "height": 729
        },
        "id": "jr1ZapQOsFXZ",
        "outputId": "13a44552-789f-4c9e-a2ec-a0fd2ec772af"
      },
      "execution_count": 71,
      "outputs": [
        {
          "output_type": "display_data",
          "data": {
            "text/plain": [
              "<Figure size 1440x720 with 20 Axes>"
            ],
            "image/png": "[encoded data removed]"
          },
          "metadata": {
            "needs_background": "light"
          }
        }
      ]
    },
    {
      "cell_type": "markdown",
      "source": [
        "# **Helper to show misclassified images**"
      ],
      "metadata": {
        "id": "gt8z60g3LyqO"
      }
    },
    {
      "cell_type": "code",
      "source": [
        "%matplotlib inline\n",
        "import matplotlib.pyplot as plt\n",
        "import numpy as np\n",
        "\n",
        "def show_misclassified_images(model, test_loader, device):\n",
        "    model.eval()\n",
        "    classes = (\n",
        "            \"plane\",\n",
        "            \"car\",\n",
        "            \"bird\",\n",
        "            \"cat\",\n",
        "            \"deer\",\n",
        "            \"dog\",\n",
        "            \"frog\",\n",
        "            \"horse\",\n",
        "            \"ship\",\n",
        "            \"truck\",\n",
        "    )\n",
        "    misclassified_images = []\n",
        "    \n",
        "    with torch.no_grad():\n",
        "        for data, target in test_loader:\n",
        "            data, target = data.to(device), target.to(device)\n",
        "            output = model(data)\n",
        "            _, pred = torch.max(output, 1)\n",
        "            for i in range(len(pred)):\n",
        "                if pred[i] != target[i]:\n",
        "                    misclassified_images.append({'image': data[i], 'predicted_class': classes[pred[i]], 'correct_class': classes[target[i]]})\n",
        "\n",
        "    # Plot the misclassified images\n",
        "    fig = plt.figure(figsize=(20, 10))\n",
        "    for i in range(20):\n",
        "        sub = fig.add_subplot(4, 5, i+1)\n",
        "        misclassified_image = misclassified_images[i]\n",
        "        npimg = denormalize(misclassified_image['image'].cpu().numpy().squeeze())\n",
        "        plt.imshow(npimg, cmap=\"gray\")\n",
        "        sub.set_title(\"Correct class: {}\\nPredicted class: {}\".format(misclassified_image['correct_class'], misclassified_image['predicted_class']))\n",
        "    plt.tight_layout()\n",
        "    plt.show()"
      ],
      "metadata": {
        "id": "pOW1X1VsL2tU"
      },
      "execution_count": 59,
      "outputs": []
    },
    {
      "cell_type": "markdown",
      "source": [
        "# **Misclassified images**"
      ],
      "metadata": {
        "id": "UcVYCQ_LMTmA"
      }
    },
    {
      "cell_type": "code",
      "source": [
        "show_misclassified_images(model, test_loader, device)"
      ],
      "metadata": {
        "colab": {
          "base_uri": "https://localhost:8080/",
          "height": 729
        },
        "id": "YVpkG7bCMYsM",
        "outputId": "01219d98-7e9f-4ee0-86f3-2d63a392ea1c"
      },
      "execution_count": 43,
      "outputs": [
        {
          "output_type": "display_data",
          "data": {
            "text/plain": [
              "<Figure size 1440x720 with 20 Axes>"
            ],
            "image/png": "[encoded data removed]"
          },
          "metadata": {
            "needs_background": "light"
          }
        }
      ]
    },
    {
      "cell_type": "markdown",
      "source": [
        "# **Loss and Accuracy Graphs**"
      ],
      "metadata": {
        "id": "oOle71BtkcLW"
      }
    },
    {
      "cell_type": "code",
      "source": [
        "fig, ax = plt.subplots(2, 2)\n",
        "\n",
        "train_epoch_loss_linspace = np.linspace(0, EPOCHS, len(trainer.train_losses))\n",
        "test_epoch_loss_linspace = np.linspace(0, EPOCHS, len(tester.test_losses))\n",
        "train_epoch_acc_linspace = np.linspace(0, EPOCHS, len(trainer.train_accuracies))\n",
        "test_epoch_acc_linspace = np.linspace(0, EPOCHS, len(tester.test_accuracies))\n",
        "\n",
        "ax[0][0].set_xlabel('Epoch')\n",
        "ax[0][0].set_ylabel('Train Loss')\n",
        "ax[0][0].plot(train_epoch_loss_linspace, trainer.train_losses)\n",
        "ax[0][0].tick_params(axis='y', labelleft=True, labelright=True)\n",
        "\n",
        "ax[0][1].set_xlabel('Epoch')\n",
        "ax[0][1].set_ylabel('Test Loss')\n",
        "ax[0][1].plot(test_epoch_loss_linspace, tester.test_losses)\n",
        "ax[0][1].tick_params(axis='y', labelleft=True, labelright=True)\n",
        "\n",
        "ax[1][0].set_xlabel('Epoch')\n",
        "ax[1][0].set_ylabel('Train Accuracy')\n",
        "ax[1][0].plot(train_epoch_acc_linspace, trainer.train_accuracies)\n",
        "ax[1][0].tick_params(axis='y', labelleft=True, labelright=True)\n",
        "ax[1][0].yaxis.set_ticks(np.arange(0, 101, 5))\n",
        "\n",
        "ax[1][1].set_xlabel('Epoch')\n",
        "ax[1][1].set_ylabel('Test Accuracy')\n",
        "ax[1][1].plot(test_epoch_acc_linspace, tester.test_accuracies)\n",
        "ax[1][1].tick_params(axis='y', labelleft=True, labelright=True)\n",
        "ax[1][1].yaxis.set_ticks(np.arange(0, 101, 5))\n",
        "\n",
        "fig.set_size_inches(28, 18)\n",
        "plt.tight_layout()\n",
        "plt.show()"
      ],
      "metadata": {
        "colab": {
          "base_uri": "https://localhost:8080/",
          "height": 1000
        },
        "id": "TwSKQSCfkgjh",
        "outputId": "3f4e8a7a-ab25-4858-ae32-14f5409876d6"
      },
      "execution_count": 56,
      "outputs": [
        {
          "output_type": "display_data",
          "data": {
            "text/plain": [
              "<Figure size 2016x1296 with 4 Axes>"
            ],
            "image/png": "[encoded data removed]"
          },
          "metadata": {
            "needs_background": "light"
          }
        }
      ]
    }
  ]
}