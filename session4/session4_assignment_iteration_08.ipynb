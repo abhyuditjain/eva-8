{
  "nbformat": 4,
  "nbformat_minor": 0,
  "metadata": {
    "colab": {
      "provenance": [],
      "machine_shape": "hm"
    },
    "kernelspec": {
      "name": "python3",
      "display_name": "Python 3"
    },
    "language_info": {
      "name": "python"
    },
    "accelerator": "GPU",
    "gpuClass": "premium"
  },
  "cells": [
    {
      "cell_type": "code",
      "execution_count": 93,
      "metadata": {
        "colab": {
          "base_uri": "https://localhost:8080/"
        },
        "id": "41jprAzd7nSJ",
        "outputId": "9ef696d6-fead-4dea-951c-5913035a0538"
      },
      "outputs": [
        {
          "output_type": "stream",
          "name": "stdout",
          "text": [
            "Looking in indexes: https://pypi.org/simple, https://us-python.pkg.dev/colab-wheels/public/simple/\n",
            "Requirement already satisfied: torchinfo in /usr/local/lib/python3.8/dist-packages (1.7.1)\n"
          ]
        }
      ],
      "source": [
        "!pip install torchinfo"
      ]
    },
    {
      "cell_type": "code",
      "source": [
        "import torch\n",
        "import torch.nn as nn\n",
        "import torch.nn.functional as F\n",
        "import torch.optim as optim\n",
        "from torchvision import datasets, transforms\n",
        "from torchinfo import summary"
      ],
      "metadata": {
        "id": "EWkuTbTg8GWa"
      },
      "execution_count": 94,
      "outputs": []
    },
    {
      "cell_type": "code",
      "source": [
        "# Train Phase transformations\n",
        "train_transforms = transforms.Compose([\n",
        "                                       transforms.ToTensor(),\n",
        "                                       transforms.Normalize((0.1307,), (0.3081,))\n",
        "                                       ])\n",
        "\n",
        "# Test Phase transformations\n",
        "test_transforms = transforms.Compose([\n",
        "                                       transforms.ToTensor(),\n",
        "                                       transforms.Normalize((0.1307,), (0.3081,))\n",
        "                                       ])\n"
      ],
      "metadata": {
        "id": "ZAJZ0Kn68LMZ"
      },
      "execution_count": 95,
      "outputs": []
    },
    {
      "cell_type": "code",
      "source": [
        "train = datasets.MNIST('./data', train=True, download=True, transform=train_transforms)\n",
        "test = datasets.MNIST('./data', train=False, download=True, transform=test_transforms)"
      ],
      "metadata": {
        "id": "Hw0hgo8O8f2y"
      },
      "execution_count": 96,
      "outputs": []
    },
    {
      "cell_type": "code",
      "source": [
        "SEED = 1\n",
        "\n",
        "# CUDA?\n",
        "cuda = torch.cuda.is_available()\n",
        "print(\"CUDA Available?\", cuda)\n",
        "\n",
        "# For reproducibility\n",
        "torch.manual_seed(SEED)\n",
        "\n",
        "if cuda:\n",
        "    torch.cuda.manual_seed(SEED)\n",
        "\n",
        "# dataloader arguments - something you'll fetch these from cmdprmt\n",
        "dataloader_args = dict(shuffle=True, batch_size=128, num_workers=2, pin_memory=True) if cuda else dict(shuffle=True, batch_size=64)\n",
        "\n",
        "# train dataloader\n",
        "train_loader = torch.utils.data.DataLoader(train, **dataloader_args)\n",
        "\n",
        "# test dataloader\n",
        "test_loader = torch.utils.data.DataLoader(test, **dataloader_args)"
      ],
      "metadata": {
        "colab": {
          "base_uri": "https://localhost:8080/"
        },
        "id": "BMahTrGa8hxw",
        "outputId": "d51c554c-3b48-4281-cdca-b1914866f0e4"
      },
      "execution_count": 97,
      "outputs": [
        {
          "output_type": "stream",
          "name": "stdout",
          "text": [
            "CUDA Available? True\n"
          ]
        }
      ]
    },
    {
      "cell_type": "code",
      "source": [
        "# We'd need to convert it into Numpy! Remember above we have converted it into tensors already\n",
        "train_data = train.data\n",
        "train_data = train.transform(train_data.numpy())\n",
        "\n",
        "print(train.data.shape)\n",
        "print(train_data.shape)\n",
        "\n",
        "print('[Train]')\n",
        "print(' - Numpy Shape:', train.data.cpu().numpy().shape)\n",
        "print(' - Tensor Shape:', train.data.size())\n",
        "print(' - min:', torch.min(train_data))\n",
        "print(' - max:', torch.max(train_data))\n",
        "print(' - mean:', torch.mean(train_data))\n",
        "print(' - std:', torch.std(train_data))\n",
        "print(' - var:', torch.var(train_data))\n",
        "\n",
        "dataiter = iter(train_loader)\n",
        "images, labels = next(dataiter)\n",
        "\n",
        "print(images.shape)\n",
        "print(labels.shape)\n",
        "\n",
        "# Let's visualize some of the images\n",
        "%matplotlib inline\n",
        "import matplotlib.pyplot as plt\n",
        "\n",
        "plt.imshow(images[0].numpy().squeeze(), cmap='gray_r')"
      ],
      "metadata": {
        "colab": {
          "base_uri": "https://localhost:8080/",
          "height": 505
        },
        "id": "8Xzfg1OH89ey",
        "outputId": "c8dc0874-e21d-4cc9-809e-dc7bbaf5b510"
      },
      "execution_count": 98,
      "outputs": [
        {
          "output_type": "stream",
          "name": "stdout",
          "text": [
            "torch.Size([60000, 28, 28])\n",
            "torch.Size([28, 60000, 28])\n",
            "[Train]\n",
            " - Numpy Shape: (60000, 28, 28)\n",
            " - Tensor Shape: torch.Size([60000, 28, 28])\n",
            " - min: tensor(-0.4242)\n",
            " - max: tensor(2.8215)\n",
            " - mean: tensor(-0.0001)\n",
            " - std: tensor(1.0000)\n",
            " - var: tensor(1.0001)\n",
            "torch.Size([128, 1, 28, 28])\n",
            "torch.Size([128])\n"
          ]
        },
        {
          "output_type": "execute_result",
          "data": {
            "text/plain": [
              "<matplotlib.image.AxesImage at 0x7f336d9feee0>"
            ]
          },
          "metadata": {},
          "execution_count": 98
        },
        {
          "output_type": "display_data",
          "data": {
            "text/plain": [
              "<Figure size 432x288 with 1 Axes>"
            ],
            "image/png": "[encoded data removed]"
          },
          "metadata": {
            "needs_background": "light"
          }
        }
      ]
    },
    {
      "cell_type": "code",
      "source": [
        "figure = plt.figure()\n",
        "num_of_images = 60\n",
        "for index in range(1, num_of_images + 1):\n",
        "    plt.subplot(6, 10, index)\n",
        "    plt.axis('off')\n",
        "    plt.imshow(images[index].numpy().squeeze(), cmap='gray_r')"
      ],
      "metadata": {
        "colab": {
          "base_uri": "https://localhost:8080/",
          "height": 246
        },
        "id": "N3lfEFZWo-_-",
        "outputId": "0488d905-cfa7-4a21-bfd7-5dbd711b0d5d"
      },
      "execution_count": 99,
      "outputs": [
        {
          "output_type": "display_data",
          "data": {
            "text/plain": [
              "<Figure size 432x288 with 60 Axes>"
            ],
            "image/png": "[encoded data removed]"
          },
          "metadata": {
            "needs_background": "light"
          }
        }
      ]
    },
    {
      "cell_type": "code",
      "source": [
        "class Net(nn.Module):\n",
        "    def __init__(self):\n",
        "        super(Net, self).__init__()\n",
        "        # Input Block\n",
        "        self.conv0 = nn.Sequential(\n",
        "            nn.Conv2d(in_channels=1, out_channels=16, kernel_size=(3, 3), padding=0, bias=False), # conv0_0 # output_size = 26\n",
        "            nn.ReLU(),\n",
        "            nn.BatchNorm2d(16),\n",
        "            nn.Dropout(0.05),\n",
        "        )\n",
        "\n",
        "        # Convolution 1\n",
        "        self.conv1 = nn.Sequential(\n",
        "            nn.Conv2d(in_channels=16, out_channels=32, kernel_size=(3, 3), padding=0, bias=False), # conv1_0 # output_size = 24\n",
        "            nn.ReLU(),\n",
        "            nn.BatchNorm2d(32),\n",
        "            nn.Dropout(0.05),\n",
        "        )\n",
        "\n",
        "        # Transition 1\n",
        "        self.trans1 = nn.Sequential(\n",
        "            nn.Conv2d(in_channels=32, out_channels=10, kernel_size=(1, 1), padding=0, bias=False), # trans1_conv0 # output_size = 24\n",
        "            nn.MaxPool2d(2, 2), # trans1_pool0 # output_size = 12\n",
        "        )\n",
        "\n",
        "        # Convolution 2\n",
        "        self.conv2 = nn.Sequential(\n",
        "            nn.Conv2d(in_channels=10, out_channels=16, kernel_size=(3, 3), padding=0, bias=False), # conv2_0 # output_size = 10\n",
        "            nn.ReLU(),\n",
        "            nn.BatchNorm2d(16),\n",
        "            nn.Dropout(0.05),\n",
        "        )\n",
        "\n",
        "        self.conv3 = nn.Sequential(\n",
        "            nn.Conv2d(in_channels=16, out_channels=16, kernel_size=(3, 3), padding=0, bias=False), # conv3_0 # output_size = 8\n",
        "            nn.ReLU(),\n",
        "            nn.BatchNorm2d(16),\n",
        "            nn.Dropout(0.05),\n",
        "        )\n",
        "\n",
        "        self.conv4 = nn.Sequential(\n",
        "            nn.Conv2d(in_channels=16, out_channels=16, kernel_size=(3, 3), padding=0, bias=False), # conv4_0 # output_size = 6\n",
        "            nn.ReLU(),\n",
        "            nn.BatchNorm2d(16),\n",
        "            nn.Dropout(0.05),\n",
        "        )\n",
        "\n",
        "        self.conv5 = nn.Sequential(\n",
        "            nn.Conv2d(in_channels=16, out_channels=16, kernel_size=(3, 3), padding=1, bias=False), # conv5_0 # output_size = 6\n",
        "            nn.ReLU(),\n",
        "            nn.BatchNorm2d(16),\n",
        "            nn.Dropout(0.05),\n",
        "        )\n",
        "\n",
        "        self.gap = nn.Sequential(\n",
        "            nn.AvgPool2d(kernel_size=6) # gap0\n",
        "        ) # output_size = 1\n",
        "\n",
        "        self.conv6 = nn.Sequential(\n",
        "            nn.Conv2d(in_channels=16, out_channels=10, kernel_size=(1, 1), padding=0, bias=False), # conv6_0\n",
        "        )\n",
        "\n",
        "    def forward(self, x):\n",
        "        x = self.conv0(x)\n",
        "        x = self.conv1(x)\n",
        "        x = self.trans1(x)\n",
        "        x = self.conv2(x)\n",
        "        x = self.conv3(x)\n",
        "        x = self.conv4(x)\n",
        "        x = self.conv5(x)\n",
        "        x = self.gap(x)\n",
        "        x = self.conv6(x)\n",
        "        x = x.view(-1, 10)\n",
        "        return F.log_softmax(x, dim=-1)"
      ],
      "metadata": {
        "id": "DP5gKKkKpVzF"
      },
      "execution_count": 100,
      "outputs": []
    },
    {
      "cell_type": "markdown",
      "source": [
        "# Receptive Field Calculations for all layers.\n",
        "\n",
        "n_in | RF_in | k | p | s | J_in | J_out | RF_out | n_out | layer\n",
        "-----|-------|---|---|---|------|-------|--------|-------|---------\n",
        "28   |   1   | 3 | 0 | 1 | 1    |   1   |   3    |  26   | conv0_0\n",
        "26   |   3   | 3 | 0 | 1 | 1    |   1   |   5    |  24   | conv1_0\n",
        "24   |   5   | 1 | 0 | 1 | 1    |   1   |   5    |  24   | trans1_conv0\n",
        "24   |   5   | 2 | 0 | 2 | 1    |   2   |   6    |  12   | trans1_pool0\n",
        "12   |   6   | 3 | 0 | 1 | 2    |   2   |   10   |  10   | conv2_0\n",
        "10   |   10  | 3 | 0 | 1 | 2    |   2   |   14   |  8    | conv3_0\n",
        "8    |   14  | 3 | 0 | 1 | 2    |   2   |   18   |  6    | conv4_0\n",
        "6    |   18  | 3 | 1 | 1 | 2    |   2   |   22   |  6    | conv5_0\n",
        "6    |   22  | 6 | 0 | 1 | 2    |   2   |   32   |  1    | gap0\n",
        "1    |   32  | 1 | 0 | 1 | 2    |   2   |   32   |  1    | conv6_0\n"
      ],
      "metadata": {
        "id": "hj0yCvkX1oN3"
      }
    },
    {
      "cell_type": "code",
      "source": [
        "use_cuda = torch.cuda.is_available()\n",
        "device = torch.device(\"cuda\" if use_cuda else \"cpu\")\n",
        "print(device)\n",
        "model = Net().to(device)\n",
        "batch_size = 20\n",
        "s = summary(\n",
        "    model,\n",
        "    input_size=(batch_size, 1, 28, 28),\n",
        "    verbose=1,\n",
        "    col_names=[\"kernel_size\", \"input_size\", \"output_size\", \"num_params\", \"mult_adds\", \"trainable\"],\n",
        "    row_settings=[\"var_names\"]\n",
        ")"
      ],
      "metadata": {
        "colab": {
          "base_uri": "https://localhost:8080/"
        },
        "id": "A6_-tc_Dpb8l",
        "outputId": "bf546178-88de-450c-e8c4-c366f45a3719"
      },
      "execution_count": 101,
      "outputs": [
        {
          "output_type": "stream",
          "name": "stdout",
          "text": [
            "cuda\n",
            "==============================================================================================================================================================================================\n",
            "Layer (type (var_name))                  Kernel Shape              Input Shape               Output Shape              Param #                   Mult-Adds                 Trainable\n",
            "==============================================================================================================================================================================================\n",
            "Net (Net)                                --                        [20, 1, 28, 28]           [20, 10]                  --                        --                        True\n",
            "├─Sequential (conv0)                     --                        [20, 1, 28, 28]           [20, 16, 26, 26]          --                        --                        True\n",
            "│    └─Conv2d (0)                        [3, 3]                    [20, 1, 28, 28]           [20, 16, 26, 26]          144                       1,946,880                 True\n",
            "│    └─ReLU (1)                          --                        [20, 16, 26, 26]          [20, 16, 26, 26]          --                        --                        --\n",
            "│    └─BatchNorm2d (2)                   --                        [20, 16, 26, 26]          [20, 16, 26, 26]          32                        640                       True\n",
            "│    └─Dropout (3)                       --                        [20, 16, 26, 26]          [20, 16, 26, 26]          --                        --                        --\n",
            "├─Sequential (conv1)                     --                        [20, 16, 26, 26]          [20, 32, 24, 24]          --                        --                        True\n",
            "│    └─Conv2d (0)                        [3, 3]                    [20, 16, 26, 26]          [20, 32, 24, 24]          4,608                     53,084,160                True\n",
            "│    └─ReLU (1)                          --                        [20, 32, 24, 24]          [20, 32, 24, 24]          --                        --                        --\n",
            "│    └─BatchNorm2d (2)                   --                        [20, 32, 24, 24]          [20, 32, 24, 24]          64                        1,280                     True\n",
            "│    └─Dropout (3)                       --                        [20, 32, 24, 24]          [20, 32, 24, 24]          --                        --                        --\n",
            "├─Sequential (trans1)                    --                        [20, 32, 24, 24]          [20, 10, 12, 12]          --                        --                        True\n",
            "│    └─Conv2d (0)                        [1, 1]                    [20, 32, 24, 24]          [20, 10, 24, 24]          320                       3,686,400                 True\n",
            "│    └─MaxPool2d (1)                     2                         [20, 10, 24, 24]          [20, 10, 12, 12]          --                        --                        --\n",
            "├─Sequential (conv2)                     --                        [20, 10, 12, 12]          [20, 16, 10, 10]          --                        --                        True\n",
            "│    └─Conv2d (0)                        [3, 3]                    [20, 10, 12, 12]          [20, 16, 10, 10]          1,440                     2,880,000                 True\n",
            "│    └─ReLU (1)                          --                        [20, 16, 10, 10]          [20, 16, 10, 10]          --                        --                        --\n",
            "│    └─BatchNorm2d (2)                   --                        [20, 16, 10, 10]          [20, 16, 10, 10]          32                        640                       True\n",
            "│    └─Dropout (3)                       --                        [20, 16, 10, 10]          [20, 16, 10, 10]          --                        --                        --\n",
            "├─Sequential (conv3)                     --                        [20, 16, 10, 10]          [20, 16, 8, 8]            --                        --                        True\n",
            "│    └─Conv2d (0)                        [3, 3]                    [20, 16, 10, 10]          [20, 16, 8, 8]            2,304                     2,949,120                 True\n",
            "│    └─ReLU (1)                          --                        [20, 16, 8, 8]            [20, 16, 8, 8]            --                        --                        --\n",
            "│    └─BatchNorm2d (2)                   --                        [20, 16, 8, 8]            [20, 16, 8, 8]            32                        640                       True\n",
            "│    └─Dropout (3)                       --                        [20, 16, 8, 8]            [20, 16, 8, 8]            --                        --                        --\n",
            "├─Sequential (conv4)                     --                        [20, 16, 8, 8]            [20, 16, 6, 6]            --                        --                        True\n",
            "│    └─Conv2d (0)                        [3, 3]                    [20, 16, 8, 8]            [20, 16, 6, 6]            2,304                     1,658,880                 True\n",
            "│    └─ReLU (1)                          --                        [20, 16, 6, 6]            [20, 16, 6, 6]            --                        --                        --\n",
            "│    └─BatchNorm2d (2)                   --                        [20, 16, 6, 6]            [20, 16, 6, 6]            32                        640                       True\n",
            "│    └─Dropout (3)                       --                        [20, 16, 6, 6]            [20, 16, 6, 6]            --                        --                        --\n",
            "├─Sequential (conv5)                     --                        [20, 16, 6, 6]            [20, 16, 6, 6]            --                        --                        True\n",
            "│    └─Conv2d (0)                        [3, 3]                    [20, 16, 6, 6]            [20, 16, 6, 6]            2,304                     1,658,880                 True\n",
            "│    └─ReLU (1)                          --                        [20, 16, 6, 6]            [20, 16, 6, 6]            --                        --                        --\n",
            "│    └─BatchNorm2d (2)                   --                        [20, 16, 6, 6]            [20, 16, 6, 6]            32                        640                       True\n",
            "│    └─Dropout (3)                       --                        [20, 16, 6, 6]            [20, 16, 6, 6]            --                        --                        --\n",
            "├─Sequential (gap)                       --                        [20, 16, 6, 6]            [20, 16, 1, 1]            --                        --                        --\n",
            "│    └─AvgPool2d (0)                     6                         [20, 16, 6, 6]            [20, 16, 1, 1]            --                        --                        --\n",
            "├─Sequential (conv6)                     --                        [20, 16, 1, 1]            [20, 10, 1, 1]            --                        --                        True\n",
            "│    └─Conv2d (0)                        [1, 1]                    [20, 16, 1, 1]            [20, 10, 1, 1]            160                       3,200                     True\n",
            "==============================================================================================================================================================================================\n",
            "Total params: 13,808\n",
            "Trainable params: 13,808\n",
            "Non-trainable params: 0\n",
            "Total mult-adds (M): 67.87\n",
            "==============================================================================================================================================================================================\n",
            "Input size (MB): 0.06\n",
            "Forward/backward pass size (MB): 11.49\n",
            "Params size (MB): 0.06\n",
            "Estimated Total Size (MB): 11.61\n",
            "==============================================================================================================================================================================================\n"
          ]
        }
      ]
    },
    {
      "cell_type": "code",
      "source": [
        "from tqdm import tqdm\n",
        "\n",
        "train_losses = []\n",
        "test_losses = []\n",
        "train_acc = []\n",
        "test_acc = []\n",
        "\n",
        "epoch_train_acc = []\n",
        "\n",
        "def train(model, device, train_loader, optimizer, epoch):\n",
        "  model.train()\n",
        "  pbar = tqdm(train_loader)\n",
        "  correct = 0\n",
        "  processed = 0\n",
        "  for batch_idx, (data, target) in enumerate(pbar):\n",
        "    # get samples\n",
        "    data, target = data.to(device), target.to(device)\n",
        "\n",
        "    # Init\n",
        "    optimizer.zero_grad()\n",
        "    # In PyTorch, we need to set the gradients to zero before starting to do backpropragation because PyTorch accumulates the gradients on subsequent backward passes. \n",
        "    # Because of this, when you start your training loop, ideally you should zero out the gradients so that you do the parameter update correctly.\n",
        "\n",
        "    # Predict\n",
        "    y_pred = model(data)\n",
        "\n",
        "    # Calculate loss\n",
        "    loss = F.nll_loss(y_pred, target)\n",
        "    train_losses.append(loss.item())\n",
        "\n",
        "    # Backpropagation\n",
        "    loss.backward()\n",
        "    optimizer.step()\n",
        "\n",
        "    # Update pbar-tqdm\n",
        "    \n",
        "    pred = y_pred.argmax(dim=1, keepdim=True)  # get the index of the max log-probability\n",
        "    correct += pred.eq(target.view_as(pred)).sum().item()\n",
        "    processed += len(data)\n",
        "\n",
        "    pbar.set_description(desc= f'Loss={loss.item()} Batch_id={batch_idx} Accuracy={100*correct/processed:0.2f}')\n",
        "    train_acc.append(100*correct/processed)\n",
        "\n",
        "  # epoch accuracy = accuracy for the whole batch\n",
        "  epoch_train_acc.append(100*correct/processed)\n",
        "\n",
        "def test(model, device, test_loader):\n",
        "    model.eval()\n",
        "    test_loss = 0\n",
        "    correct = 0\n",
        "    with torch.no_grad():\n",
        "        for data, target in test_loader:\n",
        "            data, target = data.to(device), target.to(device)\n",
        "            output = model(data)\n",
        "            test_loss += F.nll_loss(output, target, reduction='sum').item()  # sum up batch loss\n",
        "            pred = output.argmax(dim=1, keepdim=True)  # get the index of the max log-probability\n",
        "            correct += pred.eq(target.view_as(pred)).sum().item()\n",
        "\n",
        "    test_loss /= len(test_loader.dataset)\n",
        "    test_losses.append(test_loss)\n",
        "\n",
        "    print('Test set: Average loss: {:.4f}, Accuracy: {}/{} ({:.2f}%)\\n'.format(\n",
        "        test_loss, correct, len(test_loader.dataset),\n",
        "        100. * correct / len(test_loader.dataset)))\n",
        "    \n",
        "    test_acc.append(100. * correct / len(test_loader.dataset))"
      ],
      "metadata": {
        "id": "_ITbmfIgsctc"
      },
      "execution_count": 102,
      "outputs": []
    },
    {
      "cell_type": "code",
      "source": [
        "model =  Net().to(device)\n",
        "optimizer = optim.SGD(model.parameters(), lr=0.01, momentum=0.9)\n",
        "EPOCHS = 15\n",
        "for epoch in range(EPOCHS):\n",
        "    print(\"EPOCH:\", epoch)\n",
        "    train(model, device, train_loader, optimizer, epoch)\n",
        "    test(model, device, test_loader)"
      ],
      "metadata": {
        "colab": {
          "base_uri": "https://localhost:8080/"
        },
        "id": "oXxnVe4_sf1L",
        "outputId": "6a77eba5-7b3e-4b38-e588-6002235f1820"
      },
      "execution_count": 103,
      "outputs": [
        {
          "output_type": "stream",
          "name": "stdout",
          "text": [
            "EPOCH: 0\n"
          ]
        },
        {
          "output_type": "stream",
          "name": "stderr",
          "text": [
            "Loss=0.04856741055846214 Batch_id=468 Accuracy=90.40: 100%|██████████| 469/469 [00:06<00:00, 75.67it/s]\n"
          ]
        },
        {
          "output_type": "stream",
          "name": "stdout",
          "text": [
            "Test set: Average loss: 0.0743, Accuracy: 9810/10000 (98.10%)\n",
            "\n",
            "EPOCH: 1\n"
          ]
        },
        {
          "output_type": "stream",
          "name": "stderr",
          "text": [
            "Loss=0.05445246770977974 Batch_id=468 Accuracy=98.19: 100%|██████████| 469/469 [00:06<00:00, 76.77it/s]\n"
          ]
        },
        {
          "output_type": "stream",
          "name": "stdout",
          "text": [
            "Test set: Average loss: 0.0355, Accuracy: 9900/10000 (99.00%)\n",
            "\n",
            "EPOCH: 2\n"
          ]
        },
        {
          "output_type": "stream",
          "name": "stderr",
          "text": [
            "Loss=0.014466558583080769 Batch_id=468 Accuracy=98.67: 100%|██████████| 469/469 [00:06<00:00, 71.04it/s]\n"
          ]
        },
        {
          "output_type": "stream",
          "name": "stdout",
          "text": [
            "Test set: Average loss: 0.0317, Accuracy: 9904/10000 (99.04%)\n",
            "\n",
            "EPOCH: 3\n"
          ]
        },
        {
          "output_type": "stream",
          "name": "stderr",
          "text": [
            "Loss=0.04237043485045433 Batch_id=468 Accuracy=98.80: 100%|██████████| 469/469 [00:06<00:00, 75.16it/s]\n"
          ]
        },
        {
          "output_type": "stream",
          "name": "stdout",
          "text": [
            "Test set: Average loss: 0.0375, Accuracy: 9887/10000 (98.87%)\n",
            "\n",
            "EPOCH: 4\n"
          ]
        },
        {
          "output_type": "stream",
          "name": "stderr",
          "text": [
            "Loss=0.007276617456227541 Batch_id=468 Accuracy=98.89: 100%|██████████| 469/469 [00:06<00:00, 73.56it/s]\n"
          ]
        },
        {
          "output_type": "stream",
          "name": "stdout",
          "text": [
            "Test set: Average loss: 0.0232, Accuracy: 9928/10000 (99.28%)\n",
            "\n",
            "EPOCH: 5\n"
          ]
        },
        {
          "output_type": "stream",
          "name": "stderr",
          "text": [
            "Loss=0.02238323725759983 Batch_id=468 Accuracy=98.97: 100%|██████████| 469/469 [00:06<00:00, 77.67it/s]\n"
          ]
        },
        {
          "output_type": "stream",
          "name": "stdout",
          "text": [
            "Test set: Average loss: 0.0247, Accuracy: 9930/10000 (99.30%)\n",
            "\n",
            "EPOCH: 6\n"
          ]
        },
        {
          "output_type": "stream",
          "name": "stderr",
          "text": [
            "Loss=0.04133368283510208 Batch_id=468 Accuracy=99.03: 100%|██████████| 469/469 [00:06<00:00, 74.29it/s]\n"
          ]
        },
        {
          "output_type": "stream",
          "name": "stdout",
          "text": [
            "Test set: Average loss: 0.0236, Accuracy: 9927/10000 (99.27%)\n",
            "\n",
            "EPOCH: 7\n"
          ]
        },
        {
          "output_type": "stream",
          "name": "stderr",
          "text": [
            "Loss=0.0073155853897333145 Batch_id=468 Accuracy=99.20: 100%|██████████| 469/469 [00:06<00:00, 75.51it/s]\n"
          ]
        },
        {
          "output_type": "stream",
          "name": "stdout",
          "text": [
            "Test set: Average loss: 0.0213, Accuracy: 9939/10000 (99.39%)\n",
            "\n",
            "EPOCH: 8\n"
          ]
        },
        {
          "output_type": "stream",
          "name": "stderr",
          "text": [
            "Loss=0.02833276242017746 Batch_id=468 Accuracy=99.15: 100%|██████████| 469/469 [00:06<00:00, 75.42it/s]\n"
          ]
        },
        {
          "output_type": "stream",
          "name": "stdout",
          "text": [
            "Test set: Average loss: 0.0200, Accuracy: 9931/10000 (99.31%)\n",
            "\n",
            "EPOCH: 9\n"
          ]
        },
        {
          "output_type": "stream",
          "name": "stderr",
          "text": [
            "Loss=0.03364124521613121 Batch_id=468 Accuracy=99.25: 100%|██████████| 469/469 [00:05<00:00, 78.36it/s]\n"
          ]
        },
        {
          "output_type": "stream",
          "name": "stdout",
          "text": [
            "Test set: Average loss: 0.0221, Accuracy: 9930/10000 (99.30%)\n",
            "\n",
            "EPOCH: 10\n"
          ]
        },
        {
          "output_type": "stream",
          "name": "stderr",
          "text": [
            "Loss=0.040861308574676514 Batch_id=468 Accuracy=99.29: 100%|██████████| 469/469 [00:06<00:00, 73.90it/s]\n"
          ]
        },
        {
          "output_type": "stream",
          "name": "stdout",
          "text": [
            "Test set: Average loss: 0.0219, Accuracy: 9934/10000 (99.34%)\n",
            "\n",
            "EPOCH: 11\n"
          ]
        },
        {
          "output_type": "stream",
          "name": "stderr",
          "text": [
            "Loss=0.02140156738460064 Batch_id=468 Accuracy=99.35: 100%|██████████| 469/469 [00:06<00:00, 75.02it/s]\n"
          ]
        },
        {
          "output_type": "stream",
          "name": "stdout",
          "text": [
            "Test set: Average loss: 0.0190, Accuracy: 9938/10000 (99.38%)\n",
            "\n",
            "EPOCH: 12\n"
          ]
        },
        {
          "output_type": "stream",
          "name": "stderr",
          "text": [
            "Loss=0.004343695007264614 Batch_id=468 Accuracy=99.32: 100%|██████████| 469/469 [00:06<00:00, 73.67it/s]\n"
          ]
        },
        {
          "output_type": "stream",
          "name": "stdout",
          "text": [
            "Test set: Average loss: 0.0189, Accuracy: 9942/10000 (99.42%)\n",
            "\n",
            "EPOCH: 13\n"
          ]
        },
        {
          "output_type": "stream",
          "name": "stderr",
          "text": [
            "Loss=0.050522301346063614 Batch_id=468 Accuracy=99.28: 100%|██████████| 469/469 [00:06<00:00, 76.48it/s]\n"
          ]
        },
        {
          "output_type": "stream",
          "name": "stdout",
          "text": [
            "Test set: Average loss: 0.0189, Accuracy: 9946/10000 (99.46%)\n",
            "\n",
            "EPOCH: 14\n"
          ]
        },
        {
          "output_type": "stream",
          "name": "stderr",
          "text": [
            "Loss=0.009577750228345394 Batch_id=468 Accuracy=99.37: 100%|██████████| 469/469 [00:06<00:00, 77.21it/s]\n"
          ]
        },
        {
          "output_type": "stream",
          "name": "stdout",
          "text": [
            "Test set: Average loss: 0.0298, Accuracy: 9901/10000 (99.01%)\n",
            "\n"
          ]
        }
      ]
    },
    {
      "cell_type": "code",
      "source": [
        "fig, axs = plt.subplots(2,2,figsize=(20,15))\n",
        "axs[0, 0].plot(train_losses)\n",
        "axs[0, 0].set_title(\"Training Loss\")\n",
        "axs[1, 0].plot(train_acc)\n",
        "axs[1, 0].set_title(\"Training Accuracy\")\n",
        "axs[0, 1].plot(test_losses)\n",
        "axs[0, 1].set_title(\"Test Loss\")\n",
        "axs[1, 1].plot(test_acc)\n",
        "axs[1, 1].set_title(\"Test Accuracy\")"
      ],
      "metadata": {
        "id": "qBq0PcQQsnWl",
        "colab": {
          "base_uri": "https://localhost:8080/",
          "height": 897
        },
        "outputId": "29e29a70-44da-406e-aeb5-e828d2d58172"
      },
      "execution_count": 104,
      "outputs": [
        {
          "output_type": "execute_result",
          "data": {
            "text/plain": [
              "Text(0.5, 1.0, 'Test Accuracy')"
            ]
          },
          "metadata": {},
          "execution_count": 104
        },
        {
          "output_type": "display_data",
          "data": {
            "text/plain": [
              "<Figure size 1440x1080 with 4 Axes>"
            ],
            "image/png": "[encoded data removed]"
          },
          "metadata": {
            "needs_background": "light"
          }
        }
      ]
    },
    {
      "cell_type": "code",
      "source": [
        "print(\"Minimum training loss = {:.9f}%\".format(min(train_losses)))\n",
        "print(\"Minimum testing loss = {:.9f}%\".format(min(test_losses)))\n",
        "print(\"Best training accuracy = {:.2f}%\".format(max(epoch_train_acc)))\n",
        "print(\"Best testing accuracy = {:.2f}%\".format(max(test_acc)))"
      ],
      "metadata": {
        "id": "28Gk62xsCUDH",
        "colab": {
          "base_uri": "https://localhost:8080/"
        },
        "outputId": "32e15b72-06e0-4330-dfe4-d17e6f6a4023"
      },
      "execution_count": 105,
      "outputs": [
        {
          "output_type": "stream",
          "name": "stdout",
          "text": [
            "Minimum training loss = 0.001050219%\n",
            "Minimum testing loss = 0.018889175%\n",
            "Best training accuracy = 99.37%\n",
            "Best testing accuracy = 99.46%\n"
          ]
        }
      ]
    },
    {
      "cell_type": "markdown",
      "source": [
        "\n",
        "# Target:\n",
        "\n",
        "1.  Add more parameters to make this model comparable to a similarly sized model (before GAP)\n",
        "2. Max pooling after RF = 5 as it is MNIST data where features start to form at that field\n",
        "\n",
        "# Results:\n",
        "\n",
        "*   Parameters = 13,808\n",
        "*   Best training accuracy = 99.37%\n",
        "*   Best testing accuracy = 99.46%\n",
        "\n",
        "# Analysis:\n",
        "\n",
        "*   Model exceeded target size\n",
        "*   Model is not over-fitting.\n",
        "*   We reached our target testing accuracy\n",
        "    *  99.42% at Epoch 12\n",
        "    *  99.46% at Epoch 13\n",
        "*   Our target is not achieved consistently (during later epochs)\n",
        "*   I will play with the training data now to make the training harder"
      ],
      "metadata": {
        "id": "WP97hgyF7tCp"
      }
    }
  ]
}