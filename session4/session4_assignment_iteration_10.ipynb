{
  "nbformat": 4,
  "nbformat_minor": 0,
  "metadata": {
    "colab": {
      "provenance": [],
      "machine_shape": "hm"
    },
    "kernelspec": {
      "name": "python3",
      "display_name": "Python 3"
    },
    "language_info": {
      "name": "python"
    },
    "accelerator": "GPU",
    "gpuClass": "premium"
  },
  "cells": [
    {
      "cell_type": "code",
      "execution_count": 1,
      "metadata": {
        "colab": {
          "base_uri": "https://localhost:8080/"
        },
        "id": "41jprAzd7nSJ",
        "outputId": "3cf242dc-8d90-4ce7-89c9-72d7584fe5cb"
      },
      "outputs": [
        {
          "output_type": "stream",
          "name": "stdout",
          "text": [
            "Looking in indexes: https://pypi.org/simple, https://us-python.pkg.dev/colab-wheels/public/simple/\n",
            "Requirement already satisfied: torchinfo in /usr/local/lib/python3.8/dist-packages (1.7.1)\n"
          ]
        }
      ],
      "source": [
        "!pip install torchinfo"
      ]
    },
    {
      "cell_type": "code",
      "source": [
        "import torch\n",
        "import torch.nn as nn\n",
        "import torch.nn.functional as F\n",
        "import torch.optim as optim\n",
        "from torchvision import datasets, transforms\n",
        "from torchinfo import summary\n",
        "import numpy"
      ],
      "metadata": {
        "id": "EWkuTbTg8GWa"
      },
      "execution_count": 2,
      "outputs": []
    },
    {
      "cell_type": "code",
      "source": [
        "# Train Phase transformations\n",
        "train_transforms = transforms.Compose([\n",
        "                                       transforms.RandomRotation((-7.0, 7.0), fill=(1,)),\n",
        "                                       transforms.ToTensor(),\n",
        "                                       transforms.Normalize((0.1307,), (0.3081,))\n",
        "                                       ])\n",
        "\n",
        "# Test Phase transformations\n",
        "test_transforms = transforms.Compose([\n",
        "                                       transforms.ToTensor(),\n",
        "                                       transforms.Normalize((0.1307,), (0.3081,))\n",
        "                                       ])\n"
      ],
      "metadata": {
        "id": "ZAJZ0Kn68LMZ"
      },
      "execution_count": 3,
      "outputs": []
    },
    {
      "cell_type": "code",
      "source": [
        "train = datasets.MNIST('./data', train=True, download=True, transform=train_transforms)\n",
        "test = datasets.MNIST('./data', train=False, download=True, transform=test_transforms)"
      ],
      "metadata": {
        "id": "Hw0hgo8O8f2y"
      },
      "execution_count": 4,
      "outputs": []
    },
    {
      "cell_type": "code",
      "source": [
        "SEED = 1\n",
        "\n",
        "# CUDA?\n",
        "cuda = torch.cuda.is_available()\n",
        "print(\"CUDA Available?\", cuda)\n",
        "\n",
        "# For reproducibility\n",
        "torch.manual_seed(SEED)\n",
        "\n",
        "if cuda:\n",
        "    torch.cuda.manual_seed(SEED)\n",
        "\n",
        "# dataloader arguments - something you'll fetch these from cmdprmt\n",
        "dataloader_args = dict(shuffle=True, batch_size=128, num_workers=2, pin_memory=True) if cuda else dict(shuffle=True, batch_size=64)\n",
        "\n",
        "# train dataloader\n",
        "train_loader = torch.utils.data.DataLoader(train, **dataloader_args)\n",
        "\n",
        "# test dataloader\n",
        "test_loader = torch.utils.data.DataLoader(test, **dataloader_args)"
      ],
      "metadata": {
        "colab": {
          "base_uri": "https://localhost:8080/"
        },
        "id": "BMahTrGa8hxw",
        "outputId": "664f16df-c0f7-47cb-b4b7-169f03938c80"
      },
      "execution_count": 5,
      "outputs": [
        {
          "output_type": "stream",
          "name": "stdout",
          "text": [
            "CUDA Available? True\n"
          ]
        }
      ]
    },
    {
      "cell_type": "code",
      "source": [
        "%matplotlib inline\n",
        "import matplotlib.pyplot as plt"
      ],
      "metadata": {
        "id": "TMfZ7XlfOY9W"
      },
      "execution_count": 6,
      "outputs": []
    },
    {
      "cell_type": "code",
      "source": [
        "class Net(nn.Module):\n",
        "    def __init__(self):\n",
        "        super(Net, self).__init__()\n",
        "        # Input Block\n",
        "        self.conv0 = nn.Sequential(\n",
        "            nn.Conv2d(in_channels=1, out_channels=16, kernel_size=(3, 3), padding=0, bias=False), # conv0_0 # output_size = 26\n",
        "            nn.ReLU(),\n",
        "            nn.BatchNorm2d(16),\n",
        "            nn.Dropout(0.05),\n",
        "        )\n",
        "\n",
        "        # Convolution 1\n",
        "        self.conv1 = nn.Sequential(\n",
        "            nn.Conv2d(in_channels=16, out_channels=32, kernel_size=(3, 3), padding=0, bias=False), # conv1_0 # output_size = 24\n",
        "            nn.ReLU(),\n",
        "            nn.BatchNorm2d(32),\n",
        "            nn.Dropout(0.05),\n",
        "        )\n",
        "\n",
        "        # Transition 1\n",
        "        self.trans1 = nn.Sequential(\n",
        "            nn.Conv2d(in_channels=32, out_channels=10, kernel_size=(1, 1), padding=0, bias=False), # trans1_conv0 # output_size = 24\n",
        "            nn.MaxPool2d(2, 2), # trans1_pool0 # output_size = 12\n",
        "        )\n",
        "\n",
        "        # Convolution 2\n",
        "        self.conv2 = nn.Sequential(\n",
        "            nn.Conv2d(in_channels=10, out_channels=16, kernel_size=(3, 3), padding=0, bias=False), # conv2_0 # output_size = 10\n",
        "            nn.ReLU(),\n",
        "            nn.BatchNorm2d(16),\n",
        "            nn.Dropout(0.05),\n",
        "        )\n",
        "\n",
        "        self.conv3 = nn.Sequential(\n",
        "            nn.Conv2d(in_channels=16, out_channels=16, kernel_size=(3, 3), padding=0, bias=False), # conv3_0 # output_size = 8\n",
        "            nn.ReLU(),\n",
        "            nn.BatchNorm2d(16),\n",
        "            nn.Dropout(0.05),\n",
        "        )\n",
        "\n",
        "        self.conv4 = nn.Sequential(\n",
        "            nn.Conv2d(in_channels=16, out_channels=16, kernel_size=(3, 3), padding=0, bias=False), # conv4_0 # output_size = 6\n",
        "            nn.ReLU(),\n",
        "            nn.BatchNorm2d(16),\n",
        "            nn.Dropout(0.05),\n",
        "        )\n",
        "\n",
        "        self.conv5 = nn.Sequential(\n",
        "            nn.Conv2d(in_channels=16, out_channels=16, kernel_size=(3, 3), padding=1, bias=False), # conv5_0 # output_size = 6\n",
        "            nn.ReLU(),\n",
        "            nn.BatchNorm2d(16),\n",
        "            nn.Dropout(0.05),\n",
        "        )\n",
        "\n",
        "        self.gap = nn.Sequential(\n",
        "            nn.AvgPool2d(kernel_size=6) # gap0\n",
        "        ) # output_size = 1\n",
        "\n",
        "        self.conv6 = nn.Sequential(\n",
        "            nn.Conv2d(in_channels=16, out_channels=10, kernel_size=(1, 1), padding=0, bias=False), # conv6_0\n",
        "        )\n",
        "\n",
        "    def forward(self, x):\n",
        "        x = self.conv0(x)\n",
        "        x = self.conv1(x)\n",
        "        x = self.trans1(x)\n",
        "        x = self.conv2(x)\n",
        "        x = self.conv3(x)\n",
        "        x = self.conv4(x)\n",
        "        x = self.conv5(x)\n",
        "        x = self.gap(x)\n",
        "        x = self.conv6(x)\n",
        "        x = x.view(-1, 10)\n",
        "        return F.log_softmax(x, dim=-1)"
      ],
      "metadata": {
        "id": "DP5gKKkKpVzF"
      },
      "execution_count": 7,
      "outputs": []
    },
    {
      "cell_type": "markdown",
      "source": [
        "# Receptive Field Calculations for all layers.\n",
        "\n",
        "n_in | RF_in | k | p | s | J_in | J_out | RF_out | n_out | layer\n",
        "-----|-------|---|---|---|------|-------|--------|-------|---------\n",
        "28   |   1   | 3 | 0 | 1 | 1    |   1   |   3    |  26   | conv0_0\n",
        "26   |   3   | 3 | 0 | 1 | 1    |   1   |   5    |  24   | conv1_0\n",
        "24   |   5   | 1 | 0 | 1 | 1    |   1   |   5    |  24   | trans1_conv0\n",
        "24   |   5   | 2 | 0 | 2 | 1    |   2   |   6    |  12   | trans1_pool0\n",
        "12   |   6   | 3 | 0 | 1 | 2    |   2   |   10   |  10   | conv2_0\n",
        "10   |   10  | 3 | 0 | 1 | 2    |   2   |   14   |  8    | conv3_0\n",
        "8    |   14  | 3 | 0 | 1 | 2    |   2   |   18   |  6    | conv4_0\n",
        "6    |   18  | 3 | 1 | 1 | 2    |   2   |   22   |  6    | conv5_0\n",
        "6    |   22  | 6 | 0 | 1 | 2    |   2   |   32   |  1    | gap0\n",
        "1    |   32  | 1 | 0 | 1 | 2    |   2   |   32   |  1    | conv6_0"
      ],
      "metadata": {
        "id": "jtvTgTri4CA6"
      }
    },
    {
      "cell_type": "code",
      "source": [
        "use_cuda = torch.cuda.is_available()\n",
        "device = torch.device(\"cuda\" if use_cuda else \"cpu\")\n",
        "print(device)\n",
        "model = Net().to(device)\n",
        "batch_size = 20\n",
        "s = summary(\n",
        "    model,\n",
        "    input_size=(batch_size, 1, 28, 28),\n",
        "    verbose=1,\n",
        "    col_names=[\"kernel_size\", \"input_size\", \"output_size\", \"num_params\", \"mult_adds\", \"trainable\"],\n",
        "    row_settings=[\"var_names\"]\n",
        ")"
      ],
      "metadata": {
        "colab": {
          "base_uri": "https://localhost:8080/"
        },
        "id": "A6_-tc_Dpb8l",
        "outputId": "b1df1459-8ca0-465b-edcd-8842ab7c6ffb"
      },
      "execution_count": 8,
      "outputs": [
        {
          "output_type": "stream",
          "name": "stdout",
          "text": [
            "cuda\n",
            "==============================================================================================================================================================================================\n",
            "Layer (type (var_name))                  Kernel Shape              Input Shape               Output Shape              Param #                   Mult-Adds                 Trainable\n",
            "==============================================================================================================================================================================================\n",
            "Net (Net)                                --                        [20, 1, 28, 28]           [20, 10]                  --                        --                        True\n",
            "├─Sequential (conv0)                     --                        [20, 1, 28, 28]           [20, 16, 26, 26]          --                        --                        True\n",
            "│    └─Conv2d (0)                        [3, 3]                    [20, 1, 28, 28]           [20, 16, 26, 26]          144                       1,946,880                 True\n",
            "│    └─ReLU (1)                          --                        [20, 16, 26, 26]          [20, 16, 26, 26]          --                        --                        --\n",
            "│    └─BatchNorm2d (2)                   --                        [20, 16, 26, 26]          [20, 16, 26, 26]          32                        640                       True\n",
            "│    └─Dropout (3)                       --                        [20, 16, 26, 26]          [20, 16, 26, 26]          --                        --                        --\n",
            "├─Sequential (conv1)                     --                        [20, 16, 26, 26]          [20, 32, 24, 24]          --                        --                        True\n",
            "│    └─Conv2d (0)                        [3, 3]                    [20, 16, 26, 26]          [20, 32, 24, 24]          4,608                     53,084,160                True\n",
            "│    └─ReLU (1)                          --                        [20, 32, 24, 24]          [20, 32, 24, 24]          --                        --                        --\n",
            "│    └─BatchNorm2d (2)                   --                        [20, 32, 24, 24]          [20, 32, 24, 24]          64                        1,280                     True\n",
            "│    └─Dropout (3)                       --                        [20, 32, 24, 24]          [20, 32, 24, 24]          --                        --                        --\n",
            "├─Sequential (trans1)                    --                        [20, 32, 24, 24]          [20, 10, 12, 12]          --                        --                        True\n",
            "│    └─Conv2d (0)                        [1, 1]                    [20, 32, 24, 24]          [20, 10, 24, 24]          320                       3,686,400                 True\n",
            "│    └─MaxPool2d (1)                     2                         [20, 10, 24, 24]          [20, 10, 12, 12]          --                        --                        --\n",
            "├─Sequential (conv2)                     --                        [20, 10, 12, 12]          [20, 16, 10, 10]          --                        --                        True\n",
            "│    └─Conv2d (0)                        [3, 3]                    [20, 10, 12, 12]          [20, 16, 10, 10]          1,440                     2,880,000                 True\n",
            "│    └─ReLU (1)                          --                        [20, 16, 10, 10]          [20, 16, 10, 10]          --                        --                        --\n",
            "│    └─BatchNorm2d (2)                   --                        [20, 16, 10, 10]          [20, 16, 10, 10]          32                        640                       True\n",
            "│    └─Dropout (3)                       --                        [20, 16, 10, 10]          [20, 16, 10, 10]          --                        --                        --\n",
            "├─Sequential (conv3)                     --                        [20, 16, 10, 10]          [20, 16, 8, 8]            --                        --                        True\n",
            "│    └─Conv2d (0)                        [3, 3]                    [20, 16, 10, 10]          [20, 16, 8, 8]            2,304                     2,949,120                 True\n",
            "│    └─ReLU (1)                          --                        [20, 16, 8, 8]            [20, 16, 8, 8]            --                        --                        --\n",
            "│    └─BatchNorm2d (2)                   --                        [20, 16, 8, 8]            [20, 16, 8, 8]            32                        640                       True\n",
            "│    └─Dropout (3)                       --                        [20, 16, 8, 8]            [20, 16, 8, 8]            --                        --                        --\n",
            "├─Sequential (conv4)                     --                        [20, 16, 8, 8]            [20, 16, 6, 6]            --                        --                        True\n",
            "│    └─Conv2d (0)                        [3, 3]                    [20, 16, 8, 8]            [20, 16, 6, 6]            2,304                     1,658,880                 True\n",
            "│    └─ReLU (1)                          --                        [20, 16, 6, 6]            [20, 16, 6, 6]            --                        --                        --\n",
            "│    └─BatchNorm2d (2)                   --                        [20, 16, 6, 6]            [20, 16, 6, 6]            32                        640                       True\n",
            "│    └─Dropout (3)                       --                        [20, 16, 6, 6]            [20, 16, 6, 6]            --                        --                        --\n",
            "├─Sequential (conv5)                     --                        [20, 16, 6, 6]            [20, 16, 6, 6]            --                        --                        True\n",
            "│    └─Conv2d (0)                        [3, 3]                    [20, 16, 6, 6]            [20, 16, 6, 6]            2,304                     1,658,880                 True\n",
            "│    └─ReLU (1)                          --                        [20, 16, 6, 6]            [20, 16, 6, 6]            --                        --                        --\n",
            "│    └─BatchNorm2d (2)                   --                        [20, 16, 6, 6]            [20, 16, 6, 6]            32                        640                       True\n",
            "│    └─Dropout (3)                       --                        [20, 16, 6, 6]            [20, 16, 6, 6]            --                        --                        --\n",
            "├─Sequential (gap)                       --                        [20, 16, 6, 6]            [20, 16, 1, 1]            --                        --                        --\n",
            "│    └─AvgPool2d (0)                     6                         [20, 16, 6, 6]            [20, 16, 1, 1]            --                        --                        --\n",
            "├─Sequential (conv6)                     --                        [20, 16, 1, 1]            [20, 10, 1, 1]            --                        --                        True\n",
            "│    └─Conv2d (0)                        [1, 1]                    [20, 16, 1, 1]            [20, 10, 1, 1]            160                       3,200                     True\n",
            "==============================================================================================================================================================================================\n",
            "Total params: 13,808\n",
            "Trainable params: 13,808\n",
            "Non-trainable params: 0\n",
            "Total mult-adds (M): 67.87\n",
            "==============================================================================================================================================================================================\n",
            "Input size (MB): 0.06\n",
            "Forward/backward pass size (MB): 11.49\n",
            "Params size (MB): 0.06\n",
            "Estimated Total Size (MB): 11.61\n",
            "==============================================================================================================================================================================================\n"
          ]
        }
      ]
    },
    {
      "cell_type": "code",
      "source": [
        "from tqdm import tqdm\n",
        "\n",
        "train_losses = []\n",
        "test_losses = []\n",
        "train_acc = []\n",
        "test_acc = []\n",
        "\n",
        "epoch_train_acc = []\n",
        "\n",
        "def train(model, device, train_loader, optimizer, epoch):\n",
        "  model.train()\n",
        "  pbar = tqdm(train_loader)\n",
        "  correct = 0\n",
        "  processed = 0\n",
        "  for batch_idx, (data, target) in enumerate(pbar):\n",
        "    # get samples\n",
        "    data, target = data.to(device), target.to(device)\n",
        "\n",
        "    # Init\n",
        "    optimizer.zero_grad()\n",
        "    # In PyTorch, we need to set the gradients to zero before starting to do backpropragation because PyTorch accumulates the gradients on subsequent backward passes. \n",
        "    # Because of this, when you start your training loop, ideally you should zero out the gradients so that you do the parameter update correctly.\n",
        "\n",
        "    # Predict\n",
        "    y_pred = model(data)\n",
        "\n",
        "    # Calculate loss\n",
        "    loss = F.nll_loss(y_pred, target)\n",
        "    train_losses.append(loss.item())\n",
        "\n",
        "    # Backpropagation\n",
        "    loss.backward()\n",
        "    optimizer.step()\n",
        "\n",
        "    # Update pbar-tqdm\n",
        "    \n",
        "    pred = y_pred.argmax(dim=1, keepdim=True)  # get the index of the max log-probability\n",
        "    correct += pred.eq(target.view_as(pred)).sum().item()\n",
        "    processed += len(data)\n",
        "\n",
        "    pbar.set_description(desc= f'LR={optimizer.param_groups[0][\"lr\"]} Loss={loss.item()} Batch_id={batch_idx} Accuracy={100*correct/processed:0.2f}')\n",
        "    train_acc.append(100*correct/processed)\n",
        "\n",
        "  # epoch accuracy = accuracy for the whole batch\n",
        "  epoch_train_acc.append(100*correct/processed)\n",
        "\n",
        "def test(model, device, test_loader):\n",
        "    model.eval()\n",
        "    test_loss = 0\n",
        "    correct = 0\n",
        "    with torch.no_grad():\n",
        "        for data, target in test_loader:\n",
        "            data, target = data.to(device), target.to(device)\n",
        "            output = model(data)\n",
        "            test_loss += F.nll_loss(output, target, reduction='sum').item()  # sum up batch loss\n",
        "            pred = output.argmax(dim=1, keepdim=True)  # get the index of the max log-probability\n",
        "            correct += pred.eq(target.view_as(pred)).sum().item()\n",
        "\n",
        "    test_loss /= len(test_loader.dataset)\n",
        "    test_losses.append(test_loss)\n",
        "\n",
        "    print('Test set: Average loss: {:.4f}, Accuracy: {}/{} ({:.2f}%)\\n'.format(\n",
        "        test_loss, correct, len(test_loader.dataset),\n",
        "        100. * correct / len(test_loader.dataset)))\n",
        "    \n",
        "    test_acc.append(100. * correct / len(test_loader.dataset))"
      ],
      "metadata": {
        "id": "_ITbmfIgsctc"
      },
      "execution_count": 9,
      "outputs": []
    },
    {
      "cell_type": "code",
      "source": [
        "from torch.optim.lr_scheduler import StepLR\n",
        "\n",
        "model =  Net().to(device)\n",
        "optimizer = optim.SGD(model.parameters(), lr=0.01, momentum=0.9)\n",
        "scheduler = StepLR(optimizer, step_size=6, gamma=0.1)\n",
        "\n",
        "EPOCHS = 15\n",
        "for epoch in range(EPOCHS):\n",
        "    print(\"EPOCH:\", epoch)\n",
        "    train(model, device, train_loader, optimizer, epoch)\n",
        "    scheduler.step()\n",
        "    test(model, device, test_loader)"
      ],
      "metadata": {
        "colab": {
          "base_uri": "https://localhost:8080/"
        },
        "id": "oXxnVe4_sf1L",
        "outputId": "f1b239d3-d9ea-4f09-fccc-73e3b36aa7ff"
      },
      "execution_count": 10,
      "outputs": [
        {
          "output_type": "stream",
          "name": "stdout",
          "text": [
            "EPOCH: 0\n"
          ]
        },
        {
          "output_type": "stream",
          "name": "stderr",
          "text": [
            "LR=0.01 Loss=0.05091329291462898 Batch_id=468 Accuracy=88.28: 100%|██████████| 469/469 [00:10<00:00, 43.90it/s]\n"
          ]
        },
        {
          "output_type": "stream",
          "name": "stdout",
          "text": [
            "Test set: Average loss: 0.0626, Accuracy: 9837/10000 (98.37%)\n",
            "\n",
            "EPOCH: 1\n"
          ]
        },
        {
          "output_type": "stream",
          "name": "stderr",
          "text": [
            "LR=0.01 Loss=0.028509803116321564 Batch_id=468 Accuracy=97.75: 100%|██████████| 469/469 [00:10<00:00, 43.28it/s]\n"
          ]
        },
        {
          "output_type": "stream",
          "name": "stdout",
          "text": [
            "Test set: Average loss: 0.0441, Accuracy: 9868/10000 (98.68%)\n",
            "\n",
            "EPOCH: 2\n"
          ]
        },
        {
          "output_type": "stream",
          "name": "stderr",
          "text": [
            "LR=0.01 Loss=0.027048496529459953 Batch_id=468 Accuracy=98.30: 100%|██████████| 469/469 [00:10<00:00, 43.74it/s]\n"
          ]
        },
        {
          "output_type": "stream",
          "name": "stdout",
          "text": [
            "Test set: Average loss: 0.0334, Accuracy: 9902/10000 (99.02%)\n",
            "\n",
            "EPOCH: 3\n"
          ]
        },
        {
          "output_type": "stream",
          "name": "stderr",
          "text": [
            "LR=0.01 Loss=0.04074374958872795 Batch_id=468 Accuracy=98.60: 100%|██████████| 469/469 [00:10<00:00, 43.52it/s]\n"
          ]
        },
        {
          "output_type": "stream",
          "name": "stdout",
          "text": [
            "Test set: Average loss: 0.0385, Accuracy: 9881/10000 (98.81%)\n",
            "\n",
            "EPOCH: 4\n"
          ]
        },
        {
          "output_type": "stream",
          "name": "stderr",
          "text": [
            "LR=0.01 Loss=0.010336249135434628 Batch_id=468 Accuracy=98.68: 100%|██████████| 469/469 [00:10<00:00, 43.69it/s]\n"
          ]
        },
        {
          "output_type": "stream",
          "name": "stdout",
          "text": [
            "Test set: Average loss: 0.0283, Accuracy: 9902/10000 (99.02%)\n",
            "\n",
            "EPOCH: 5\n"
          ]
        },
        {
          "output_type": "stream",
          "name": "stderr",
          "text": [
            "LR=0.01 Loss=0.03717387467622757 Batch_id=468 Accuracy=98.70: 100%|██████████| 469/469 [00:10<00:00, 43.76it/s]\n"
          ]
        },
        {
          "output_type": "stream",
          "name": "stdout",
          "text": [
            "Test set: Average loss: 0.0509, Accuracy: 9837/10000 (98.37%)\n",
            "\n",
            "EPOCH: 6\n"
          ]
        },
        {
          "output_type": "stream",
          "name": "stderr",
          "text": [
            "LR=0.001 Loss=0.034235965460538864 Batch_id=468 Accuracy=99.04: 100%|██████████| 469/469 [00:10<00:00, 43.87it/s]\n"
          ]
        },
        {
          "output_type": "stream",
          "name": "stdout",
          "text": [
            "Test set: Average loss: 0.0193, Accuracy: 9942/10000 (99.42%)\n",
            "\n",
            "EPOCH: 7\n"
          ]
        },
        {
          "output_type": "stream",
          "name": "stderr",
          "text": [
            "LR=0.001 Loss=0.04605772718787193 Batch_id=468 Accuracy=99.12: 100%|██████████| 469/469 [00:10<00:00, 43.73it/s]\n"
          ]
        },
        {
          "output_type": "stream",
          "name": "stdout",
          "text": [
            "Test set: Average loss: 0.0186, Accuracy: 9940/10000 (99.40%)\n",
            "\n",
            "EPOCH: 8\n"
          ]
        },
        {
          "output_type": "stream",
          "name": "stderr",
          "text": [
            "LR=0.001 Loss=0.03490811958909035 Batch_id=468 Accuracy=99.16: 100%|██████████| 469/469 [00:10<00:00, 42.75it/s]\n"
          ]
        },
        {
          "output_type": "stream",
          "name": "stdout",
          "text": [
            "Test set: Average loss: 0.0190, Accuracy: 9940/10000 (99.40%)\n",
            "\n",
            "EPOCH: 9\n"
          ]
        },
        {
          "output_type": "stream",
          "name": "stderr",
          "text": [
            "LR=0.001 Loss=0.08034341037273407 Batch_id=468 Accuracy=99.12: 100%|██████████| 469/469 [00:10<00:00, 43.88it/s]\n"
          ]
        },
        {
          "output_type": "stream",
          "name": "stdout",
          "text": [
            "Test set: Average loss: 0.0190, Accuracy: 9941/10000 (99.41%)\n",
            "\n",
            "EPOCH: 10\n"
          ]
        },
        {
          "output_type": "stream",
          "name": "stderr",
          "text": [
            "LR=0.001 Loss=0.04104768484830856 Batch_id=468 Accuracy=99.18: 100%|██████████| 469/469 [00:10<00:00, 43.78it/s]\n"
          ]
        },
        {
          "output_type": "stream",
          "name": "stdout",
          "text": [
            "Test set: Average loss: 0.0184, Accuracy: 9944/10000 (99.44%)\n",
            "\n",
            "EPOCH: 11\n"
          ]
        },
        {
          "output_type": "stream",
          "name": "stderr",
          "text": [
            "LR=0.001 Loss=0.04141514003276825 Batch_id=468 Accuracy=99.17: 100%|██████████| 469/469 [00:10<00:00, 43.53it/s]\n"
          ]
        },
        {
          "output_type": "stream",
          "name": "stdout",
          "text": [
            "Test set: Average loss: 0.0186, Accuracy: 9942/10000 (99.42%)\n",
            "\n",
            "EPOCH: 12\n"
          ]
        },
        {
          "output_type": "stream",
          "name": "stderr",
          "text": [
            "LR=0.0001 Loss=0.04586583375930786 Batch_id=468 Accuracy=99.17: 100%|██████████| 469/469 [00:10<00:00, 44.16it/s]\n"
          ]
        },
        {
          "output_type": "stream",
          "name": "stdout",
          "text": [
            "Test set: Average loss: 0.0184, Accuracy: 9940/10000 (99.40%)\n",
            "\n",
            "EPOCH: 13\n"
          ]
        },
        {
          "output_type": "stream",
          "name": "stderr",
          "text": [
            "LR=0.0001 Loss=0.02543114311993122 Batch_id=468 Accuracy=99.20: 100%|██████████| 469/469 [00:10<00:00, 42.84it/s]\n"
          ]
        },
        {
          "output_type": "stream",
          "name": "stdout",
          "text": [
            "Test set: Average loss: 0.0188, Accuracy: 9943/10000 (99.43%)\n",
            "\n",
            "EPOCH: 14\n"
          ]
        },
        {
          "output_type": "stream",
          "name": "stderr",
          "text": [
            "LR=0.0001 Loss=0.04252980649471283 Batch_id=468 Accuracy=99.24: 100%|██████████| 469/469 [00:10<00:00, 43.44it/s]\n"
          ]
        },
        {
          "output_type": "stream",
          "name": "stdout",
          "text": [
            "Test set: Average loss: 0.0188, Accuracy: 9941/10000 (99.41%)\n",
            "\n"
          ]
        }
      ]
    },
    {
      "cell_type": "code",
      "source": [
        "fig, axs = plt.subplots(2,2,figsize=(20,15))\n",
        "axs[0, 0].plot(train_losses)\n",
        "axs[0, 0].set_title(\"Training Loss\")\n",
        "axs[1, 0].plot(train_acc)\n",
        "axs[1, 0].set_title(\"Training Accuracy\")\n",
        "axs[0, 1].plot(test_losses)\n",
        "axs[0, 1].set_title(\"Test Loss\")\n",
        "axs[1, 1].plot(test_acc)\n",
        "axs[1, 1].set_title(\"Test Accuracy\")"
      ],
      "metadata": {
        "id": "qBq0PcQQsnWl",
        "colab": {
          "base_uri": "https://localhost:8080/",
          "height": 897
        },
        "outputId": "837beb89-8d50-4041-d209-a50355b8c150"
      },
      "execution_count": 11,
      "outputs": [
        {
          "output_type": "execute_result",
          "data": {
            "text/plain": [
              "Text(0.5, 1.0, 'Test Accuracy')"
            ]
          },
          "metadata": {},
          "execution_count": 11
        },
        {
          "output_type": "display_data",
          "data": {
            "text/plain": [
              "<Figure size 1440x1080 with 4 Axes>"
            ],
            "image/png": "[encoded data removed]"
          },
          "metadata": {
            "needs_background": "light"
          }
        }
      ]
    },
    {
      "cell_type": "code",
      "source": [
        "print(\"Minimum training loss = {:.9f}%\".format(min(train_losses)))\n",
        "print(\"Minimum testing loss = {:.9f}%\".format(min(test_losses)))\n",
        "print(\"Best training accuracy = {:.2f}%\".format(max(epoch_train_acc)))\n",
        "print(\"Best testing accuracy = {:.2f}%\".format(max(test_acc)))"
      ],
      "metadata": {
        "id": "28Gk62xsCUDH",
        "colab": {
          "base_uri": "https://localhost:8080/"
        },
        "outputId": "b2b02c11-c832-4c79-d018-06e2c6f68f08"
      },
      "execution_count": 12,
      "outputs": [
        {
          "output_type": "stream",
          "name": "stdout",
          "text": [
            "Minimum training loss = 0.001982623%\n",
            "Minimum testing loss = 0.018372753%\n",
            "Best training accuracy = 99.24%\n",
            "Best testing accuracy = 99.44%\n"
          ]
        }
      ]
    },
    {
      "cell_type": "markdown",
      "source": [
        "\n",
        "# Target:\n",
        "\n",
        "1.  Added StepLR Scheduler to change learning rate\n",
        "\n",
        "# Results:\n",
        "\n",
        "*   Parameters = 13,808\n",
        "*   Best training accuracy = 99.24%\n",
        "*   Best testing accuracy = 99.44%\n",
        "\n",
        "# Analysis:\n",
        "\n",
        "*   Model exceeded target size\n",
        "*   Model is under-fitting as expected.\n",
        "*   We reached our target testing accuracy faster and more consistently\n",
        "    *  99.42% at Epoch 6\n",
        "    *  99.40% at Epoch 7\n",
        "    *  99.40% at Epoch 8\n",
        "    *  99.41% at Epoch 9\n",
        "    *  99.44% at Epoch 10\n",
        "    *  99.42% at Epoch 11\n",
        "    *  99.40% at Epoch 12\n",
        "    *  99.43% at Epoch 13\n",
        "    *  99.41% at Epoch 14\n",
        "*   Overall testing accuracy is up and we achieved our target during the last 9 epochs. And accuracy overall is high during the later epochs.\n",
        "* Will try playing with lower parameters"
      ],
      "metadata": {
        "id": "WP97hgyF7tCp"
      }
    }
  ]
}