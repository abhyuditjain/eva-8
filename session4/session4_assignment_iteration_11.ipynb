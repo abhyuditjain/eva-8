{
  "nbformat": 4,
  "nbformat_minor": 0,
  "metadata": {
    "colab": {
      "provenance": [],
      "machine_shape": "hm"
    },
    "kernelspec": {
      "name": "python3",
      "display_name": "Python 3"
    },
    "language_info": {
      "name": "python"
    },
    "accelerator": "GPU",
    "gpuClass": "premium"
  },
  "cells": [
    {
      "cell_type": "code",
      "execution_count": 49,
      "metadata": {
        "colab": {
          "base_uri": "https://localhost:8080/"
        },
        "id": "41jprAzd7nSJ",
        "outputId": "7bb4fb23-c446-4d32-f146-f8a4b65c3096"
      },
      "outputs": [
        {
          "output_type": "stream",
          "name": "stdout",
          "text": [
            "Looking in indexes: https://pypi.org/simple, https://us-python.pkg.dev/colab-wheels/public/simple/\n",
            "Requirement already satisfied: torchinfo in /usr/local/lib/python3.8/dist-packages (1.7.1)\n"
          ]
        }
      ],
      "source": [
        "!pip install torchinfo"
      ]
    },
    {
      "cell_type": "code",
      "source": [
        "import torch\n",
        "import torch.nn as nn\n",
        "import torch.nn.functional as F\n",
        "import torch.optim as optim\n",
        "from torchvision import datasets, transforms\n",
        "from torchinfo import summary\n",
        "import numpy"
      ],
      "metadata": {
        "id": "EWkuTbTg8GWa"
      },
      "execution_count": 50,
      "outputs": []
    },
    {
      "cell_type": "code",
      "source": [
        "# Train Phase transformations\n",
        "train_transforms = transforms.Compose([\n",
        "                                       transforms.RandomRotation((-7.0, 7.0), fill=(1,)),\n",
        "                                       transforms.ToTensor(),\n",
        "                                       transforms.Normalize((0.1307,), (0.3081,))\n",
        "                                       ])\n",
        "\n",
        "# Test Phase transformations\n",
        "test_transforms = transforms.Compose([\n",
        "                                       transforms.ToTensor(),\n",
        "                                       transforms.Normalize((0.1307,), (0.3081,))\n",
        "                                       ])\n"
      ],
      "metadata": {
        "id": "ZAJZ0Kn68LMZ"
      },
      "execution_count": 51,
      "outputs": []
    },
    {
      "cell_type": "code",
      "source": [
        "train = datasets.MNIST('./data', train=True, download=True, transform=train_transforms)\n",
        "test = datasets.MNIST('./data', train=False, download=True, transform=test_transforms)"
      ],
      "metadata": {
        "id": "Hw0hgo8O8f2y"
      },
      "execution_count": 52,
      "outputs": []
    },
    {
      "cell_type": "code",
      "source": [
        "SEED = 1\n",
        "\n",
        "# CUDA?\n",
        "cuda = torch.cuda.is_available()\n",
        "print(\"CUDA Available?\", cuda)\n",
        "\n",
        "# For reproducibility\n",
        "torch.manual_seed(SEED)\n",
        "\n",
        "if cuda:\n",
        "    torch.cuda.manual_seed(SEED)\n",
        "\n",
        "# dataloader arguments - something you'll fetch these from cmdprmt\n",
        "dataloader_args = dict(shuffle=True, batch_size=128, num_workers=2, pin_memory=True) if cuda else dict(shuffle=True, batch_size=64)\n",
        "\n",
        "# train dataloader\n",
        "train_loader = torch.utils.data.DataLoader(train, **dataloader_args)\n",
        "\n",
        "# test dataloader\n",
        "test_loader = torch.utils.data.DataLoader(test, **dataloader_args)"
      ],
      "metadata": {
        "colab": {
          "base_uri": "https://localhost:8080/"
        },
        "id": "BMahTrGa8hxw",
        "outputId": "35a6ddca-cb36-4585-bad7-d67dd4be3802"
      },
      "execution_count": 53,
      "outputs": [
        {
          "output_type": "stream",
          "name": "stdout",
          "text": [
            "CUDA Available? True\n"
          ]
        }
      ]
    },
    {
      "cell_type": "code",
      "source": [
        "%matplotlib inline\n",
        "import matplotlib.pyplot as plt"
      ],
      "metadata": {
        "id": "TMfZ7XlfOY9W"
      },
      "execution_count": 54,
      "outputs": []
    },
    {
      "cell_type": "code",
      "source": [
        "class Net(nn.Module):\n",
        "    def __init__(self):\n",
        "        super(Net, self).__init__()\n",
        "        # Input Block\n",
        "        self.conv0 = nn.Sequential(\n",
        "            nn.Conv2d(in_channels=1, out_channels=10, kernel_size=(3, 3), padding=0, bias=False), # conv0_0 # output_size = 26\n",
        "            nn.ReLU(),\n",
        "            nn.BatchNorm2d(10),\n",
        "            nn.Dropout(0.05),\n",
        "        )\n",
        "\n",
        "        # Convolution 1\n",
        "        self.conv1 = nn.Sequential(\n",
        "            nn.Conv2d(in_channels=10, out_channels=20, kernel_size=(3, 3), padding=0, bias=False), # conv1_0 # output_size = 24\n",
        "            nn.ReLU(),\n",
        "            nn.BatchNorm2d(20),\n",
        "            nn.Dropout(0.05),\n",
        "        )\n",
        "\n",
        "        # Transition 1\n",
        "        self.trans1 = nn.Sequential(\n",
        "            nn.Conv2d(in_channels=20, out_channels=10, kernel_size=(1, 1), padding=0, bias=False), # trans1_conv0 # output_size = 24\n",
        "            nn.MaxPool2d(2, 2), # trans1_pool0 # output_size = 12\n",
        "        )\n",
        "\n",
        "        # Convolution 2\n",
        "        self.conv2 = nn.Sequential(\n",
        "            nn.Conv2d(in_channels=10, out_channels=20, kernel_size=(3, 3), padding=0, bias=False), # conv2_0 # output_size = 10\n",
        "            nn.ReLU(),\n",
        "            nn.BatchNorm2d(20),\n",
        "            nn.Dropout(0.05),\n",
        "        )\n",
        "\n",
        "        self.conv3 = nn.Sequential(\n",
        "            nn.Conv2d(in_channels=20, out_channels=10, kernel_size=(3, 3), padding=0, bias=False), # conv3_0 # output_size = 8\n",
        "            nn.ReLU(),\n",
        "            nn.BatchNorm2d(10),\n",
        "            nn.Dropout(0.05),\n",
        "        )\n",
        "\n",
        "        self.conv4 = nn.Sequential(\n",
        "            nn.Conv2d(in_channels=10, out_channels=10, kernel_size=(3, 3), padding=0, bias=False), # conv4_0 # output_size = 6\n",
        "            nn.ReLU(),\n",
        "            nn.BatchNorm2d(10),\n",
        "            nn.Dropout(0.05),\n",
        "        )\n",
        "\n",
        "        self.conv5 = nn.Sequential(\n",
        "            nn.Conv2d(in_channels=10, out_channels=10, kernel_size=(3, 3), padding=1, bias=False), # conv5_0 # output_size = 6\n",
        "            nn.ReLU(),\n",
        "            nn.BatchNorm2d(10),\n",
        "            nn.Dropout(0.05),\n",
        "        )\n",
        "\n",
        "        self.gap = nn.Sequential(\n",
        "            nn.AvgPool2d(kernel_size=6) # gap0\n",
        "        ) # output_size = 1\n",
        "\n",
        "        self.conv6 = nn.Sequential(\n",
        "            nn.Conv2d(in_channels=10, out_channels=10, kernel_size=(1, 1), padding=0, bias=False), # conv6_0\n",
        "        )\n",
        "\n",
        "    def forward(self, x):\n",
        "        x = self.conv0(x)\n",
        "        x = self.conv1(x)\n",
        "        x = self.trans1(x)\n",
        "        x = self.conv2(x)\n",
        "        x = self.conv3(x)\n",
        "        x = self.conv4(x)\n",
        "        x = self.conv5(x)\n",
        "        x = self.gap(x)\n",
        "        x = self.conv6(x)\n",
        "        x = x.view(-1, 10)\n",
        "        return F.log_softmax(x, dim=-1)"
      ],
      "metadata": {
        "id": "DP5gKKkKpVzF"
      },
      "execution_count": 55,
      "outputs": []
    },
    {
      "cell_type": "markdown",
      "source": [
        "# Receptive Field Calculations for all layers.\n",
        "\n",
        "n_in | RF_in | k | p | s | J_in | J_out | RF_out | n_out | layer\n",
        "-----|-------|---|---|---|------|-------|--------|-------|---------\n",
        "28   |   1   | 3 | 0 | 1 | 1    |   1   |   3    |  26   | conv0_0\n",
        "26   |   3   | 3 | 0 | 1 | 1    |   1   |   5    |  24   | conv1_0\n",
        "24   |   5   | 1 | 0 | 1 | 1    |   1   |   5    |  24   | trans1_conv0\n",
        "24   |   5   | 2 | 0 | 2 | 1    |   2   |   6    |  12   | trans1_pool0\n",
        "12   |   6   | 3 | 0 | 1 | 2    |   2   |   10   |  10   | conv2_0\n",
        "10   |   10  | 3 | 0 | 1 | 2    |   2   |   14   |  8    | conv3_0\n",
        "8    |   14  | 3 | 0 | 1 | 2    |   2   |   18   |  6    | conv4_0\n",
        "6    |   18  | 3 | 1 | 1 | 2    |   2   |   22   |  6    | conv5_0\n",
        "6    |   22  | 6 | 0 | 1 | 2    |   2   |   32   |  1    | gap0\n",
        "1    |   32  | 1 | 0 | 1 | 2    |   2   |   32   |  1    | conv6_0"
      ],
      "metadata": {
        "id": "y2OX5cZi4VRs"
      }
    },
    {
      "cell_type": "code",
      "source": [
        "use_cuda = torch.cuda.is_available()\n",
        "device = torch.device(\"cuda\" if use_cuda else \"cpu\")\n",
        "print(device)\n",
        "model = Net().to(device)\n",
        "batch_size = 20\n",
        "s = summary(\n",
        "    model,\n",
        "    input_size=(batch_size, 1, 28, 28),\n",
        "    verbose=1,\n",
        "    col_names=[\"kernel_size\", \"input_size\", \"output_size\", \"num_params\", \"mult_adds\", \"trainable\"],\n",
        "    row_settings=[\"var_names\"]\n",
        ")"
      ],
      "metadata": {
        "colab": {
          "base_uri": "https://localhost:8080/"
        },
        "id": "A6_-tc_Dpb8l",
        "outputId": "a648e012-db27-4024-c9e3-97256611c2a1"
      },
      "execution_count": 56,
      "outputs": [
        {
          "output_type": "stream",
          "name": "stdout",
          "text": [
            "cuda\n",
            "==============================================================================================================================================================================================\n",
            "Layer (type (var_name))                  Kernel Shape              Input Shape               Output Shape              Param #                   Mult-Adds                 Trainable\n",
            "==============================================================================================================================================================================================\n",
            "Net (Net)                                --                        [20, 1, 28, 28]           [20, 10]                  --                        --                        True\n",
            "├─Sequential (conv0)                     --                        [20, 1, 28, 28]           [20, 10, 26, 26]          --                        --                        True\n",
            "│    └─Conv2d (0)                        [3, 3]                    [20, 1, 28, 28]           [20, 10, 26, 26]          90                        1,216,800                 True\n",
            "│    └─ReLU (1)                          --                        [20, 10, 26, 26]          [20, 10, 26, 26]          --                        --                        --\n",
            "│    └─BatchNorm2d (2)                   --                        [20, 10, 26, 26]          [20, 10, 26, 26]          20                        400                       True\n",
            "│    └─Dropout (3)                       --                        [20, 10, 26, 26]          [20, 10, 26, 26]          --                        --                        --\n",
            "├─Sequential (conv1)                     --                        [20, 10, 26, 26]          [20, 20, 24, 24]          --                        --                        True\n",
            "│    └─Conv2d (0)                        [3, 3]                    [20, 10, 26, 26]          [20, 20, 24, 24]          1,800                     20,736,000                True\n",
            "│    └─ReLU (1)                          --                        [20, 20, 24, 24]          [20, 20, 24, 24]          --                        --                        --\n",
            "│    └─BatchNorm2d (2)                   --                        [20, 20, 24, 24]          [20, 20, 24, 24]          40                        800                       True\n",
            "│    └─Dropout (3)                       --                        [20, 20, 24, 24]          [20, 20, 24, 24]          --                        --                        --\n",
            "├─Sequential (trans1)                    --                        [20, 20, 24, 24]          [20, 10, 12, 12]          --                        --                        True\n",
            "│    └─Conv2d (0)                        [1, 1]                    [20, 20, 24, 24]          [20, 10, 24, 24]          200                       2,304,000                 True\n",
            "│    └─MaxPool2d (1)                     2                         [20, 10, 24, 24]          [20, 10, 12, 12]          --                        --                        --\n",
            "├─Sequential (conv2)                     --                        [20, 10, 12, 12]          [20, 20, 10, 10]          --                        --                        True\n",
            "│    └─Conv2d (0)                        [3, 3]                    [20, 10, 12, 12]          [20, 20, 10, 10]          1,800                     3,600,000                 True\n",
            "│    └─ReLU (1)                          --                        [20, 20, 10, 10]          [20, 20, 10, 10]          --                        --                        --\n",
            "│    └─BatchNorm2d (2)                   --                        [20, 20, 10, 10]          [20, 20, 10, 10]          40                        800                       True\n",
            "│    └─Dropout (3)                       --                        [20, 20, 10, 10]          [20, 20, 10, 10]          --                        --                        --\n",
            "├─Sequential (conv3)                     --                        [20, 20, 10, 10]          [20, 10, 8, 8]            --                        --                        True\n",
            "│    └─Conv2d (0)                        [3, 3]                    [20, 20, 10, 10]          [20, 10, 8, 8]            1,800                     2,304,000                 True\n",
            "│    └─ReLU (1)                          --                        [20, 10, 8, 8]            [20, 10, 8, 8]            --                        --                        --\n",
            "│    └─BatchNorm2d (2)                   --                        [20, 10, 8, 8]            [20, 10, 8, 8]            20                        400                       True\n",
            "│    └─Dropout (3)                       --                        [20, 10, 8, 8]            [20, 10, 8, 8]            --                        --                        --\n",
            "├─Sequential (conv4)                     --                        [20, 10, 8, 8]            [20, 10, 6, 6]            --                        --                        True\n",
            "│    └─Conv2d (0)                        [3, 3]                    [20, 10, 8, 8]            [20, 10, 6, 6]            900                       648,000                   True\n",
            "│    └─ReLU (1)                          --                        [20, 10, 6, 6]            [20, 10, 6, 6]            --                        --                        --\n",
            "│    └─BatchNorm2d (2)                   --                        [20, 10, 6, 6]            [20, 10, 6, 6]            20                        400                       True\n",
            "│    └─Dropout (3)                       --                        [20, 10, 6, 6]            [20, 10, 6, 6]            --                        --                        --\n",
            "├─Sequential (conv5)                     --                        [20, 10, 6, 6]            [20, 10, 6, 6]            --                        --                        True\n",
            "│    └─Conv2d (0)                        [3, 3]                    [20, 10, 6, 6]            [20, 10, 6, 6]            900                       648,000                   True\n",
            "│    └─ReLU (1)                          --                        [20, 10, 6, 6]            [20, 10, 6, 6]            --                        --                        --\n",
            "│    └─BatchNorm2d (2)                   --                        [20, 10, 6, 6]            [20, 10, 6, 6]            20                        400                       True\n",
            "│    └─Dropout (3)                       --                        [20, 10, 6, 6]            [20, 10, 6, 6]            --                        --                        --\n",
            "├─Sequential (gap)                       --                        [20, 10, 6, 6]            [20, 10, 1, 1]            --                        --                        --\n",
            "│    └─AvgPool2d (0)                     6                         [20, 10, 6, 6]            [20, 10, 1, 1]            --                        --                        --\n",
            "├─Sequential (conv6)                     --                        [20, 10, 1, 1]            [20, 10, 1, 1]            --                        --                        True\n",
            "│    └─Conv2d (0)                        [1, 1]                    [20, 10, 1, 1]            [20, 10, 1, 1]            100                       2,000                     True\n",
            "==============================================================================================================================================================================================\n",
            "Total params: 7,750\n",
            "Trainable params: 7,750\n",
            "Non-trainable params: 0\n",
            "Total mult-adds (M): 31.46\n",
            "==============================================================================================================================================================================================\n",
            "Input size (MB): 0.06\n",
            "Forward/backward pass size (MB): 7.85\n",
            "Params size (MB): 0.03\n",
            "Estimated Total Size (MB): 7.94\n",
            "==============================================================================================================================================================================================\n"
          ]
        }
      ]
    },
    {
      "cell_type": "code",
      "source": [
        "from tqdm import tqdm\n",
        "\n",
        "train_losses = []\n",
        "test_losses = []\n",
        "train_acc = []\n",
        "test_acc = []\n",
        "\n",
        "epoch_train_acc = []\n",
        "\n",
        "def train(model, device, train_loader, optimizer, epoch):\n",
        "  model.train()\n",
        "  pbar = tqdm(train_loader)\n",
        "  correct = 0\n",
        "  processed = 0\n",
        "  for batch_idx, (data, target) in enumerate(pbar):\n",
        "    # get samples\n",
        "    data, target = data.to(device), target.to(device)\n",
        "\n",
        "    # Init\n",
        "    optimizer.zero_grad()\n",
        "    # In PyTorch, we need to set the gradients to zero before starting to do backpropragation because PyTorch accumulates the gradients on subsequent backward passes. \n",
        "    # Because of this, when you start your training loop, ideally you should zero out the gradients so that you do the parameter update correctly.\n",
        "\n",
        "    # Predict\n",
        "    y_pred = model(data)\n",
        "\n",
        "    # Calculate loss\n",
        "    loss = F.nll_loss(y_pred, target)\n",
        "    train_losses.append(loss.item())\n",
        "\n",
        "    # Backpropagation\n",
        "    loss.backward()\n",
        "    optimizer.step()\n",
        "\n",
        "    # Update pbar-tqdm\n",
        "    \n",
        "    pred = y_pred.argmax(dim=1, keepdim=True)  # get the index of the max log-probability\n",
        "    correct += pred.eq(target.view_as(pred)).sum().item()\n",
        "    processed += len(data)\n",
        "\n",
        "    pbar.set_description(desc= f'LR={optimizer.param_groups[0][\"lr\"]} Loss={loss.item()} Batch_id={batch_idx} Accuracy={100*correct/processed:0.2f}')\n",
        "    train_acc.append(100*correct/processed)\n",
        "\n",
        "  # epoch accuracy = accuracy for the whole batch\n",
        "  epoch_train_acc.append(100*correct/processed)\n",
        "  return 100*correct/processed\n",
        "\n",
        "def test(model, device, test_loader):\n",
        "    model.eval()\n",
        "    test_loss = 0\n",
        "    correct = 0\n",
        "    with torch.no_grad():\n",
        "        for data, target in test_loader:\n",
        "            data, target = data.to(device), target.to(device)\n",
        "            output = model(data)\n",
        "            test_loss += F.nll_loss(output, target, reduction='sum').item()  # sum up batch loss\n",
        "            pred = output.argmax(dim=1, keepdim=True)  # get the index of the max log-probability\n",
        "            correct += pred.eq(target.view_as(pred)).sum().item()\n",
        "\n",
        "    test_loss /= len(test_loader.dataset)\n",
        "    test_losses.append(test_loss)\n",
        "\n",
        "    print('Test set: Average loss: {:.4f}, Accuracy: {}/{} ({:.2f}%)\\n'.format(\n",
        "        test_loss, correct, len(test_loader.dataset),\n",
        "        100. * correct / len(test_loader.dataset)))\n",
        "    \n",
        "    test_acc.append(100. * correct / len(test_loader.dataset))"
      ],
      "metadata": {
        "id": "_ITbmfIgsctc"
      },
      "execution_count": 57,
      "outputs": []
    },
    {
      "cell_type": "code",
      "source": [
        "from torch.optim.lr_scheduler import StepLR, ReduceLROnPlateau\n",
        "\n",
        "model =  Net().to(device)\n",
        "optimizer = optim.SGD(model.parameters(), lr=0.3, momentum=0.9)\n",
        "scheduler = StepLR(optimizer, step_size=5, gamma=0.1)\n",
        "# scheduler = ReduceLROnPlateau(optimizer, mode='max', factor=0.1, patience=0)\n",
        "\n",
        "EPOCHS = 15\n",
        "for epoch in range(EPOCHS):\n",
        "    print(\"EPOCH:\", epoch)\n",
        "    accuracy = train(model, device, train_loader, optimizer, epoch)\n",
        "    scheduler.step()\n",
        "    test(model, device, test_loader)"
      ],
      "metadata": {
        "colab": {
          "base_uri": "https://localhost:8080/"
        },
        "id": "oXxnVe4_sf1L",
        "outputId": "12e299c3-51da-420d-e2fb-67cc5a87582b"
      },
      "execution_count": 63,
      "outputs": [
        {
          "output_type": "stream",
          "name": "stdout",
          "text": [
            "EPOCH: 0\n"
          ]
        },
        {
          "output_type": "stream",
          "name": "stderr",
          "text": [
            "LR=0.3 Loss=0.07883671671152115 Batch_id=468 Accuracy=93.01: 100%|██████████| 469/469 [00:08<00:00, 53.63it/s]\n"
          ]
        },
        {
          "output_type": "stream",
          "name": "stdout",
          "text": [
            "Test set: Average loss: 0.0937, Accuracy: 9699/10000 (96.99%)\n",
            "\n",
            "EPOCH: 1\n"
          ]
        },
        {
          "output_type": "stream",
          "name": "stderr",
          "text": [
            "LR=0.3 Loss=0.09559004753828049 Batch_id=468 Accuracy=97.54: 100%|██████████| 469/469 [00:08<00:00, 53.66it/s]\n"
          ]
        },
        {
          "output_type": "stream",
          "name": "stdout",
          "text": [
            "Test set: Average loss: 0.0423, Accuracy: 9861/10000 (98.61%)\n",
            "\n",
            "EPOCH: 2\n"
          ]
        },
        {
          "output_type": "stream",
          "name": "stderr",
          "text": [
            "LR=0.3 Loss=0.05832865461707115 Batch_id=468 Accuracy=98.02: 100%|██████████| 469/469 [00:08<00:00, 54.27it/s]\n"
          ]
        },
        {
          "output_type": "stream",
          "name": "stdout",
          "text": [
            "Test set: Average loss: 0.0445, Accuracy: 9864/10000 (98.64%)\n",
            "\n",
            "EPOCH: 3\n"
          ]
        },
        {
          "output_type": "stream",
          "name": "stderr",
          "text": [
            "LR=0.3 Loss=0.09420225769281387 Batch_id=468 Accuracy=98.20: 100%|██████████| 469/469 [00:08<00:00, 52.60it/s]\n"
          ]
        },
        {
          "output_type": "stream",
          "name": "stdout",
          "text": [
            "Test set: Average loss: 0.0451, Accuracy: 9853/10000 (98.53%)\n",
            "\n",
            "EPOCH: 4\n"
          ]
        },
        {
          "output_type": "stream",
          "name": "stderr",
          "text": [
            "LR=0.3 Loss=0.12450651079416275 Batch_id=468 Accuracy=98.35: 100%|██████████| 469/469 [00:08<00:00, 52.76it/s]\n"
          ]
        },
        {
          "output_type": "stream",
          "name": "stdout",
          "text": [
            "Test set: Average loss: 0.0370, Accuracy: 9876/10000 (98.76%)\n",
            "\n",
            "EPOCH: 5\n"
          ]
        },
        {
          "output_type": "stream",
          "name": "stderr",
          "text": [
            "LR=0.03 Loss=0.035806577652692795 Batch_id=468 Accuracy=98.87: 100%|██████████| 469/469 [00:08<00:00, 54.33it/s]\n"
          ]
        },
        {
          "output_type": "stream",
          "name": "stdout",
          "text": [
            "Test set: Average loss: 0.0218, Accuracy: 9932/10000 (99.32%)\n",
            "\n",
            "EPOCH: 6\n"
          ]
        },
        {
          "output_type": "stream",
          "name": "stderr",
          "text": [
            "LR=0.03 Loss=0.007891904562711716 Batch_id=468 Accuracy=99.02: 100%|██████████| 469/469 [00:08<00:00, 53.47it/s]\n"
          ]
        },
        {
          "output_type": "stream",
          "name": "stdout",
          "text": [
            "Test set: Average loss: 0.0193, Accuracy: 9940/10000 (99.40%)\n",
            "\n",
            "EPOCH: 7\n"
          ]
        },
        {
          "output_type": "stream",
          "name": "stderr",
          "text": [
            "LR=0.03 Loss=0.06673041731119156 Batch_id=468 Accuracy=99.01: 100%|██████████| 469/469 [00:08<00:00, 54.32it/s]\n"
          ]
        },
        {
          "output_type": "stream",
          "name": "stdout",
          "text": [
            "Test set: Average loss: 0.0196, Accuracy: 9946/10000 (99.46%)\n",
            "\n",
            "EPOCH: 8\n"
          ]
        },
        {
          "output_type": "stream",
          "name": "stderr",
          "text": [
            "LR=0.03 Loss=0.021040499210357666 Batch_id=468 Accuracy=99.06: 100%|██████████| 469/469 [00:08<00:00, 54.43it/s]\n"
          ]
        },
        {
          "output_type": "stream",
          "name": "stdout",
          "text": [
            "Test set: Average loss: 0.0196, Accuracy: 9944/10000 (99.44%)\n",
            "\n",
            "EPOCH: 9\n"
          ]
        },
        {
          "output_type": "stream",
          "name": "stderr",
          "text": [
            "LR=0.03 Loss=0.02205500565469265 Batch_id=468 Accuracy=99.08: 100%|██████████| 469/469 [00:08<00:00, 52.93it/s]\n"
          ]
        },
        {
          "output_type": "stream",
          "name": "stdout",
          "text": [
            "Test set: Average loss: 0.0188, Accuracy: 9942/10000 (99.42%)\n",
            "\n",
            "EPOCH: 10\n"
          ]
        },
        {
          "output_type": "stream",
          "name": "stderr",
          "text": [
            "LR=0.003 Loss=0.017695825546979904 Batch_id=468 Accuracy=99.09: 100%|██████████| 469/469 [00:08<00:00, 53.50it/s]\n"
          ]
        },
        {
          "output_type": "stream",
          "name": "stdout",
          "text": [
            "Test set: Average loss: 0.0192, Accuracy: 9943/10000 (99.43%)\n",
            "\n",
            "EPOCH: 11\n"
          ]
        },
        {
          "output_type": "stream",
          "name": "stderr",
          "text": [
            "LR=0.003 Loss=0.08244429528713226 Batch_id=468 Accuracy=99.12: 100%|██████████| 469/469 [00:08<00:00, 53.65it/s]\n"
          ]
        },
        {
          "output_type": "stream",
          "name": "stdout",
          "text": [
            "Test set: Average loss: 0.0191, Accuracy: 9942/10000 (99.42%)\n",
            "\n",
            "EPOCH: 12\n"
          ]
        },
        {
          "output_type": "stream",
          "name": "stderr",
          "text": [
            "LR=0.003 Loss=0.02329874038696289 Batch_id=468 Accuracy=99.07: 100%|██████████| 469/469 [00:08<00:00, 54.19it/s]\n"
          ]
        },
        {
          "output_type": "stream",
          "name": "stdout",
          "text": [
            "Test set: Average loss: 0.0186, Accuracy: 9944/10000 (99.44%)\n",
            "\n",
            "EPOCH: 13\n"
          ]
        },
        {
          "output_type": "stream",
          "name": "stderr",
          "text": [
            "LR=0.003 Loss=0.05110052227973938 Batch_id=468 Accuracy=99.13: 100%|██████████| 469/469 [00:08<00:00, 54.32it/s]\n"
          ]
        },
        {
          "output_type": "stream",
          "name": "stdout",
          "text": [
            "Test set: Average loss: 0.0190, Accuracy: 9939/10000 (99.39%)\n",
            "\n",
            "EPOCH: 14\n"
          ]
        },
        {
          "output_type": "stream",
          "name": "stderr",
          "text": [
            "LR=0.003 Loss=0.035143498331308365 Batch_id=468 Accuracy=99.10: 100%|██████████| 469/469 [00:08<00:00, 53.41it/s]\n"
          ]
        },
        {
          "output_type": "stream",
          "name": "stdout",
          "text": [
            "Test set: Average loss: 0.0186, Accuracy: 9942/10000 (99.42%)\n",
            "\n"
          ]
        }
      ]
    },
    {
      "cell_type": "code",
      "source": [
        "fig, axs = plt.subplots(2,2,figsize=(20,15))\n",
        "axs[0, 0].plot(train_losses)\n",
        "axs[0, 0].set_title(\"Training Loss\")\n",
        "axs[1, 0].plot(train_acc)\n",
        "axs[1, 0].set_title(\"Training Accuracy\")\n",
        "axs[0, 1].plot(test_losses)\n",
        "axs[0, 1].set_title(\"Test Loss\")\n",
        "axs[1, 1].plot(test_acc)\n",
        "axs[1, 1].set_title(\"Test Accuracy\")"
      ],
      "metadata": {
        "id": "qBq0PcQQsnWl",
        "colab": {
          "base_uri": "https://localhost:8080/",
          "height": 897
        },
        "outputId": "b3752f58-52ef-4bb8-ec03-5398d2000f35"
      },
      "execution_count": 59,
      "outputs": [
        {
          "output_type": "execute_result",
          "data": {
            "text/plain": [
              "Text(0.5, 1.0, 'Test Accuracy')"
            ]
          },
          "metadata": {},
          "execution_count": 59
        },
        {
          "output_type": "display_data",
          "data": {
            "text/plain": [
              "<Figure size 1440x1080 with 4 Axes>"
            ],
            "image/png": "[encoded data removed]"
          },
          "metadata": {
            "needs_background": "light"
          }
        }
      ]
    },
    {
      "cell_type": "code",
      "source": [
        "print(\"Minimum training loss = {:.9f}%\".format(min(train_losses)))\n",
        "print(\"Minimum testing loss = {:.9f}%\".format(min(test_losses)))\n",
        "print(\"Best training accuracy = {:.2f}%\".format(max(epoch_train_acc)))\n",
        "print(\"Best testing accuracy = {:.2f}%\".format(max(test_acc)))"
      ],
      "metadata": {
        "id": "28Gk62xsCUDH",
        "colab": {
          "base_uri": "https://localhost:8080/"
        },
        "outputId": "51315332-497f-4e98-b244-7218a4c50fcf"
      },
      "execution_count": 64,
      "outputs": [
        {
          "output_type": "stream",
          "name": "stdout",
          "text": [
            "Minimum training loss = 0.000752655%\n",
            "Minimum testing loss = 0.018634759%\n",
            "Best training accuracy = 99.19%\n",
            "Best testing accuracy = 99.46%\n"
          ]
        }
      ]
    },
    {
      "cell_type": "markdown",
      "source": [
        "\n",
        "# Target:\n",
        "\n",
        "1.  Changed the initial LR and steps for LR scheduler\n",
        "    * Initial LR = 0.3\n",
        "    * steps = 5\n",
        "    * gamma = 0.1\n",
        "2.  Reduced the number of parameters from 13,808 to 7,750\n",
        "\n",
        "# Results:\n",
        "\n",
        "*   Parameters = 7,750\n",
        "*   Best training accuracy = 99.19%\n",
        "*   Best testing accuracy = 99.46%\n",
        "\n",
        "# Analysis:\n",
        "\n",
        "*   Model well within target size, even less than 8,000\n",
        "*   Model is under-fitting as expected.\n",
        "*   We reached our target testing accuracy faster and more consistently\n",
        "    *  99.40% at Epoch 6\n",
        "    *  99.46% at Epoch 7\n",
        "    *  99.44% at Epoch 8\n",
        "    *  99.42% at Epoch 9\n",
        "    *  99.43% at Epoch 10\n",
        "    *  99.42% at Epoch 11\n",
        "    *  99.44% at Epoch 12\n",
        "    *  99.42% at Epoch 14\n",
        "*   Overall testing accuracy is up and we achieved our target during the last 7 epochs. And accuracy overall is high during the later epochs.\n",
        "* Epoch 13 had an accuracy of 99.39%"
      ],
      "metadata": {
        "id": "WP97hgyF7tCp"
      }
    }
  ]
}